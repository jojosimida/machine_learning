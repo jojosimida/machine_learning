{
 "cells": [
  {
   "cell_type": "code",
   "execution_count": 150,
   "metadata": {},
   "outputs": [],
   "source": [
    "import pandas as pd\n",
    "import numpy as np\n",
    "import pickle\n",
    "\n",
    "from keras.models import Sequential\n",
    "from keras.layers import Dense, Dropout, Activation\n",
    "from keras.utils import np_utils\n",
    "from keras.preprocessing.text import one_hot\n",
    "from sklearn.preprocessing import LabelEncoder"
   ]
  },
  {
   "cell_type": "code",
   "execution_count": 151,
   "metadata": {},
   "outputs": [
    {
     "name": "stdout",
     "output_type": "stream",
     "text": [
      "['EAP' 'HPL' 'MWS']\n"
     ]
    },
    {
     "data": {
      "text/plain": [
       "array([[ 1.,  0.,  0.],\n",
       "       [ 0.,  1.,  0.],\n",
       "       [ 1.,  0.,  0.],\n",
       "       ..., \n",
       "       [ 1.,  0.,  0.],\n",
       "       [ 1.,  0.,  0.],\n",
       "       [ 0.,  1.,  0.]])"
      ]
     },
     "execution_count": 151,
     "metadata": {},
     "output_type": "execute_result"
    }
   ],
   "source": [
    "train_df = pd.read_csv('D:/Program/dataset/Spooky_Author_Identification/train.csv')\n",
    "test_df = pd.read_csv('D:/Program/dataset/Spooky_Author_Identification/test.csv')\n",
    "\n",
    "\n",
    "# Label Onehot encoding  \n",
    "\n",
    "le = LabelEncoder()\n",
    "le.fit(train_df['author'])\n",
    "print(le.classes_)\n",
    "\n",
    "y = le.transform(train_df['author'])\n",
    "y_train = np_utils.to_categorical(y)\n",
    "\n",
    "y_train"
   ]
  },
  {
   "cell_type": "code",
   "execution_count": 166,
   "metadata": {},
   "outputs": [
    {
     "data": {
      "text/plain": [
       "(8392, 100)"
      ]
     },
     "execution_count": 166,
     "metadata": {},
     "output_type": "execute_result"
    }
   ],
   "source": [
    "with open('keras_input_train.pkl', 'rb') as f:\n",
    "    sequences = pickle.load(f)\n",
    "with open('keras_input_test.pkl', 'rb') as f:\n",
    "    test_sequences = pickle.load(f)\n",
    "    \n",
    "x_train = sequences\n",
    "x_test = test_sequences\n",
    "x_test.shape"
   ]
  },
  {
   "cell_type": "code",
   "execution_count": 153,
   "metadata": {},
   "outputs": [
    {
     "name": "stdout",
     "output_type": "stream",
     "text": [
      "_________________________________________________________________\n",
      "Layer (type)                 Output Shape              Param #   \n",
      "=================================================================\n",
      "hidden (Dense)               (None, 100)               10100     \n",
      "_________________________________________________________________\n",
      "hidden2 (Dense)              (None, 100)               10100     \n",
      "_________________________________________________________________\n",
      "hidden3 (Dense)              (None, 100)               10100     \n",
      "_________________________________________________________________\n",
      "output (Dense)               (None, 3)                 303       \n",
      "=================================================================\n",
      "Total params: 30,603\n",
      "Trainable params: 30,603\n",
      "Non-trainable params: 0\n",
      "_________________________________________________________________\n"
     ]
    }
   ],
   "source": [
    "model = Sequential() \n",
    "model.add(Dense(units=100,input_shape=(100,),activation=\"relu\",name=\"hidden\"))\n",
    "model.add(Dense(units=100,activation=\"relu\",name=\"hidden2\"))\n",
    "model.add(Dense(units=100,activation=\"relu\",name=\"hidden3\"))\n",
    "model.add(Dense(units=3,activation=\"softmax\",name=\"output\"))\n",
    "model.summary()"
   ]
  },
  {
   "cell_type": "code",
   "execution_count": 154,
   "metadata": {
    "collapsed": true
   },
   "outputs": [],
   "source": [
    "model.compile(loss=\"categorical_crossentropy\",optimizer=\"adam\",metrics=['accuracy'])"
   ]
  },
  {
   "cell_type": "code",
   "execution_count": 155,
   "metadata": {},
   "outputs": [
    {
     "name": "stdout",
     "output_type": "stream",
     "text": [
      "Train on 15663 samples, validate on 3916 samples\n",
      "Epoch 1/50\n",
      "15663/15663 [==============================] - 7s - loss: 0.9857 - acc: 0.5104 - val_loss: 0.9491 - val_acc: 0.5432\n",
      "Epoch 2/50\n",
      "15663/15663 [==============================] - 5s - loss: 0.9294 - acc: 0.5520 - val_loss: 0.9404 - val_acc: 0.5557\n",
      "Epoch 3/50\n",
      "15663/15663 [==============================] - 5s - loss: 0.9037 - acc: 0.5669 - val_loss: 0.9531 - val_acc: 0.5449\n",
      "Epoch 4/50\n",
      "15663/15663 [==============================] - 5s - loss: 0.8747 - acc: 0.5832 - val_loss: 0.9575 - val_acc: 0.5488\n",
      "Epoch 5/50\n",
      "15663/15663 [==============================] - 5s - loss: 0.8452 - acc: 0.6016 - val_loss: 0.9838 - val_acc: 0.5345\n",
      "Epoch 6/50\n",
      "15663/15663 [==============================] - 5s - loss: 0.8119 - acc: 0.6150 - val_loss: 1.0054 - val_acc: 0.5312\n",
      "Epoch 7/50\n",
      "15663/15663 [==============================] - 5s - loss: 0.7758 - acc: 0.6377 - val_loss: 1.0390 - val_acc: 0.5322\n",
      "Epoch 8/50\n",
      "15663/15663 [==============================] - 7s - loss: 0.7461 - acc: 0.6506 - val_loss: 1.0957 - val_acc: 0.5248\n",
      "Epoch 9/50\n",
      "15663/15663 [==============================] - 6s - loss: 0.7137 - acc: 0.6657 - val_loss: 1.1438 - val_acc: 0.5207\n",
      "Epoch 10/50\n",
      "15663/15663 [==============================] - 5s - loss: 0.6900 - acc: 0.6786 - val_loss: 1.2144 - val_acc: 0.5235\n",
      "Epoch 11/50\n",
      "15663/15663 [==============================] - 6s - loss: 0.6622 - acc: 0.6879 - val_loss: 1.2763 - val_acc: 0.5199\n",
      "Epoch 12/50\n",
      "15663/15663 [==============================] - 5s - loss: 0.6398 - acc: 0.6993 - val_loss: 1.3311 - val_acc: 0.5212\n",
      "Epoch 13/50\n",
      "15663/15663 [==============================] - 5s - loss: 0.6245 - acc: 0.7059 - val_loss: 1.3937 - val_acc: 0.5143\n",
      "Epoch 14/50\n",
      "15663/15663 [==============================] - 5s - loss: 0.6065 - acc: 0.7144 - val_loss: 1.4277 - val_acc: 0.5140\n",
      "Epoch 15/50\n",
      "15663/15663 [==============================] - 5s - loss: 0.5947 - acc: 0.7202 - val_loss: 1.5490 - val_acc: 0.5138\n",
      "Epoch 16/50\n",
      "15663/15663 [==============================] - 5s - loss: 0.5804 - acc: 0.7274 - val_loss: 1.5261 - val_acc: 0.5107\n",
      "Epoch 17/50\n",
      "15663/15663 [==============================] - 5s - loss: 0.5753 - acc: 0.7278 - val_loss: 1.5841 - val_acc: 0.5133\n",
      "Epoch 18/50\n",
      "15663/15663 [==============================] - 5s - loss: 0.5663 - acc: 0.7332 - val_loss: 1.6645 - val_acc: 0.5123\n",
      "Epoch 19/50\n",
      "15663/15663 [==============================] - 5s - loss: 0.5573 - acc: 0.7343 - val_loss: 1.7243 - val_acc: 0.5140\n",
      "Epoch 20/50\n",
      "15663/15663 [==============================] - 5s - loss: 0.5461 - acc: 0.7396 - val_loss: 1.7944 - val_acc: 0.5061\n",
      "Epoch 21/50\n",
      "15663/15663 [==============================] - 5s - loss: 0.5433 - acc: 0.7422 - val_loss: 1.8273 - val_acc: 0.5194\n",
      "Epoch 22/50\n",
      "15663/15663 [==============================] - 5s - loss: 0.5431 - acc: 0.7421 - val_loss: 1.8029 - val_acc: 0.5156\n",
      "Epoch 23/50\n",
      "15663/15663 [==============================] - 5s - loss: 0.5290 - acc: 0.7469 - val_loss: 1.8670 - val_acc: 0.5138\n",
      "Epoch 24/50\n",
      "15663/15663 [==============================] - 5s - loss: 0.5293 - acc: 0.7457 - val_loss: 1.8902 - val_acc: 0.5120\n",
      "Epoch 25/50\n",
      "15663/15663 [==============================] - 5s - loss: 0.5375 - acc: 0.7414 - val_loss: 1.9124 - val_acc: 0.5110\n",
      "Epoch 26/50\n",
      "15663/15663 [==============================] - 5s - loss: 0.5197 - acc: 0.7514 - val_loss: 1.9080 - val_acc: 0.5105\n",
      "Epoch 27/50\n",
      "15663/15663 [==============================] - 5s - loss: 0.5170 - acc: 0.7509 - val_loss: 1.9738 - val_acc: 0.5115\n",
      "Epoch 28/50\n",
      "15663/15663 [==============================] - 5s - loss: 0.5171 - acc: 0.7500 - val_loss: 1.9113 - val_acc: 0.5051\n",
      "Epoch 29/50\n",
      "15663/15663 [==============================] - 5s - loss: 0.5174 - acc: 0.7497 - val_loss: 2.0200 - val_acc: 0.5015\n",
      "Epoch 30/50\n",
      "15663/15663 [==============================] - 5s - loss: 0.5198 - acc: 0.7503 - val_loss: 2.1019 - val_acc: 0.5061\n",
      "Epoch 31/50\n",
      "15663/15663 [==============================] - 5s - loss: 0.5120 - acc: 0.7533 - val_loss: 2.0602 - val_acc: 0.5100\n",
      "Epoch 32/50\n",
      "15663/15663 [==============================] - 5s - loss: 0.5014 - acc: 0.7573 - val_loss: 2.0899 - val_acc: 0.5138\n",
      "Epoch 33/50\n",
      "15663/15663 [==============================] - 5s - loss: 0.5005 - acc: 0.7569 - val_loss: 2.1512 - val_acc: 0.5066\n",
      "Epoch 34/50\n",
      "15663/15663 [==============================] - 5s - loss: 0.5182 - acc: 0.7492 - val_loss: 2.1408 - val_acc: 0.5112\n",
      "Epoch 35/50\n",
      "15663/15663 [==============================] - 5s - loss: 0.4990 - acc: 0.7574 - val_loss: 2.1093 - val_acc: 0.5043\n",
      "Epoch 36/50\n",
      "15663/15663 [==============================] - 5s - loss: 0.4918 - acc: 0.7592 - val_loss: 2.2078 - val_acc: 0.5123\n",
      "Epoch 37/50\n",
      "15663/15663 [==============================] - 5s - loss: 0.4952 - acc: 0.7592 - val_loss: 2.1819 - val_acc: 0.5041\n",
      "Epoch 38/50\n",
      "15663/15663 [==============================] - 5s - loss: 0.4975 - acc: 0.7585 - val_loss: 2.2281 - val_acc: 0.5054\n",
      "Epoch 39/50\n",
      "15663/15663 [==============================] - 5s - loss: 0.5021 - acc: 0.7562 - val_loss: 2.2783 - val_acc: 0.5115\n",
      "Epoch 40/50\n",
      "15663/15663 [==============================] - 5s - loss: 0.5050 - acc: 0.7562 - val_loss: 2.2619 - val_acc: 0.5056\n",
      "Epoch 41/50\n",
      "15663/15663 [==============================] - 5s - loss: 0.4972 - acc: 0.7574 - val_loss: 2.2385 - val_acc: 0.5102\n",
      "Epoch 42/50\n",
      "15663/15663 [==============================] - 5s - loss: 0.4827 - acc: 0.7632 - val_loss: 2.2968 - val_acc: 0.5110\n",
      "Epoch 43/50\n",
      "15663/15663 [==============================] - 5s - loss: 0.4863 - acc: 0.7609 - val_loss: 2.2927 - val_acc: 0.5074\n",
      "Epoch 44/50\n",
      "15663/15663 [==============================] - 5s - loss: 0.4954 - acc: 0.7572 - val_loss: 2.2466 - val_acc: 0.5110\n",
      "Epoch 45/50\n",
      "15663/15663 [==============================] - 5s - loss: 0.4899 - acc: 0.7608 - val_loss: 2.3661 - val_acc: 0.5092\n",
      "Epoch 46/50\n",
      "15663/15663 [==============================] - 5s - loss: 0.4899 - acc: 0.7603 - val_loss: 2.3873 - val_acc: 0.5059\n",
      "Epoch 47/50\n",
      "15663/15663 [==============================] - 5s - loss: 0.4872 - acc: 0.7612 - val_loss: 2.4273 - val_acc: 0.5094\n",
      "Epoch 48/50\n",
      "15663/15663 [==============================] - 5s - loss: 0.4854 - acc: 0.7619 - val_loss: 2.3204 - val_acc: 0.5107\n",
      "Epoch 49/50\n",
      "15663/15663 [==============================] - 5s - loss: 0.4816 - acc: 0.7620 - val_loss: 2.4203 - val_acc: 0.5069\n",
      "Epoch 50/50\n",
      "15663/15663 [==============================] - 5s - loss: 0.4865 - acc: 0.7594 - val_loss: 2.3864 - val_acc: 0.5026\n"
     ]
    }
   ],
   "source": [
    "train_history = model.fit(x_train, y_train, validation_split=0.2, epochs=50, batch_size=20, verbose=1)"
   ]
  },
  {
   "cell_type": "code",
   "execution_count": 158,
   "metadata": {},
   "outputs": [
    {
     "name": "stdout",
     "output_type": "stream",
     "text": [
      "19040/19579 [============================>.] - ETA: 0s\n",
      "[0.84892199458235207, 0.71913785176474676]\n"
     ]
    }
   ],
   "source": [
    "scores = model.evaluate(x_train, y_train)  \n",
    "print()\n",
    "print(scores)"
   ]
  },
  {
   "cell_type": "code",
   "execution_count": 168,
   "metadata": {},
   "outputs": [
    {
     "name": "stdout",
     "output_type": "stream",
     "text": [
      "\n",
      "Show 10 prediction result :\n",
      "[[  7.81134844e-01   1.66332573e-01   5.25325499e-02]\n",
      " [  8.76182795e-01   1.34306829e-02   1.10386498e-01]\n",
      " [  9.01210085e-02   9.08059478e-01   1.81956694e-03]\n",
      " [  1.05808917e-02   9.89417732e-01   1.36821950e-06]\n",
      " [  4.41812903e-01   1.72122553e-01   3.86064529e-01]\n",
      " [  4.53834593e-01   2.30593830e-01   3.15571606e-01]\n",
      " [  5.86507261e-01   3.61998767e-01   5.14939427e-02]\n",
      " [  1.16980942e-02   1.68732717e-03   9.86614645e-01]\n",
      " [  9.86152768e-01   1.38472561e-02   1.30533139e-12]\n",
      " [  4.96377081e-01   2.52849519e-01   2.50773311e-01]]\n",
      "(8392, 3)\n"
     ]
    }
   ],
   "source": [
    "prediction = model.predict(x_test)\n",
    "print()\n",
    "print(\"Show 10 prediction result :\")  \n",
    "print(prediction[:10])\n",
    "print(prediction.shape)"
   ]
  },
  {
   "cell_type": "code",
   "execution_count": 169,
   "metadata": {},
   "outputs": [
    {
     "data": {
      "text/html": [
       "<div>\n",
       "<style>\n",
       "    .dataframe thead tr:only-child th {\n",
       "        text-align: right;\n",
       "    }\n",
       "\n",
       "    .dataframe thead th {\n",
       "        text-align: left;\n",
       "    }\n",
       "\n",
       "    .dataframe tbody tr th {\n",
       "        vertical-align: top;\n",
       "    }\n",
       "</style>\n",
       "<table border=\"1\" class=\"dataframe\">\n",
       "  <thead>\n",
       "    <tr style=\"text-align: right;\">\n",
       "      <th></th>\n",
       "      <th>id</th>\n",
       "      <th>EAP</th>\n",
       "      <th>HPL</th>\n",
       "      <th>MWS</th>\n",
       "    </tr>\n",
       "  </thead>\n",
       "  <tbody>\n",
       "    <tr>\n",
       "      <th>0</th>\n",
       "      <td>id02310</td>\n",
       "      <td>0.781135</td>\n",
       "      <td>0.166333</td>\n",
       "      <td>0.052533</td>\n",
       "    </tr>\n",
       "    <tr>\n",
       "      <th>1</th>\n",
       "      <td>id24541</td>\n",
       "      <td>0.876183</td>\n",
       "      <td>0.013431</td>\n",
       "      <td>0.110386</td>\n",
       "    </tr>\n",
       "    <tr>\n",
       "      <th>2</th>\n",
       "      <td>id00134</td>\n",
       "      <td>0.090121</td>\n",
       "      <td>0.908059</td>\n",
       "      <td>0.001820</td>\n",
       "    </tr>\n",
       "    <tr>\n",
       "      <th>3</th>\n",
       "      <td>id27757</td>\n",
       "      <td>0.010581</td>\n",
       "      <td>0.989418</td>\n",
       "      <td>0.000001</td>\n",
       "    </tr>\n",
       "    <tr>\n",
       "      <th>4</th>\n",
       "      <td>id04081</td>\n",
       "      <td>0.441813</td>\n",
       "      <td>0.172123</td>\n",
       "      <td>0.386065</td>\n",
       "    </tr>\n",
       "  </tbody>\n",
       "</table>\n",
       "</div>"
      ],
      "text/plain": [
       "        id       EAP       HPL       MWS\n",
       "0  id02310  0.781135  0.166333  0.052533\n",
       "1  id24541  0.876183  0.013431  0.110386\n",
       "2  id00134  0.090121  0.908059  0.001820\n",
       "3  id27757  0.010581  0.989418  0.000001\n",
       "4  id04081  0.441813  0.172123  0.386065"
      ]
     },
     "execution_count": 169,
     "metadata": {},
     "output_type": "execute_result"
    }
   ],
   "source": [
    "# submission\n",
    "\n",
    "submission = pd.DataFrame(prediction, columns=le.classes_)\n",
    "submission[\"id\"] = test_df[\"id\"]\n",
    "cols = submission.columns.tolist()\n",
    "cols = cols[-1:]+cols[:-1]\n",
    "submission = submission[cols]\n",
    "submission.head()"
   ]
  },
  {
   "cell_type": "code",
   "execution_count": 170,
   "metadata": {
    "collapsed": true
   },
   "outputs": [],
   "source": [
    "submission.to_csv('submission.csv',index=False)"
   ]
  },
  {
   "cell_type": "code",
   "execution_count": 156,
   "metadata": {
    "collapsed": true
   },
   "outputs": [],
   "source": []
  },
  {
   "cell_type": "code",
   "execution_count": 157,
   "metadata": {
    "collapsed": true
   },
   "outputs": [],
   "source": []
  }
 ],
 "metadata": {
  "kernelspec": {
   "display_name": "Python 3",
   "language": "python",
   "name": "python3"
  },
  "language_info": {
   "codemirror_mode": {
    "name": "ipython",
    "version": 3
   },
   "file_extension": ".py",
   "mimetype": "text/x-python",
   "name": "python",
   "nbconvert_exporter": "python",
   "pygments_lexer": "ipython3",
   "version": "3.6.2"
  }
 },
 "nbformat": 4,
 "nbformat_minor": 2
}
