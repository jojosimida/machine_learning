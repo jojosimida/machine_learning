{
 "cells": [
  {
   "cell_type": "code",
   "execution_count": 14,
   "metadata": {},
   "outputs": [],
   "source": [
    "import pandas as pd\n",
    "import numpy as np\n",
    "import pickle\n",
    "\n",
    "from keras.models import Sequential\n",
    "from keras.layers import Dense, Dropout, Activation\n",
    "from keras.utils import np_utils\n",
    "from keras.preprocessing.text import one_hot\n",
    "from sklearn.preprocessing import LabelEncoder\n",
    "from keras.regularizers import l1,l2"
   ]
  },
  {
   "cell_type": "code",
   "execution_count": 15,
   "metadata": {},
   "outputs": [
    {
     "name": "stdout",
     "output_type": "stream",
     "text": [
      "['EAP' 'HPL' 'MWS']\n"
     ]
    },
    {
     "data": {
      "text/plain": [
       "array([[ 1.,  0.,  0.],\n",
       "       [ 0.,  1.,  0.],\n",
       "       [ 1.,  0.,  0.],\n",
       "       ..., \n",
       "       [ 1.,  0.,  0.],\n",
       "       [ 1.,  0.,  0.],\n",
       "       [ 0.,  1.,  0.]])"
      ]
     },
     "execution_count": 15,
     "metadata": {},
     "output_type": "execute_result"
    }
   ],
   "source": [
    "train_df = pd.read_csv('D:/Program/dataset/Spooky_Author_Identification/train.csv')\n",
    "test_df = pd.read_csv('D:/Program/dataset/Spooky_Author_Identification/test.csv')\n",
    "\n",
    "\n",
    "# Label Onehot encoding  \n",
    "\n",
    "le = LabelEncoder()\n",
    "le.fit(train_df['author'])\n",
    "print(le.classes_)\n",
    "\n",
    "y = le.transform(train_df['author'])\n",
    "y_train = np_utils.to_categorical(y)\n",
    "\n",
    "y_train"
   ]
  },
  {
   "cell_type": "code",
   "execution_count": 16,
   "metadata": {},
   "outputs": [
    {
     "name": "stdout",
     "output_type": "stream",
     "text": [
      "(19579, 24992)\n",
      "(8392, 24992)\n"
     ]
    }
   ],
   "source": [
    "with open('keras_input_train.pkl', 'rb') as f:\n",
    "    sequences = pickle.load(f)\n",
    "with open('keras_input_test.pkl', 'rb') as f:\n",
    "    test_sequences = pickle.load(f)\n",
    "    \n",
    "x_train = sequences\n",
    "x_test = test_sequences\n",
    "\n",
    "print(x_train.shape)\n",
    "print(x_test.shape)"
   ]
  },
  {
   "cell_type": "code",
   "execution_count": 40,
   "metadata": {},
   "outputs": [
    {
     "name": "stdout",
     "output_type": "stream",
     "text": [
      "_________________________________________________________________\n",
      "Layer (type)                 Output Shape              Param #   \n",
      "=================================================================\n",
      "hidden (Dense)               (None, 200)               4998600   \n",
      "_________________________________________________________________\n",
      "dropout_1 (Dropout)          (None, 200)               0         \n",
      "_________________________________________________________________\n",
      "hidden2 (Dense)              (None, 200)               40200     \n",
      "_________________________________________________________________\n",
      "dropout_2 (Dropout)          (None, 200)               0         \n",
      "_________________________________________________________________\n",
      "hidden3 (Dense)              (None, 200)               40200     \n",
      "_________________________________________________________________\n",
      "dropout_3 (Dropout)          (None, 200)               0         \n",
      "_________________________________________________________________\n",
      "output (Dense)               (None, 3)                 603       \n",
      "=================================================================\n",
      "Total params: 5,079,603\n",
      "Trainable params: 5,079,603\n",
      "Non-trainable params: 0\n",
      "_________________________________________________________________\n"
     ]
    }
   ],
   "source": [
    "model = Sequential() \n",
    "\n",
    "# use regularizer to avoid overfitting\n",
    "model.add(Dense(units=200,input_shape=(x_train.shape[1],),activation=\"relu\",kernel_regularizer=l2(0.00001),\n",
    "                activity_regularizer=l1(0.0001), name=\"hidden\"))\n",
    "model.add(Dropout(0.2))\n",
    "\n",
    "model.add(Dense(units=200,activation=\"relu\",kernel_regularizer=l2(0.00001),\n",
    "                activity_regularizer=l1(0.0001),name=\"hidden2\"))\n",
    "model.add(Dropout(0.2))\n",
    "\n",
    "model.add(Dense(units=200,activation=\"relu\",kernel_regularizer=l2(0.00001),\n",
    "                activity_regularizer=l1(0.0001),name=\"hidden3\"))\n",
    "model.add(Dropout(0.2))\n",
    "\n",
    "model.add(Dense(units=3,activation=\"softmax\",name=\"output\"))\n",
    "model.summary()"
   ]
  },
  {
   "cell_type": "code",
   "execution_count": 41,
   "metadata": {
    "collapsed": true
   },
   "outputs": [],
   "source": [
    "model.compile(loss=\"categorical_crossentropy\",optimizer=\"adam\",metrics=['accuracy'])"
   ]
  },
  {
   "cell_type": "code",
   "execution_count": 42,
   "metadata": {},
   "outputs": [
    {
     "name": "stdout",
     "output_type": "stream",
     "text": [
      "Train on 15663 samples, validate on 3916 samples\n",
      "Epoch 1/5\n",
      "15663/15663 [==============================] - 28s - loss: 0.6798 - acc: 0.7221 - val_loss: 0.5184 - val_acc: 0.8141\n",
      "Epoch 2/5\n",
      "15663/15663 [==============================] - 24s - loss: 0.2614 - acc: 0.9257 - val_loss: 0.5565 - val_acc: 0.8052\n",
      "Epoch 3/5\n",
      "15663/15663 [==============================] - 24s - loss: 0.1138 - acc: 0.9811 - val_loss: 0.6619 - val_acc: 0.8023\n",
      "Epoch 4/5\n",
      "15663/15663 [==============================] - 23s - loss: 0.0690 - acc: 0.9927 - val_loss: 0.7341 - val_acc: 0.7970\n",
      "Epoch 5/5\n",
      "15663/15663 [==============================] - 25s - loss: 0.0524 - acc: 0.9969 - val_loss: 0.7986 - val_acc: 0.7893\n"
     ]
    }
   ],
   "source": [
    "# Input must be dense matrix, so use \".todense()\". \n",
    "# The input type is <class 'scipy.sparse.csr.csr_matrix'>\n",
    "train_history = model.fit(x_train.todense(), y_train, validation_split=0.2, epochs=5, batch_size=20, verbose=1)"
   ]
  },
  {
   "cell_type": "code",
   "execution_count": 43,
   "metadata": {},
   "outputs": [
    {
     "name": "stdout",
     "output_type": "stream",
     "text": [
      "19520/19579 [============================>.] - ETA: 0s\n",
      "[0.2084850277925781, 0.95658613822757177]\n"
     ]
    }
   ],
   "source": [
    "scores = model.evaluate(x_train.todense(), y_train)  \n",
    "print()\n",
    "print(scores)"
   ]
  },
  {
   "cell_type": "code",
   "execution_count": 44,
   "metadata": {},
   "outputs": [
    {
     "name": "stdout",
     "output_type": "stream",
     "text": [
      "\n",
      "Show 10 prediction result :\n",
      "[[  1.54014537e-03   1.06270122e-03   9.97397184e-01]\n",
      " [  9.94073212e-01   3.16292769e-03   2.76380521e-03]\n",
      " [  9.48968232e-01   4.24261577e-02   8.60555284e-03]\n",
      " [  9.29553509e-01   6.33916557e-02   7.05479272e-03]\n",
      " [  9.93693471e-01   2.83501716e-03   3.47146275e-03]\n",
      " [  8.38207185e-01   1.38528273e-01   2.32645106e-02]\n",
      " [  9.61651802e-01   3.19257788e-02   6.42235996e-03]\n",
      " [  5.11639230e-02   3.18004727e-01   6.30831361e-01]\n",
      " [  9.99853253e-01   6.82993777e-05   7.84516160e-05]\n",
      " [  9.97769117e-01   1.08538358e-03   1.14556402e-03]]\n",
      "(8392, 3)\n",
      "Wall time: 4.64 s\n"
     ]
    }
   ],
   "source": [
    "%%time\n",
    "prediction = model.predict(x_test.todense())\n",
    "print()\n",
    "print(\"Show 10 prediction result :\")  \n",
    "print(prediction[:10])\n",
    "print(prediction.shape)"
   ]
  },
  {
   "cell_type": "code",
   "execution_count": 45,
   "metadata": {},
   "outputs": [
    {
     "data": {
      "text/html": [
       "<div>\n",
       "<style>\n",
       "    .dataframe thead tr:only-child th {\n",
       "        text-align: right;\n",
       "    }\n",
       "\n",
       "    .dataframe thead th {\n",
       "        text-align: left;\n",
       "    }\n",
       "\n",
       "    .dataframe tbody tr th {\n",
       "        vertical-align: top;\n",
       "    }\n",
       "</style>\n",
       "<table border=\"1\" class=\"dataframe\">\n",
       "  <thead>\n",
       "    <tr style=\"text-align: right;\">\n",
       "      <th></th>\n",
       "      <th>id</th>\n",
       "      <th>EAP</th>\n",
       "      <th>HPL</th>\n",
       "      <th>MWS</th>\n",
       "    </tr>\n",
       "  </thead>\n",
       "  <tbody>\n",
       "    <tr>\n",
       "      <th>0</th>\n",
       "      <td>id02310</td>\n",
       "      <td>0.001540</td>\n",
       "      <td>0.001063</td>\n",
       "      <td>0.997397</td>\n",
       "    </tr>\n",
       "    <tr>\n",
       "      <th>1</th>\n",
       "      <td>id24541</td>\n",
       "      <td>0.994073</td>\n",
       "      <td>0.003163</td>\n",
       "      <td>0.002764</td>\n",
       "    </tr>\n",
       "    <tr>\n",
       "      <th>2</th>\n",
       "      <td>id00134</td>\n",
       "      <td>0.948968</td>\n",
       "      <td>0.042426</td>\n",
       "      <td>0.008606</td>\n",
       "    </tr>\n",
       "    <tr>\n",
       "      <th>3</th>\n",
       "      <td>id27757</td>\n",
       "      <td>0.929554</td>\n",
       "      <td>0.063392</td>\n",
       "      <td>0.007055</td>\n",
       "    </tr>\n",
       "    <tr>\n",
       "      <th>4</th>\n",
       "      <td>id04081</td>\n",
       "      <td>0.993693</td>\n",
       "      <td>0.002835</td>\n",
       "      <td>0.003471</td>\n",
       "    </tr>\n",
       "    <tr>\n",
       "      <th>5</th>\n",
       "      <td>id27337</td>\n",
       "      <td>0.838207</td>\n",
       "      <td>0.138528</td>\n",
       "      <td>0.023265</td>\n",
       "    </tr>\n",
       "    <tr>\n",
       "      <th>6</th>\n",
       "      <td>id24265</td>\n",
       "      <td>0.961652</td>\n",
       "      <td>0.031926</td>\n",
       "      <td>0.006422</td>\n",
       "    </tr>\n",
       "    <tr>\n",
       "      <th>7</th>\n",
       "      <td>id25917</td>\n",
       "      <td>0.051164</td>\n",
       "      <td>0.318005</td>\n",
       "      <td>0.630831</td>\n",
       "    </tr>\n",
       "    <tr>\n",
       "      <th>8</th>\n",
       "      <td>id04951</td>\n",
       "      <td>0.999853</td>\n",
       "      <td>0.000068</td>\n",
       "      <td>0.000078</td>\n",
       "    </tr>\n",
       "    <tr>\n",
       "      <th>9</th>\n",
       "      <td>id14549</td>\n",
       "      <td>0.997769</td>\n",
       "      <td>0.001085</td>\n",
       "      <td>0.001146</td>\n",
       "    </tr>\n",
       "  </tbody>\n",
       "</table>\n",
       "</div>"
      ],
      "text/plain": [
       "        id       EAP       HPL       MWS\n",
       "0  id02310  0.001540  0.001063  0.997397\n",
       "1  id24541  0.994073  0.003163  0.002764\n",
       "2  id00134  0.948968  0.042426  0.008606\n",
       "3  id27757  0.929554  0.063392  0.007055\n",
       "4  id04081  0.993693  0.002835  0.003471\n",
       "5  id27337  0.838207  0.138528  0.023265\n",
       "6  id24265  0.961652  0.031926  0.006422\n",
       "7  id25917  0.051164  0.318005  0.630831\n",
       "8  id04951  0.999853  0.000068  0.000078\n",
       "9  id14549  0.997769  0.001085  0.001146"
      ]
     },
     "execution_count": 45,
     "metadata": {},
     "output_type": "execute_result"
    }
   ],
   "source": [
    "# submission\n",
    "\n",
    "submission = pd.DataFrame(prediction, columns=le.classes_)\n",
    "submission[\"id\"] = test_df[\"id\"]\n",
    "cols = submission.columns.tolist()\n",
    "cols = cols[-1:]+cols[:-1]\n",
    "submission = submission[cols]\n",
    "submission.head(10)"
   ]
  },
  {
   "cell_type": "code",
   "execution_count": 46,
   "metadata": {
    "collapsed": true
   },
   "outputs": [],
   "source": [
    "submission.to_csv('submission_NN.csv',index=False)"
   ]
  },
  {
   "cell_type": "code",
   "execution_count": null,
   "metadata": {
    "collapsed": true
   },
   "outputs": [],
   "source": []
  },
  {
   "cell_type": "code",
   "execution_count": null,
   "metadata": {
    "collapsed": true
   },
   "outputs": [],
   "source": []
  }
 ],
 "metadata": {
  "kernelspec": {
   "display_name": "Python 3",
   "language": "python",
   "name": "python3"
  },
  "language_info": {
   "codemirror_mode": {
    "name": "ipython",
    "version": 3
   },
   "file_extension": ".py",
   "mimetype": "text/x-python",
   "name": "python",
   "nbconvert_exporter": "python",
   "pygments_lexer": "ipython3",
   "version": "3.6.2"
  }
 },
 "nbformat": 4,
 "nbformat_minor": 2
}
