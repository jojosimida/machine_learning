{
 "cells": [
  {
   "cell_type": "code",
   "execution_count": 54,
   "metadata": {
    "collapsed": true
   },
   "outputs": [],
   "source": [
    "import pandas as pd\n",
    "import numpy as np\n",
    "import pickle\n",
    "\n",
    "from keras.models import Sequential\n",
    "from keras.layers import Dense, Dropout, Activation\n",
    "from keras.utils import np_utils\n",
    "from keras.preprocessing.text import one_hot\n",
    "from sklearn.preprocessing import LabelEncoder"
   ]
  },
  {
   "cell_type": "code",
   "execution_count": 55,
   "metadata": {},
   "outputs": [
    {
     "name": "stdout",
     "output_type": "stream",
     "text": [
      "['EAP' 'HPL' 'MWS']\n"
     ]
    },
    {
     "data": {
      "text/plain": [
       "array([[ 1.,  0.,  0.],\n",
       "       [ 0.,  1.,  0.],\n",
       "       [ 1.,  0.,  0.],\n",
       "       ..., \n",
       "       [ 1.,  0.,  0.],\n",
       "       [ 1.,  0.,  0.],\n",
       "       [ 0.,  1.,  0.]])"
      ]
     },
     "execution_count": 55,
     "metadata": {},
     "output_type": "execute_result"
    }
   ],
   "source": [
    "train_df = pd.read_csv('D:/Program/dataset/Spooky_Author_Identification/train.csv')\n",
    "test_df = pd.read_csv('D:/Program/dataset/Spooky_Author_Identification/test.csv')\n",
    "\n",
    "\n",
    "# Label Onehot encoding  \n",
    "\n",
    "le = LabelEncoder()\n",
    "le.fit(train_df['author'])\n",
    "print(le.classes_)\n",
    "\n",
    "y = le.transform(train_df['author'])\n",
    "y_train = np_utils.to_categorical(y)\n",
    "\n",
    "y_train"
   ]
  },
  {
   "cell_type": "code",
   "execution_count": 56,
   "metadata": {},
   "outputs": [
    {
     "name": "stdout",
     "output_type": "stream",
     "text": [
      "(19579, 25068)\n",
      "(8392, 25068)\n"
     ]
    }
   ],
   "source": [
    "with open('keras_input_train.pkl', 'rb') as f:\n",
    "    sequences = pickle.load(f)\n",
    "with open('keras_input_test.pkl', 'rb') as f:\n",
    "    test_sequences = pickle.load(f)\n",
    "    \n",
    "x_train = sequences\n",
    "x_test = test_sequences\n",
    "\n",
    "print(x_train.shape)\n",
    "print(x_test.shape)"
   ]
  },
  {
   "cell_type": "code",
   "execution_count": 57,
   "metadata": {},
   "outputs": [
    {
     "name": "stdout",
     "output_type": "stream",
     "text": [
      "_________________________________________________________________\n",
      "Layer (type)                 Output Shape              Param #   \n",
      "=================================================================\n",
      "hidden (Dense)               (None, 200)               5013800   \n",
      "_________________________________________________________________\n",
      "hidden2 (Dense)              (None, 200)               40200     \n",
      "_________________________________________________________________\n",
      "hidden3 (Dense)              (None, 200)               40200     \n",
      "_________________________________________________________________\n",
      "output (Dense)               (None, 3)                 603       \n",
      "=================================================================\n",
      "Total params: 5,094,803\n",
      "Trainable params: 5,094,803\n",
      "Non-trainable params: 0\n",
      "_________________________________________________________________\n"
     ]
    }
   ],
   "source": [
    "model = Sequential() \n",
    "model.add(Dense(units=200,input_shape=(x_train.shape[1],),activation=\"relu\",name=\"hidden\"))\n",
    "model.add(Dense(units=200,activation=\"relu\",name=\"hidden2\"))\n",
    "model.add(Dense(units=200,activation=\"relu\",name=\"hidden3\"))\n",
    "model.add(Dense(units=3,activation=\"softmax\",name=\"output\"))\n",
    "model.summary()"
   ]
  },
  {
   "cell_type": "code",
   "execution_count": 58,
   "metadata": {
    "collapsed": true
   },
   "outputs": [],
   "source": [
    "model.compile(loss=\"categorical_crossentropy\",optimizer=\"adam\",metrics=['accuracy'])"
   ]
  },
  {
   "cell_type": "code",
   "execution_count": 59,
   "metadata": {},
   "outputs": [
    {
     "name": "stdout",
     "output_type": "stream",
     "text": [
      "Train on 15663 samples, validate on 3916 samples\n",
      "Epoch 1/5\n",
      "15663/15663 [==============================] - 20s - loss: 0.5491 - acc: 0.7730 - val_loss: 0.4080 - val_acc: 0.8389\n",
      "Epoch 2/5\n",
      "15663/15663 [==============================] - 18s - loss: 0.1357 - acc: 0.9505 - val_loss: 0.5507 - val_acc: 0.8215\n",
      "Epoch 3/5\n",
      "15663/15663 [==============================] - 18s - loss: 0.0328 - acc: 0.9887 - val_loss: 0.7377 - val_acc: 0.8317\n",
      "Epoch 4/5\n",
      "15663/15663 [==============================] - 18s - loss: 0.0079 - acc: 0.9976 - val_loss: 0.8848 - val_acc: 0.8266\n",
      "Epoch 5/5\n",
      "15663/15663 [==============================] - 18s - loss: 0.0027 - acc: 0.9992 - val_loss: 1.0769 - val_acc: 0.8274\n"
     ]
    }
   ],
   "source": [
    "# Input must be dense matrix, so use \".todense()\". \n",
    "# The input type is <class 'scipy.sparse.csr.csr_matrix'>\n",
    "train_history = model.fit(x_train.todense(), y_train, validation_split=0.2, epochs=5, batch_size=20, verbose=1)"
   ]
  },
  {
   "cell_type": "code",
   "execution_count": 60,
   "metadata": {},
   "outputs": [
    {
     "name": "stdout",
     "output_type": "stream",
     "text": [
      "19552/19579 [============================>.] - ETA: 0s\n",
      "[0.2165531121138474, 0.96511568516071211]\n"
     ]
    }
   ],
   "source": [
    "scores = model.evaluate(x_train.todense(), y_train)  \n",
    "print()\n",
    "print(scores)"
   ]
  },
  {
   "cell_type": "code",
   "execution_count": 61,
   "metadata": {},
   "outputs": [
    {
     "name": "stdout",
     "output_type": "stream",
     "text": [
      "\n",
      "Show 10 prediction result :\n",
      "[[  3.01727996e-04   1.76775120e-05   9.99680638e-01]\n",
      " [  1.00000000e+00   6.48853193e-09   9.70381220e-10]\n",
      " [  3.18958424e-04   9.99663949e-01   1.69844243e-05]\n",
      " [  9.99985218e-01   1.47614037e-05   1.25481963e-08]\n",
      " [  9.99953747e-01   3.40093502e-05   1.23074478e-05]\n",
      " [  9.99070585e-01   9.29360976e-04   1.27822830e-07]\n",
      " [  9.99671221e-01   1.51088549e-04   1.77640512e-04]\n",
      " [  6.76922619e-01   1.74331978e-01   1.48745343e-01]\n",
      " [  1.00000000e+00   2.24265949e-16   5.74485538e-18]\n",
      " [  9.99999881e-01   1.62129083e-08   1.76212225e-07]]\n",
      "(8392, 3)\n",
      "Wall time: 3.73 s\n"
     ]
    }
   ],
   "source": [
    "%%time\n",
    "prediction = model.predict(x_test.todense())\n",
    "print()\n",
    "print(\"Show 10 prediction result :\")  \n",
    "print(prediction[:10])\n",
    "print(prediction.shape)"
   ]
  },
  {
   "cell_type": "code",
   "execution_count": 62,
   "metadata": {},
   "outputs": [
    {
     "data": {
      "text/html": [
       "<div>\n",
       "<style>\n",
       "    .dataframe thead tr:only-child th {\n",
       "        text-align: right;\n",
       "    }\n",
       "\n",
       "    .dataframe thead th {\n",
       "        text-align: left;\n",
       "    }\n",
       "\n",
       "    .dataframe tbody tr th {\n",
       "        vertical-align: top;\n",
       "    }\n",
       "</style>\n",
       "<table border=\"1\" class=\"dataframe\">\n",
       "  <thead>\n",
       "    <tr style=\"text-align: right;\">\n",
       "      <th></th>\n",
       "      <th>id</th>\n",
       "      <th>EAP</th>\n",
       "      <th>HPL</th>\n",
       "      <th>MWS</th>\n",
       "    </tr>\n",
       "  </thead>\n",
       "  <tbody>\n",
       "    <tr>\n",
       "      <th>0</th>\n",
       "      <td>id02310</td>\n",
       "      <td>0.000302</td>\n",
       "      <td>1.767751e-05</td>\n",
       "      <td>9.996806e-01</td>\n",
       "    </tr>\n",
       "    <tr>\n",
       "      <th>1</th>\n",
       "      <td>id24541</td>\n",
       "      <td>1.000000</td>\n",
       "      <td>6.488532e-09</td>\n",
       "      <td>9.703812e-10</td>\n",
       "    </tr>\n",
       "    <tr>\n",
       "      <th>2</th>\n",
       "      <td>id00134</td>\n",
       "      <td>0.000319</td>\n",
       "      <td>9.996639e-01</td>\n",
       "      <td>1.698442e-05</td>\n",
       "    </tr>\n",
       "    <tr>\n",
       "      <th>3</th>\n",
       "      <td>id27757</td>\n",
       "      <td>0.999985</td>\n",
       "      <td>1.476140e-05</td>\n",
       "      <td>1.254820e-08</td>\n",
       "    </tr>\n",
       "    <tr>\n",
       "      <th>4</th>\n",
       "      <td>id04081</td>\n",
       "      <td>0.999954</td>\n",
       "      <td>3.400935e-05</td>\n",
       "      <td>1.230745e-05</td>\n",
       "    </tr>\n",
       "    <tr>\n",
       "      <th>5</th>\n",
       "      <td>id27337</td>\n",
       "      <td>0.999071</td>\n",
       "      <td>9.293610e-04</td>\n",
       "      <td>1.278228e-07</td>\n",
       "    </tr>\n",
       "    <tr>\n",
       "      <th>6</th>\n",
       "      <td>id24265</td>\n",
       "      <td>0.999671</td>\n",
       "      <td>1.510885e-04</td>\n",
       "      <td>1.776405e-04</td>\n",
       "    </tr>\n",
       "    <tr>\n",
       "      <th>7</th>\n",
       "      <td>id25917</td>\n",
       "      <td>0.676923</td>\n",
       "      <td>1.743320e-01</td>\n",
       "      <td>1.487453e-01</td>\n",
       "    </tr>\n",
       "    <tr>\n",
       "      <th>8</th>\n",
       "      <td>id04951</td>\n",
       "      <td>1.000000</td>\n",
       "      <td>2.242659e-16</td>\n",
       "      <td>5.744855e-18</td>\n",
       "    </tr>\n",
       "    <tr>\n",
       "      <th>9</th>\n",
       "      <td>id14549</td>\n",
       "      <td>1.000000</td>\n",
       "      <td>1.621291e-08</td>\n",
       "      <td>1.762122e-07</td>\n",
       "    </tr>\n",
       "  </tbody>\n",
       "</table>\n",
       "</div>"
      ],
      "text/plain": [
       "        id       EAP           HPL           MWS\n",
       "0  id02310  0.000302  1.767751e-05  9.996806e-01\n",
       "1  id24541  1.000000  6.488532e-09  9.703812e-10\n",
       "2  id00134  0.000319  9.996639e-01  1.698442e-05\n",
       "3  id27757  0.999985  1.476140e-05  1.254820e-08\n",
       "4  id04081  0.999954  3.400935e-05  1.230745e-05\n",
       "5  id27337  0.999071  9.293610e-04  1.278228e-07\n",
       "6  id24265  0.999671  1.510885e-04  1.776405e-04\n",
       "7  id25917  0.676923  1.743320e-01  1.487453e-01\n",
       "8  id04951  1.000000  2.242659e-16  5.744855e-18\n",
       "9  id14549  1.000000  1.621291e-08  1.762122e-07"
      ]
     },
     "execution_count": 62,
     "metadata": {},
     "output_type": "execute_result"
    }
   ],
   "source": [
    "# submission\n",
    "\n",
    "submission = pd.DataFrame(prediction, columns=le.classes_)\n",
    "submission[\"id\"] = test_df[\"id\"]\n",
    "cols = submission.columns.tolist()\n",
    "cols = cols[-1:]+cols[:-1]\n",
    "submission = submission[cols]\n",
    "submission.head(10)"
   ]
  },
  {
   "cell_type": "code",
   "execution_count": 63,
   "metadata": {
    "collapsed": true
   },
   "outputs": [],
   "source": [
    "submission.to_csv('submission.csv',index=False)"
   ]
  },
  {
   "cell_type": "code",
   "execution_count": null,
   "metadata": {
    "collapsed": true
   },
   "outputs": [],
   "source": []
  },
  {
   "cell_type": "code",
   "execution_count": null,
   "metadata": {
    "collapsed": true
   },
   "outputs": [],
   "source": []
  }
 ],
 "metadata": {
  "kernelspec": {
   "display_name": "Python 3",
   "language": "python",
   "name": "python3"
  },
  "language_info": {
   "codemirror_mode": {
    "name": "ipython",
    "version": 3
   },
   "file_extension": ".py",
   "mimetype": "text/x-python",
   "name": "python",
   "nbconvert_exporter": "python",
   "pygments_lexer": "ipython3",
   "version": "3.6.2"
  }
 },
 "nbformat": 4,
 "nbformat_minor": 2
}
