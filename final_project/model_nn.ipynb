{
 "cells": [
  {
   "cell_type": "code",
   "execution_count": 87,
   "metadata": {},
   "outputs": [],
   "source": [
    "import pandas as pd\n",
    "import numpy as np\n",
    "import pickle\n",
    "\n",
    "from keras.models import Sequential\n",
    "from keras.layers import Dense, Dropout, Activation\n",
    "from keras.utils import np_utils\n",
    "from keras.preprocessing.text import one_hot\n",
    "from sklearn.preprocessing import LabelEncoder"
   ]
  },
  {
   "cell_type": "code",
   "execution_count": 88,
   "metadata": {},
   "outputs": [
    {
     "name": "stdout",
     "output_type": "stream",
     "text": [
      "['EAP' 'HPL' 'MWS']\n"
     ]
    },
    {
     "data": {
      "text/plain": [
       "array([[ 1.,  0.,  0.],\n",
       "       [ 0.,  1.,  0.],\n",
       "       [ 1.,  0.,  0.],\n",
       "       ..., \n",
       "       [ 1.,  0.,  0.],\n",
       "       [ 1.,  0.,  0.],\n",
       "       [ 0.,  1.,  0.]])"
      ]
     },
     "execution_count": 88,
     "metadata": {},
     "output_type": "execute_result"
    }
   ],
   "source": [
    "train_df = pd.read_csv('D:/Program/dataset/Spooky_Author_Identification/train.csv')\n",
    "test_df = pd.read_csv('D:/Program/dataset/Spooky_Author_Identification/test.csv')\n",
    "\n",
    "\n",
    "# Label Onehot encoding  \n",
    "\n",
    "le = LabelEncoder()\n",
    "le.fit(train_df['author'])\n",
    "print(le.classes_)\n",
    "\n",
    "y = le.transform(train_df['author'])\n",
    "y_train = np_utils.to_categorical(y)\n",
    "\n",
    "y_train"
   ]
  },
  {
   "cell_type": "code",
   "execution_count": 89,
   "metadata": {},
   "outputs": [
    {
     "data": {
      "text/plain": [
       "(8392, 5000)"
      ]
     },
     "execution_count": 89,
     "metadata": {},
     "output_type": "execute_result"
    }
   ],
   "source": [
    "with open('keras_input_train.pkl', 'rb') as f:\n",
    "    sequences = pickle.load(f)\n",
    "with open('keras_input_test.pkl', 'rb') as f:\n",
    "    test_sequences = pickle.load(f)\n",
    "    \n",
    "x_train = sequences\n",
    "x_test = test_sequences\n",
    "x_test.shape"
   ]
  },
  {
   "cell_type": "code",
   "execution_count": 90,
   "metadata": {},
   "outputs": [
    {
     "name": "stdout",
     "output_type": "stream",
     "text": [
      "_________________________________________________________________\n",
      "Layer (type)                 Output Shape              Param #   \n",
      "=================================================================\n",
      "hidden (Dense)               (None, 200)               1000200   \n",
      "_________________________________________________________________\n",
      "hidden2 (Dense)              (None, 200)               40200     \n",
      "_________________________________________________________________\n",
      "hidden3 (Dense)              (None, 200)               40200     \n",
      "_________________________________________________________________\n",
      "output (Dense)               (None, 3)                 603       \n",
      "=================================================================\n",
      "Total params: 1,081,203\n",
      "Trainable params: 1,081,203\n",
      "Non-trainable params: 0\n",
      "_________________________________________________________________\n"
     ]
    }
   ],
   "source": [
    "model = Sequential() \n",
    "model.add(Dense(units=200,input_shape=(5000,),activation=\"relu\",name=\"hidden\"))\n",
    "model.add(Dense(units=200,activation=\"relu\",name=\"hidden2\"))\n",
    "model.add(Dense(units=200,activation=\"relu\",name=\"hidden3\"))\n",
    "model.add(Dense(units=3,activation=\"softmax\",name=\"output\"))\n",
    "model.summary()"
   ]
  },
  {
   "cell_type": "code",
   "execution_count": 91,
   "metadata": {
    "collapsed": true
   },
   "outputs": [],
   "source": [
    "model.compile(loss=\"categorical_crossentropy\",optimizer=\"adam\",metrics=['accuracy'])"
   ]
  },
  {
   "cell_type": "code",
   "execution_count": 92,
   "metadata": {},
   "outputs": [
    {
     "name": "stdout",
     "output_type": "stream",
     "text": [
      "Train on 15663 samples, validate on 3916 samples\n",
      "Epoch 1/10\n",
      "15663/15663 [==============================] - 8s - loss: 0.5818 - acc: 0.7560 - val_loss: 0.4687 - val_acc: 0.8141\n",
      "Epoch 2/10\n",
      "15663/15663 [==============================] - 7s - loss: 0.2069 - acc: 0.9209 - val_loss: 0.5668 - val_acc: 0.8069\n",
      "Epoch 3/10\n",
      "15663/15663 [==============================] - 7s - loss: 0.0704 - acc: 0.9734 - val_loss: 0.8862 - val_acc: 0.7952\n",
      "Epoch 4/10\n",
      "15663/15663 [==============================] - 7s - loss: 0.0311 - acc: 0.9903 - val_loss: 1.1460 - val_acc: 0.7993\n",
      "Epoch 5/10\n",
      "15663/15663 [==============================] - 7s - loss: 0.0137 - acc: 0.9958 - val_loss: 1.4201 - val_acc: 0.7962\n",
      "Epoch 6/10\n",
      "15663/15663 [==============================] - 7s - loss: 0.0058 - acc: 0.9985 - val_loss: 1.6808 - val_acc: 0.7957\n",
      "Epoch 7/10\n",
      "15663/15663 [==============================] - 7s - loss: 0.0072 - acc: 0.9979 - val_loss: 1.7979 - val_acc: 0.7942\n",
      "Epoch 8/10\n",
      "15663/15663 [==============================] - 7s - loss: 0.0148 - acc: 0.9963 - val_loss: 1.5690 - val_acc: 0.7850\n",
      "Epoch 9/10\n",
      "15663/15663 [==============================] - 7s - loss: 0.0134 - acc: 0.9957 - val_loss: 1.7697 - val_acc: 0.7932\n",
      "Epoch 10/10\n",
      "15663/15663 [==============================] - 7s - loss: 0.0071 - acc: 0.9977 - val_loss: 1.7530 - val_acc: 0.7921\n"
     ]
    }
   ],
   "source": [
    "train_history = model.fit(x_train, y_train, validation_split=0.2, epochs=10, batch_size=20, verbose=1)"
   ]
  },
  {
   "cell_type": "code",
   "execution_count": 93,
   "metadata": {},
   "outputs": [
    {
     "name": "stdout",
     "output_type": "stream",
     "text": [
      "19200/19579 [============================>.] - ETA: 0s\n",
      "[0.35208999502240074, 0.95796516675726007]\n"
     ]
    }
   ],
   "source": [
    "scores = model.evaluate(x_train, y_train)  \n",
    "print()\n",
    "print(scores)"
   ]
  },
  {
   "cell_type": "code",
   "execution_count": 94,
   "metadata": {},
   "outputs": [
    {
     "name": "stdout",
     "output_type": "stream",
     "text": [
      "\n",
      "Show 10 prediction result :\n",
      "[[  3.89291666e-09   7.12325143e-10   1.00000000e+00]\n",
      " [  1.00000000e+00   7.02010586e-26   5.37893138e-33]\n",
      " [  8.26686674e-14   1.00000000e+00   4.89141876e-15]\n",
      " [  1.00000000e+00   1.59056157e-10   1.27124242e-10]\n",
      " [  9.99789774e-01   1.82043543e-04   2.82269993e-05]\n",
      " [  1.00000000e+00   6.89576118e-10   5.89197701e-12]\n",
      " [  5.27132191e-02   9.38391149e-01   8.89559835e-03]\n",
      " [  9.68595426e-09   1.26164679e-08   1.00000000e+00]\n",
      " [  1.00000000e+00   5.77363020e-20   2.59638711e-22]\n",
      " [  9.99973774e-01   6.15544664e-08   2.60612542e-05]]\n",
      "(8392, 3)\n"
     ]
    }
   ],
   "source": [
    "prediction = model.predict(x_test)\n",
    "print()\n",
    "print(\"Show 10 prediction result :\")  \n",
    "print(prediction[:10])\n",
    "print(prediction.shape)"
   ]
  },
  {
   "cell_type": "code",
   "execution_count": 95,
   "metadata": {},
   "outputs": [
    {
     "data": {
      "text/html": [
       "<div>\n",
       "<style>\n",
       "    .dataframe thead tr:only-child th {\n",
       "        text-align: right;\n",
       "    }\n",
       "\n",
       "    .dataframe thead th {\n",
       "        text-align: left;\n",
       "    }\n",
       "\n",
       "    .dataframe tbody tr th {\n",
       "        vertical-align: top;\n",
       "    }\n",
       "</style>\n",
       "<table border=\"1\" class=\"dataframe\">\n",
       "  <thead>\n",
       "    <tr style=\"text-align: right;\">\n",
       "      <th></th>\n",
       "      <th>id</th>\n",
       "      <th>EAP</th>\n",
       "      <th>HPL</th>\n",
       "      <th>MWS</th>\n",
       "    </tr>\n",
       "  </thead>\n",
       "  <tbody>\n",
       "    <tr>\n",
       "      <th>0</th>\n",
       "      <td>id02310</td>\n",
       "      <td>3.892917e-09</td>\n",
       "      <td>7.123251e-10</td>\n",
       "      <td>1.000000e+00</td>\n",
       "    </tr>\n",
       "    <tr>\n",
       "      <th>1</th>\n",
       "      <td>id24541</td>\n",
       "      <td>1.000000e+00</td>\n",
       "      <td>7.020106e-26</td>\n",
       "      <td>5.378931e-33</td>\n",
       "    </tr>\n",
       "    <tr>\n",
       "      <th>2</th>\n",
       "      <td>id00134</td>\n",
       "      <td>8.266867e-14</td>\n",
       "      <td>1.000000e+00</td>\n",
       "      <td>4.891419e-15</td>\n",
       "    </tr>\n",
       "    <tr>\n",
       "      <th>3</th>\n",
       "      <td>id27757</td>\n",
       "      <td>1.000000e+00</td>\n",
       "      <td>1.590562e-10</td>\n",
       "      <td>1.271242e-10</td>\n",
       "    </tr>\n",
       "    <tr>\n",
       "      <th>4</th>\n",
       "      <td>id04081</td>\n",
       "      <td>9.997898e-01</td>\n",
       "      <td>1.820435e-04</td>\n",
       "      <td>2.822700e-05</td>\n",
       "    </tr>\n",
       "    <tr>\n",
       "      <th>5</th>\n",
       "      <td>id27337</td>\n",
       "      <td>1.000000e+00</td>\n",
       "      <td>6.895761e-10</td>\n",
       "      <td>5.891977e-12</td>\n",
       "    </tr>\n",
       "    <tr>\n",
       "      <th>6</th>\n",
       "      <td>id24265</td>\n",
       "      <td>5.271322e-02</td>\n",
       "      <td>9.383911e-01</td>\n",
       "      <td>8.895598e-03</td>\n",
       "    </tr>\n",
       "    <tr>\n",
       "      <th>7</th>\n",
       "      <td>id25917</td>\n",
       "      <td>9.685954e-09</td>\n",
       "      <td>1.261647e-08</td>\n",
       "      <td>1.000000e+00</td>\n",
       "    </tr>\n",
       "    <tr>\n",
       "      <th>8</th>\n",
       "      <td>id04951</td>\n",
       "      <td>1.000000e+00</td>\n",
       "      <td>5.773630e-20</td>\n",
       "      <td>2.596387e-22</td>\n",
       "    </tr>\n",
       "    <tr>\n",
       "      <th>9</th>\n",
       "      <td>id14549</td>\n",
       "      <td>9.999738e-01</td>\n",
       "      <td>6.155447e-08</td>\n",
       "      <td>2.606125e-05</td>\n",
       "    </tr>\n",
       "  </tbody>\n",
       "</table>\n",
       "</div>"
      ],
      "text/plain": [
       "        id           EAP           HPL           MWS\n",
       "0  id02310  3.892917e-09  7.123251e-10  1.000000e+00\n",
       "1  id24541  1.000000e+00  7.020106e-26  5.378931e-33\n",
       "2  id00134  8.266867e-14  1.000000e+00  4.891419e-15\n",
       "3  id27757  1.000000e+00  1.590562e-10  1.271242e-10\n",
       "4  id04081  9.997898e-01  1.820435e-04  2.822700e-05\n",
       "5  id27337  1.000000e+00  6.895761e-10  5.891977e-12\n",
       "6  id24265  5.271322e-02  9.383911e-01  8.895598e-03\n",
       "7  id25917  9.685954e-09  1.261647e-08  1.000000e+00\n",
       "8  id04951  1.000000e+00  5.773630e-20  2.596387e-22\n",
       "9  id14549  9.999738e-01  6.155447e-08  2.606125e-05"
      ]
     },
     "execution_count": 95,
     "metadata": {},
     "output_type": "execute_result"
    }
   ],
   "source": [
    "# submission\n",
    "\n",
    "submission = pd.DataFrame(prediction, columns=le.classes_)\n",
    "submission[\"id\"] = test_df[\"id\"]\n",
    "cols = submission.columns.tolist()\n",
    "cols = cols[-1:]+cols[:-1]\n",
    "submission = submission[cols]\n",
    "submission.head(10)"
   ]
  },
  {
   "cell_type": "code",
   "execution_count": 96,
   "metadata": {
    "collapsed": true
   },
   "outputs": [],
   "source": [
    "submission.to_csv('submission.csv',index=False)"
   ]
  },
  {
   "cell_type": "code",
   "execution_count": null,
   "metadata": {
    "collapsed": true
   },
   "outputs": [],
   "source": []
  },
  {
   "cell_type": "code",
   "execution_count": null,
   "metadata": {
    "collapsed": true
   },
   "outputs": [],
   "source": []
  }
 ],
 "metadata": {
  "kernelspec": {
   "display_name": "Python 3",
   "language": "python",
   "name": "python3"
  },
  "language_info": {
   "codemirror_mode": {
    "name": "ipython",
    "version": 3
   },
   "file_extension": ".py",
   "mimetype": "text/x-python",
   "name": "python",
   "nbconvert_exporter": "python",
   "pygments_lexer": "ipython3",
   "version": "3.6.2"
  }
 },
 "nbformat": 4,
 "nbformat_minor": 2
}
