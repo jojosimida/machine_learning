{
 "cells": [
  {
   "cell_type": "code",
   "execution_count": 8,
   "metadata": {},
   "outputs": [
    {
     "name": "stderr",
     "output_type": "stream",
     "text": [
      "Using TensorFlow backend.\n"
     ]
    }
   ],
   "source": [
    "import pandas as pd\n",
    "import numpy as np\n",
    "import nltk\n",
    "import pickle\n",
    "\n",
    "from keras.models import Sequential\n",
    "from keras.layers import Dense, Dropout, Embedding, LSTM, Flatten\n",
    "from keras.utils import np_utils\n",
    "from keras.preprocessing.text import one_hot\n",
    "from sklearn.preprocessing import LabelEncoder\n",
    "from sklearn.feature_extraction.text import CountVectorizer\n",
    "from sklearn.feature_extraction.text import TfidfTransformer\n",
    "from sklearn.feature_extraction.text import TfidfVectorizer\n",
    "import re"
   ]
  },
  {
   "cell_type": "code",
   "execution_count": 2,
   "metadata": {},
   "outputs": [
    {
     "data": {
      "text/html": [
       "<div>\n",
       "<style>\n",
       "    .dataframe thead tr:only-child th {\n",
       "        text-align: right;\n",
       "    }\n",
       "\n",
       "    .dataframe thead th {\n",
       "        text-align: left;\n",
       "    }\n",
       "\n",
       "    .dataframe tbody tr th {\n",
       "        vertical-align: top;\n",
       "    }\n",
       "</style>\n",
       "<table border=\"1\" class=\"dataframe\">\n",
       "  <thead>\n",
       "    <tr style=\"text-align: right;\">\n",
       "      <th></th>\n",
       "      <th>id</th>\n",
       "      <th>text</th>\n",
       "      <th>author</th>\n",
       "    </tr>\n",
       "  </thead>\n",
       "  <tbody>\n",
       "    <tr>\n",
       "      <th>0</th>\n",
       "      <td>id26305</td>\n",
       "      <td>This process, however, afforded me no means of...</td>\n",
       "      <td>EAP</td>\n",
       "    </tr>\n",
       "    <tr>\n",
       "      <th>1</th>\n",
       "      <td>id17569</td>\n",
       "      <td>It never once occurred to me that the fumbling...</td>\n",
       "      <td>HPL</td>\n",
       "    </tr>\n",
       "    <tr>\n",
       "      <th>2</th>\n",
       "      <td>id11008</td>\n",
       "      <td>In his left hand was a gold snuff box, from wh...</td>\n",
       "      <td>EAP</td>\n",
       "    </tr>\n",
       "    <tr>\n",
       "      <th>3</th>\n",
       "      <td>id27763</td>\n",
       "      <td>How lovely is spring As we looked from Windsor...</td>\n",
       "      <td>MWS</td>\n",
       "    </tr>\n",
       "    <tr>\n",
       "      <th>4</th>\n",
       "      <td>id12958</td>\n",
       "      <td>Finding nothing else, not even gold, the Super...</td>\n",
       "      <td>HPL</td>\n",
       "    </tr>\n",
       "  </tbody>\n",
       "</table>\n",
       "</div>"
      ],
      "text/plain": [
       "        id                                               text author\n",
       "0  id26305  This process, however, afforded me no means of...    EAP\n",
       "1  id17569  It never once occurred to me that the fumbling...    HPL\n",
       "2  id11008  In his left hand was a gold snuff box, from wh...    EAP\n",
       "3  id27763  How lovely is spring As we looked from Windsor...    MWS\n",
       "4  id12958  Finding nothing else, not even gold, the Super...    HPL"
      ]
     },
     "execution_count": 2,
     "metadata": {},
     "output_type": "execute_result"
    }
   ],
   "source": [
    "train_df = pd.read_csv('D:/Program/dataset/Spooky_Author_Identification/train.csv')\n",
    "test_df = pd.read_csv('D:/Program/dataset/Spooky_Author_Identification/test.csv')\n",
    "\n",
    "train_df.head()"
   ]
  },
  {
   "cell_type": "code",
   "execution_count": 12,
   "metadata": {},
   "outputs": [
    {
     "name": "stdout",
     "output_type": "stream",
     "text": [
      "['EAP' 'HPL' 'MWS']\n"
     ]
    },
    {
     "data": {
      "text/plain": [
       "array([[ 1.,  0.,  0.],\n",
       "       [ 0.,  1.,  0.],\n",
       "       [ 1.,  0.,  0.],\n",
       "       ..., \n",
       "       [ 1.,  0.,  0.],\n",
       "       [ 1.,  0.,  0.],\n",
       "       [ 0.,  1.,  0.]])"
      ]
     },
     "execution_count": 12,
     "metadata": {},
     "output_type": "execute_result"
    }
   ],
   "source": [
    "le = LabelEncoder()\n",
    "le.fit(train_df['author'])\n",
    "print(le.classes_)\n",
    "\n",
    "y = le.transform(train_df['author'])\n",
    "y_train = np_utils.to_categorical(y)\n",
    "\n",
    "y_train"
   ]
  },
  {
   "cell_type": "code",
   "execution_count": 3,
   "metadata": {
    "collapsed": true
   },
   "outputs": [],
   "source": [
    "def textClean(text):\n",
    "    \n",
    "    # except [A-Za-z0-9^,!.\\/'+-=], others will replace to \" \"\n",
    "    text = re.sub(r\"[^A-Za-z0-9^,!.\\/'+-=]\", \" \", text)\n",
    "    text = text.lower().split()\n",
    "    \n",
    "    stops = {'so', 'his', 't', 'y', 'ours', 'herself', \n",
    "             'your', 'all', 'some', 'they', 'i', 'of', 'didn', \n",
    "             'them', 'when', 'will', 'that', 'its', 'because', \n",
    "             'while', 'those', 'my', 'don', 'again', 'her', 'if',\n",
    "             'further', 'now', 'does', 'against', 'won', 'same', \n",
    "             'a', 'during', 'who', 'here', 'have', 'in', 'being', \n",
    "             'it', 'other', 'once', 'itself', 'hers', 'after', 're',\n",
    "             'just', 'their', 'himself', 'theirs', 'whom', 'then', 'd', \n",
    "             'out', 'm', 'mustn', 'where', 'below', 'about', 'isn',\n",
    "             'shouldn', 'wouldn', 'these', 'me', 'to', 'doesn', 'into',\n",
    "             'the', 'until', 'she', 'am', 'under', 'how', 'yourself',\n",
    "             'couldn', 'ma', 'up', 'than', 'from', 'themselves', 'yourselves',\n",
    "             'off', 'above', 'yours', 'having', 'mightn', 'needn', 'on', \n",
    "             'too', 'there', 'an', 'and', 'down', 'ourselves', 'each',\n",
    "             'hadn', 'ain', 'such', 've', 'did', 'be', 'or', 'aren', 'he', \n",
    "             'should', 'for', 'both', 'doing', 'this', 'through', 'do', 'had',\n",
    "             'own', 'but', 'were', 'over', 'not', 'are', 'few', 'by', \n",
    "             'been', 'most', 'no', 'as', 'was', 'what', 's', 'is', 'you', \n",
    "             'shan', 'between', 'wasn', 'has', 'more', 'him', 'nor',\n",
    "             'can', 'why', 'any', 'at', 'myself', 'very', 'with', 'we', \n",
    "             'which', 'hasn', 'weren', 'haven', 'our', 'll', 'only',\n",
    "             'o', 'before'}\n",
    "                         \n",
    "    text = [w for w in text if not w in stops]    \n",
    "    text = \" \".join(text)\n",
    "    text = text.replace(\".\",\" \").replace(\",\",\" \")\n",
    "    return(text)"
   ]
  },
  {
   "cell_type": "code",
   "execution_count": 4,
   "metadata": {
    "collapsed": true
   },
   "outputs": [],
   "source": [
    "trainText = []\n",
    "for it in train_df['text']:\n",
    "    newT = textClean(it)\n",
    "    trainText.append(newT)\n",
    "    \n",
    "testText = []\n",
    "for it in test_df['text']:\n",
    "    newT = textClean(it)\n",
    "    testText.append(newT)"
   ]
  },
  {
   "cell_type": "code",
   "execution_count": 5,
   "metadata": {},
   "outputs": [
    {
     "name": "stdout",
     "output_type": "stream",
     "text": [
      "(19579, 1000)\n",
      "(8392, 1000)\n",
      "Wall time: 5.23 s\n"
     ]
    }
   ],
   "source": [
    "%%time\n",
    "count_vectorizer = TfidfVectorizer(ngram_range=(1,1), max_df=0.65,\n",
    "                        tokenizer=nltk.word_tokenize,\n",
    "                        strip_accents='unicode', max_features=1000,\n",
    "                        lowercase =True, analyzer='word', token_pattern=r'\\w+',\n",
    "                        use_idf=True, smooth_idf=True, sublinear_tf=False, \n",
    "                        stop_words = 'english')\n",
    "bag_of_words = count_vectorizer.fit_transform(trainText)\n",
    "print(bag_of_words.shape)\n",
    "X_test = count_vectorizer.transform(testText)\n",
    "print(X_test.shape)"
   ]
  },
  {
   "cell_type": "code",
   "execution_count": 6,
   "metadata": {
    "collapsed": true
   },
   "outputs": [],
   "source": [
    "NUM_WORDS = 16000\n",
    "N = 12\n",
    "MAX_LEN = 1000"
   ]
  },
  {
   "cell_type": "code",
   "execution_count": 9,
   "metadata": {},
   "outputs": [
    {
     "name": "stdout",
     "output_type": "stream",
     "text": [
      "_________________________________________________________________\n",
      "Layer (type)                 Output Shape              Param #   \n",
      "=================================================================\n",
      "embedding_1 (Embedding)      (None, 1000, 12)          192000    \n",
      "_________________________________________________________________\n",
      "lstm_1 (LSTM)                (None, 12)                1200      \n",
      "_________________________________________________________________\n",
      "dense_1 (Dense)              (None, 64)                832       \n",
      "_________________________________________________________________\n",
      "dropout_1 (Dropout)          (None, 64)                0         \n",
      "_________________________________________________________________\n",
      "output (Dense)               (None, 3)                 195       \n",
      "=================================================================\n",
      "Total params: 194,227\n",
      "Trainable params: 194,227\n",
      "Non-trainable params: 0\n",
      "_________________________________________________________________\n"
     ]
    }
   ],
   "source": [
    "model = Sequential() \n",
    "model.add(Embedding(NUM_WORDS, N, input_length=MAX_LEN))\n",
    "model.add(LSTM(N, dropout=0.2, recurrent_dropout=0.2))\n",
    "# model.add(Flatten())\n",
    "model.add(Dense(64, activation='relu'))\n",
    "model.add(Dropout(0.2))\n",
    "model.add(Dense(3, activation='softmax',name=\"output\"))\n",
    "model.summary()"
   ]
  },
  {
   "cell_type": "code",
   "execution_count": 10,
   "metadata": {
    "collapsed": true
   },
   "outputs": [],
   "source": [
    "model.compile(loss='categorical_crossentropy', optimizer='adam', metrics=['accuracy'])"
   ]
  },
  {
   "cell_type": "code",
   "execution_count": 13,
   "metadata": {},
   "outputs": [
    {
     "name": "stdout",
     "output_type": "stream",
     "text": [
      "Train on 15663 samples, validate on 3916 samples\n",
      "Epoch 1/5\n",
      "15663/15663 [==============================] - 155s - loss: 1.0894 - acc: 0.4050 - val_loss: 1.0886 - val_acc: 0.3999\n",
      "Epoch 2/5\n",
      "15663/15663 [==============================] - 151s - loss: 1.0875 - acc: 0.4044 - val_loss: 1.0886 - val_acc: 0.3999\n",
      "Epoch 3/5\n",
      "15663/15663 [==============================] - 161s - loss: 1.0880 - acc: 0.4044 - val_loss: 1.0886 - val_acc: 0.3999\n",
      "Epoch 4/5\n",
      "15663/15663 [==============================] - 156s - loss: 1.0875 - acc: 0.4044 - val_loss: 1.0885 - val_acc: 0.3999\n",
      "Epoch 5/5\n",
      "15663/15663 [==============================] - 152s - loss: 1.0876 - acc: 0.4044 - val_loss: 1.0886 - val_acc: 0.3999\n"
     ]
    }
   ],
   "source": [
    "train_history = model.fit(bag_of_words.todense(), y_train, validation_split=0.2, epochs=5, batch_size=200, verbose=1)"
   ]
  },
  {
   "cell_type": "code",
   "execution_count": null,
   "metadata": {
    "collapsed": true
   },
   "outputs": [],
   "source": []
  }
 ],
 "metadata": {
  "kernelspec": {
   "display_name": "Python 3",
   "language": "python",
   "name": "python3"
  },
  "language_info": {
   "codemirror_mode": {
    "name": "ipython",
    "version": 3
   },
   "file_extension": ".py",
   "mimetype": "text/x-python",
   "name": "python",
   "nbconvert_exporter": "python",
   "pygments_lexer": "ipython3",
   "version": "3.6.2"
  }
 },
 "nbformat": 4,
 "nbformat_minor": 2
}
