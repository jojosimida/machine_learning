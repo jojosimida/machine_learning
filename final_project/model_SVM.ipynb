{
 "cells": [
  {
   "cell_type": "code",
   "execution_count": 19,
   "metadata": {},
   "outputs": [],
   "source": [
    "import pandas as pd\n",
    "import numpy as np\n",
    "import pickle\n",
    "from sklearn.preprocessing import LabelEncoder\n",
    "from sklearn.metrics import accuracy_score\n",
    "from keras.utils import np_utils\n",
    "\n",
    "from sklearn.svm import SVC\n",
    "from sklearn.svm import LinearSVC\n",
    "from sklearn.calibration import CalibratedClassifierCV\n",
    "from sklearn.preprocessing import StandardScaler\n",
    "from sklearn.model_selection import KFold"
   ]
  },
  {
   "cell_type": "code",
   "execution_count": 20,
   "metadata": {
    "collapsed": true
   },
   "outputs": [],
   "source": [
    "train_df = pd.read_csv('D:/Program/dataset/Spooky_Author_Identification/train.csv')\n",
    "test_df = pd.read_csv('D:/Program/dataset/Spooky_Author_Identification/test.csv')\n",
    "\n",
    "y_train = train_df[\"author\"].values"
   ]
  },
  {
   "cell_type": "code",
   "execution_count": 21,
   "metadata": {},
   "outputs": [
    {
     "name": "stdout",
     "output_type": "stream",
     "text": [
      "(19579, 24992)\n",
      "(8392, 24992)\n"
     ]
    }
   ],
   "source": [
    "with open('keras_input_train.pkl', 'rb') as f:\n",
    "    sequences = pickle.load(f)\n",
    "with open('keras_input_test.pkl', 'rb') as f:\n",
    "    test_sequences = pickle.load(f)\n",
    "    \n",
    "x_train = sequences\n",
    "x_test = test_sequences\n",
    "\n",
    "print(x_train.shape)\n",
    "print(x_test.shape)"
   ]
  },
  {
   "cell_type": "code",
   "execution_count": 22,
   "metadata": {},
   "outputs": [
    {
     "name": "stdout",
     "output_type": "stream",
     "text": [
      "The number of splitting iterations in the cross-validator : 10\n",
      "\n",
      "[LibLinear]The accuracy score of cross validation is 0.8130745658835546\n",
      "[LibLinear]The accuracy score of cross validation is 0.8038815117466803\n",
      "[LibLinear]The accuracy score of cross validation is 0.8130745658835546\n",
      "[LibLinear]The accuracy score of cross validation is 0.8192032686414709\n",
      "[LibLinear]The accuracy score of cross validation is 0.8100102145045965\n",
      "[LibLinear]The accuracy score of cross validation is 0.8227783452502554\n",
      "[LibLinear]The accuracy score of cross validation is 0.8227783452502554\n",
      "[LibLinear]The accuracy score of cross validation is 0.8232890704800817\n",
      "[LibLinear]The accuracy score of cross validation is 0.8074565883554647\n",
      "[LibLinear]The accuracy score of cross validation is 0.8129790495656617\n",
      "\n",
      "The mean of the cross validation score is 0.8148525525561577\n",
      "Wall time: 30.9 s\n"
     ]
    }
   ],
   "source": [
    "%%time\n",
    "# use cross validation\n",
    "\n",
    "SPLIT = 10\n",
    "train_pred = 0\n",
    "\n",
    "print(\"The number of splitting iterations in the cross-validator : {}\".format(SPLIT))\n",
    "print()\n",
    "\n",
    "clf_linearsvc = LinearSVC(random_state=0, verbose=1)\n",
    "kf = KFold(n_splits=SPLIT,shuffle=True)\n",
    "for train_index, test_index in kf.split(x_train):\n",
    "    clf_linearsvc.fit(x_train[train_index].todense(), y_train[train_index])\n",
    "    \n",
    "    y_pred = clf_linearsvc.predict(x_train[test_index].todense())\n",
    "    s = accuracy_score(y_train[test_index],y_pred)\n",
    "    print(\"The accuracy score of cross validation is {}\".format(s))\n",
    "    \n",
    "    train_pred += s/SPLIT\n",
    "\n",
    "print()    \n",
    "print(\"The mean of the cross validation score is {}\".format(train_pred))"
   ]
  },
  {
   "cell_type": "code",
   "execution_count": 23,
   "metadata": {},
   "outputs": [
    {
     "name": "stdout",
     "output_type": "stream",
     "text": [
      "The accuracy score 0.967056540170591\n"
     ]
    }
   ],
   "source": [
    "y_pred = clf_linearsvc.predict(x_train.todense())\n",
    "s = accuracy_score(y_train,y_pred)\n",
    "print(\"The accuracy score {}\".format(s))"
   ]
  },
  {
   "cell_type": "code",
   "execution_count": 24,
   "metadata": {},
   "outputs": [
    {
     "name": "stdout",
     "output_type": "stream",
     "text": [
      "['EAP' 'HPL' 'MWS']\n",
      "(8392,)\n"
     ]
    }
   ],
   "source": [
    "print(clf_linearsvc.classes_)\n",
    "predict_probability = clf_linearsvc.predict(x_test)\n",
    "print(predict_probability.shape)\n",
    "\n",
    "# LinearSVC doesn't have \"predict_proba\" function"
   ]
  },
  {
   "cell_type": "code",
   "execution_count": 25,
   "metadata": {},
   "outputs": [
    {
     "data": {
      "text/plain": [
       "'\\nI use linear SVM from scikit learn (LinearSVC) for binary classification problem. \\nI understand that LinearSVC can give me the predicted labels, \\nand the decision scores but I wanted probability estimates (confidence in the label). \\nI want to continue using LinearSVC because of speed (as compared to sklearn.svm.SVC with linear kernel) \\nIs it reasonable to use a logistic function to convert the decision scores to probabilities? \\n\\n\\nscikit-learn provides CalibratedClassifierCV which can be used to solve this problem: \\nit allows to add probability output to LinearSVC or any other classifier which implements decision_function method: \\n'"
      ]
     },
     "execution_count": 25,
     "metadata": {},
     "output_type": "execute_result"
    }
   ],
   "source": [
    "\"\"\"\n",
    "I use linear SVM from scikit learn (LinearSVC) for binary classification problem. \n",
    "I understand that LinearSVC can give me the predicted labels, \n",
    "and the decision scores but I wanted probability estimates (confidence in the label). \n",
    "I want to continue using LinearSVC because of speed (as compared to sklearn.svm.SVC with linear kernel) \n",
    "Is it reasonable to use a logistic function to convert the decision scores to probabilities? \n",
    "\n",
    "\n",
    "scikit-learn provides CalibratedClassifierCV which can be used to solve this problem: \n",
    "it allows to add probability output to LinearSVC or any other classifier which implements decision_function method: \n",
    "\"\"\""
   ]
  },
  {
   "cell_type": "code",
   "execution_count": 26,
   "metadata": {},
   "outputs": [
    {
     "name": "stdout",
     "output_type": "stream",
     "text": [
      "[LibLinear][LibLinear][LibLinear]Wall time: 723 ms\n"
     ]
    }
   ],
   "source": [
    "%%time\n",
    "clf = CalibratedClassifierCV(clf_linearsvc) \n",
    "clf.fit(x_train, y_train) \n",
    "predicted_test_proba = clf.predict_proba(x_test) \n",
    "predicted_test_proba[:10]"
   ]
  },
  {
   "cell_type": "code",
   "execution_count": 27,
   "metadata": {},
   "outputs": [
    {
     "data": {
      "text/html": [
       "<div>\n",
       "<style>\n",
       "    .dataframe thead tr:only-child th {\n",
       "        text-align: right;\n",
       "    }\n",
       "\n",
       "    .dataframe thead th {\n",
       "        text-align: left;\n",
       "    }\n",
       "\n",
       "    .dataframe tbody tr th {\n",
       "        vertical-align: top;\n",
       "    }\n",
       "</style>\n",
       "<table border=\"1\" class=\"dataframe\">\n",
       "  <thead>\n",
       "    <tr style=\"text-align: right;\">\n",
       "      <th></th>\n",
       "      <th>id</th>\n",
       "      <th>EAP</th>\n",
       "      <th>HPL</th>\n",
       "      <th>MWS</th>\n",
       "    </tr>\n",
       "  </thead>\n",
       "  <tbody>\n",
       "    <tr>\n",
       "      <th>0</th>\n",
       "      <td>id02310</td>\n",
       "      <td>0.239326</td>\n",
       "      <td>0.032669</td>\n",
       "      <td>0.728004</td>\n",
       "    </tr>\n",
       "    <tr>\n",
       "      <th>1</th>\n",
       "      <td>id24541</td>\n",
       "      <td>0.804704</td>\n",
       "      <td>0.184019</td>\n",
       "      <td>0.011277</td>\n",
       "    </tr>\n",
       "    <tr>\n",
       "      <th>2</th>\n",
       "      <td>id00134</td>\n",
       "      <td>0.524274</td>\n",
       "      <td>0.413373</td>\n",
       "      <td>0.062353</td>\n",
       "    </tr>\n",
       "    <tr>\n",
       "      <th>3</th>\n",
       "      <td>id27757</td>\n",
       "      <td>0.763704</td>\n",
       "      <td>0.223888</td>\n",
       "      <td>0.012408</td>\n",
       "    </tr>\n",
       "    <tr>\n",
       "      <th>4</th>\n",
       "      <td>id04081</td>\n",
       "      <td>0.902076</td>\n",
       "      <td>0.055704</td>\n",
       "      <td>0.042221</td>\n",
       "    </tr>\n",
       "    <tr>\n",
       "      <th>5</th>\n",
       "      <td>id27337</td>\n",
       "      <td>0.618611</td>\n",
       "      <td>0.370156</td>\n",
       "      <td>0.011233</td>\n",
       "    </tr>\n",
       "    <tr>\n",
       "      <th>6</th>\n",
       "      <td>id24265</td>\n",
       "      <td>0.567026</td>\n",
       "      <td>0.429518</td>\n",
       "      <td>0.003456</td>\n",
       "    </tr>\n",
       "    <tr>\n",
       "      <th>7</th>\n",
       "      <td>id25917</td>\n",
       "      <td>0.056053</td>\n",
       "      <td>0.297341</td>\n",
       "      <td>0.646606</td>\n",
       "    </tr>\n",
       "    <tr>\n",
       "      <th>8</th>\n",
       "      <td>id04951</td>\n",
       "      <td>0.948434</td>\n",
       "      <td>0.047442</td>\n",
       "      <td>0.004124</td>\n",
       "    </tr>\n",
       "    <tr>\n",
       "      <th>9</th>\n",
       "      <td>id14549</td>\n",
       "      <td>0.865714</td>\n",
       "      <td>0.085618</td>\n",
       "      <td>0.048668</td>\n",
       "    </tr>\n",
       "  </tbody>\n",
       "</table>\n",
       "</div>"
      ],
      "text/plain": [
       "        id       EAP       HPL       MWS\n",
       "0  id02310  0.239326  0.032669  0.728004\n",
       "1  id24541  0.804704  0.184019  0.011277\n",
       "2  id00134  0.524274  0.413373  0.062353\n",
       "3  id27757  0.763704  0.223888  0.012408\n",
       "4  id04081  0.902076  0.055704  0.042221\n",
       "5  id27337  0.618611  0.370156  0.011233\n",
       "6  id24265  0.567026  0.429518  0.003456\n",
       "7  id25917  0.056053  0.297341  0.646606\n",
       "8  id04951  0.948434  0.047442  0.004124\n",
       "9  id14549  0.865714  0.085618  0.048668"
      ]
     },
     "execution_count": 27,
     "metadata": {},
     "output_type": "execute_result"
    }
   ],
   "source": [
    "# submission\n",
    "\n",
    "submission = pd.DataFrame(predicted_test_proba, columns=clf.classes_)\n",
    "submission[\"id\"] = test_df[\"id\"]\n",
    "cols = submission.columns.tolist()\n",
    "cols = cols[-1:]+cols[:-1]\n",
    "submission = submission[cols]\n",
    "submission.head(10)"
   ]
  },
  {
   "cell_type": "code",
   "execution_count": 28,
   "metadata": {
    "collapsed": true
   },
   "outputs": [],
   "source": [
    "submission.to_csv('submission_SVM.csv',index=False)"
   ]
  },
  {
   "cell_type": "code",
   "execution_count": null,
   "metadata": {
    "collapsed": true
   },
   "outputs": [],
   "source": []
  }
 ],
 "metadata": {
  "kernelspec": {
   "display_name": "Python 3",
   "language": "python",
   "name": "python3"
  },
  "language_info": {
   "codemirror_mode": {
    "name": "ipython",
    "version": 3
   },
   "file_extension": ".py",
   "mimetype": "text/x-python",
   "name": "python",
   "nbconvert_exporter": "python",
   "pygments_lexer": "ipython3",
   "version": "3.6.2"
  }
 },
 "nbformat": 4,
 "nbformat_minor": 2
}
