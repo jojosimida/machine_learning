{
 "cells": [
  {
   "cell_type": "code",
   "execution_count": 48,
   "metadata": {
    "collapsed": true
   },
   "outputs": [],
   "source": [
    "import pandas as pd\n",
    "import numpy as np\n",
    "import nltk\n",
    "import pickle\n",
    "from sklearn.feature_extraction.text import CountVectorizer\n",
    "from sklearn.feature_extraction.text import TfidfTransformer\n",
    "from sklearn.feature_extraction.text import TfidfVectorizer\n",
    "import re"
   ]
  },
  {
   "cell_type": "code",
   "execution_count": 49,
   "metadata": {},
   "outputs": [
    {
     "data": {
      "text/html": [
       "<div>\n",
       "<style>\n",
       "    .dataframe thead tr:only-child th {\n",
       "        text-align: right;\n",
       "    }\n",
       "\n",
       "    .dataframe thead th {\n",
       "        text-align: left;\n",
       "    }\n",
       "\n",
       "    .dataframe tbody tr th {\n",
       "        vertical-align: top;\n",
       "    }\n",
       "</style>\n",
       "<table border=\"1\" class=\"dataframe\">\n",
       "  <thead>\n",
       "    <tr style=\"text-align: right;\">\n",
       "      <th></th>\n",
       "      <th>id</th>\n",
       "      <th>text</th>\n",
       "      <th>author</th>\n",
       "    </tr>\n",
       "  </thead>\n",
       "  <tbody>\n",
       "    <tr>\n",
       "      <th>0</th>\n",
       "      <td>id26305</td>\n",
       "      <td>This process, however, afforded me no means of...</td>\n",
       "      <td>EAP</td>\n",
       "    </tr>\n",
       "    <tr>\n",
       "      <th>1</th>\n",
       "      <td>id17569</td>\n",
       "      <td>It never once occurred to me that the fumbling...</td>\n",
       "      <td>HPL</td>\n",
       "    </tr>\n",
       "    <tr>\n",
       "      <th>2</th>\n",
       "      <td>id11008</td>\n",
       "      <td>In his left hand was a gold snuff box, from wh...</td>\n",
       "      <td>EAP</td>\n",
       "    </tr>\n",
       "    <tr>\n",
       "      <th>3</th>\n",
       "      <td>id27763</td>\n",
       "      <td>How lovely is spring As we looked from Windsor...</td>\n",
       "      <td>MWS</td>\n",
       "    </tr>\n",
       "    <tr>\n",
       "      <th>4</th>\n",
       "      <td>id12958</td>\n",
       "      <td>Finding nothing else, not even gold, the Super...</td>\n",
       "      <td>HPL</td>\n",
       "    </tr>\n",
       "  </tbody>\n",
       "</table>\n",
       "</div>"
      ],
      "text/plain": [
       "        id                                               text author\n",
       "0  id26305  This process, however, afforded me no means of...    EAP\n",
       "1  id17569  It never once occurred to me that the fumbling...    HPL\n",
       "2  id11008  In his left hand was a gold snuff box, from wh...    EAP\n",
       "3  id27763  How lovely is spring As we looked from Windsor...    MWS\n",
       "4  id12958  Finding nothing else, not even gold, the Super...    HPL"
      ]
     },
     "execution_count": 49,
     "metadata": {},
     "output_type": "execute_result"
    }
   ],
   "source": [
    "train_df = pd.read_csv('D:/Program/dataset/Spooky_Author_Identification/train.csv')\n",
    "test_df = pd.read_csv('D:/Program/dataset/Spooky_Author_Identification/test.csv')\n",
    "\n",
    "train_df.head()"
   ]
  },
  {
   "cell_type": "code",
   "execution_count": 50,
   "metadata": {
    "collapsed": true
   },
   "outputs": [],
   "source": [
    "def textClean(text):\n",
    "    \n",
    "    # except [A-Za-z0-9^,!.\\/'+-=], others will replace to \" \"\n",
    "    text = re.sub(r\"[^A-Za-z0-9^,!.\\/'+-=]\", \" \", text)\n",
    "    text = text.lower().split()\n",
    "    \n",
    "    \n",
    "    stops = {'so', 'his', 't', 'y', 'ours', 'herself', \n",
    "             'your', 'all', 'some', 'they', 'i', 'of', 'didn', \n",
    "             'them', 'when', 'will', 'that', 'its', 'because', \n",
    "             'while', 'those', 'my', 'don', 'again', 'her', 'if',\n",
    "             'further', 'now', 'does', 'against', 'won', 'same', \n",
    "             'a', 'during', 'who', 'here', 'have', 'in', 'being', \n",
    "             'it', 'other', 'once', 'itself', 'hers', 'after', 're',\n",
    "             'just', 'their', 'himself', 'theirs', 'whom', 'then', 'd', \n",
    "             'out', 'm', 'mustn', 'where', 'below', 'about', 'isn',\n",
    "             'shouldn', 'wouldn', 'these', 'me', 'to', 'doesn', 'into',\n",
    "             'the', 'until', 'she', 'am', 'under', 'how', 'yourself',\n",
    "             'couldn', 'ma', 'up', 'than', 'from', 'themselves', 'yourselves',\n",
    "             'off', 'above', 'yours', 'having', 'mightn', 'needn', 'on', \n",
    "             'too', 'there', 'an', 'and', 'down', 'ourselves', 'each',\n",
    "             'hadn', 'ain', 'such', 've', 'did', 'be', 'or', 'aren', 'he', \n",
    "             'should', 'for', 'both', 'doing', 'this', 'through', 'do', 'had',\n",
    "             'own', 'but', 'were', 'over', 'not', 'are', 'few', 'by', \n",
    "             'been', 'most', 'no', 'as', 'was', 'what', 's', 'is', 'you', \n",
    "             'shan', 'between', 'wasn', 'has', 'more', 'him', 'nor',\n",
    "             'can', 'why', 'any', 'at', 'myself', 'very', 'with', 'we', \n",
    "             'which', 'hasn', 'weren', 'haven', 'our', 'll', 'only',\n",
    "             'o', 'before'}\n",
    "             \n",
    "             \n",
    "             \n",
    "    text = [w for w in text if not w in stops]    \n",
    "    text = \" \".join(text)\n",
    "    text = text.replace(\".\",\" \").replace(\",\",\" \")\n",
    "    return(text)"
   ]
  },
  {
   "cell_type": "code",
   "execution_count": 51,
   "metadata": {},
   "outputs": [],
   "source": [
    "trainText = []\n",
    "for it in train_df['text']:\n",
    "    newT = textClean(it)\n",
    "    trainText.append(newT)\n",
    "    \n",
    "testText = []\n",
    "for it in test_df['text']:\n",
    "    newT = textClean(it)\n",
    "    testText.append(newT)\n",
    "    \n"
   ]
  },
  {
   "cell_type": "code",
   "execution_count": 52,
   "metadata": {},
   "outputs": [
    {
     "name": "stdout",
     "output_type": "stream",
     "text": [
      "(19579, 24992)\n",
      "(8392, 24992)\n",
      "Wall time: 4.82 s\n"
     ]
    }
   ],
   "source": [
    "%%time\n",
    "count_vectorizer = TfidfVectorizer(ngram_range=(1,1), max_df=0.65,\n",
    "                        tokenizer=nltk.word_tokenize,\n",
    "                        strip_accents='unicode',\n",
    "                        lowercase =True, analyzer='word', token_pattern=r'\\w+',\n",
    "                        use_idf=True, smooth_idf=True, sublinear_tf=False, \n",
    "                        stop_words = 'english')\n",
    "bag_of_words = count_vectorizer.fit_transform(trainText)\n",
    "print(bag_of_words.shape)\n",
    "X_test = count_vectorizer.transform(testText)\n",
    "print(X_test.shape)\n",
    "\n",
    "# X = train_df['text'].values\n",
    "# testText = test_df['text'].values\n",
    "# vectorizer = TfidfVectorizer()\n",
    "# bag_of_words = vectorizer.fit_transform(X)\n",
    "# print(bag_of_words.shape)\n",
    "# X_test = vectorizer.transform(testText)\n",
    "# print(X_test.shape)"
   ]
  },
  {
   "cell_type": "code",
   "execution_count": 53,
   "metadata": {},
   "outputs": [],
   "source": [
    "# %%time\n",
    "# transformer = TfidfTransformer(use_idf=True, smooth_idf=True, sublinear_tf=False)\n",
    "# transformer_bag_of_words = transformer.fit_transform(bag_of_words)\n",
    "# X_test_transformer = transformer.transform(X_test)\n",
    "# print (transformer_bag_of_words.shape)\n",
    "# print (X_test_transformer.shape)"
   ]
  },
  {
   "cell_type": "code",
   "execution_count": 54,
   "metadata": {
    "collapsed": true
   },
   "outputs": [],
   "source": [
    "with open('keras_input_train.pkl', 'wb') as f:\n",
    "    pickle.dump(bag_of_words, f)\n",
    "with open('keras_input_test.pkl', 'wb') as f:\n",
    "    pickle.dump(X_test, f)"
   ]
  },
  {
   "cell_type": "code",
   "execution_count": 55,
   "metadata": {},
   "outputs": [
    {
     "name": "stdout",
     "output_type": "stream",
     "text": [
      "  (0, 24231)\t0.17755457244\n",
      "  (0, 23290)\t0.344018478469\n",
      "  (0, 16119)\t0.247098057518\n",
      "  (0, 8371)\t0.158977436632\n",
      "  (0, 1851)\t0.218600889199\n",
      "  (0, 19731)\t0.160396648735\n",
      "  (0, 16677)\t0.146777368305\n",
      "  (0, 18623)\t0.156262797194\n",
      "  (0, 3908)\t0.329552773542\n",
      "  (0, 13481)\t0.128688681822\n",
      "  (0, 241)\t0.0609834755029\n",
      "  (0, 7067)\t0.336417647947\n",
      "  (0, 6309)\t0.283694429381\n",
      "  (0, 1504)\t0.386203030113\n",
      "  (0, 13781)\t0.155608351548\n",
      "  (0, 694)\t0.243533084692\n",
      "  (0, 17181)\t0.298496291298\n"
     ]
    }
   ],
   "source": [
    "print(transformer_bag_of_words[0])"
   ]
  },
  {
   "cell_type": "code",
   "execution_count": null,
   "metadata": {
    "collapsed": true
   },
   "outputs": [],
   "source": []
  }
 ],
 "metadata": {
  "kernelspec": {
   "display_name": "Python 3",
   "language": "python",
   "name": "python3"
  },
  "language_info": {
   "codemirror_mode": {
    "name": "ipython",
    "version": 3
   },
   "file_extension": ".py",
   "mimetype": "text/x-python",
   "name": "python",
   "nbconvert_exporter": "python",
   "pygments_lexer": "ipython3",
   "version": "3.6.2"
  }
 },
 "nbformat": 4,
 "nbformat_minor": 2
}
