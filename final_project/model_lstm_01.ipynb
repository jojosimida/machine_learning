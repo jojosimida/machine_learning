{
 "cells": [
  {
   "cell_type": "code",
   "execution_count": 1,
   "metadata": {},
   "outputs": [
    {
     "name": "stderr",
     "output_type": "stream",
     "text": [
      "Using TensorFlow backend.\n"
     ]
    }
   ],
   "source": [
    "import pandas as pd\n",
    "import numpy as np\n",
    "import pickle\n",
    "\n",
    "from keras.models import Sequential\n",
    "from keras.layers import Dense, Dropout, Embedding, LSTM, Flatten\n",
    "from keras.utils import np_utils\n",
    "from keras.preprocessing.text import one_hot\n",
    "from sklearn.preprocessing import LabelEncoder\n",
    "\n",
    "from keras.preprocessing.sequence import pad_sequences\n",
    "from keras.preprocessing.text import Tokenizer\n",
    "from sklearn import preprocessing\n",
    "from keras.regularizers import l1,l2"
   ]
  },
  {
   "cell_type": "code",
   "execution_count": 2,
   "metadata": {},
   "outputs": [
    {
     "name": "stdout",
     "output_type": "stream",
     "text": [
      "['EAP' 'HPL' 'MWS']\n"
     ]
    },
    {
     "data": {
      "text/plain": [
       "array([[ 1.,  0.,  0.],\n",
       "       [ 0.,  1.,  0.],\n",
       "       [ 1.,  0.,  0.],\n",
       "       ..., \n",
       "       [ 1.,  0.,  0.],\n",
       "       [ 1.,  0.,  0.],\n",
       "       [ 0.,  1.,  0.]])"
      ]
     },
     "execution_count": 2,
     "metadata": {},
     "output_type": "execute_result"
    }
   ],
   "source": [
    "train_df = pd.read_csv('D:/Program/dataset/Spooky_Author_Identification/train.csv')\n",
    "test_df = pd.read_csv('D:/Program/dataset/Spooky_Author_Identification/test.csv')\n",
    "\n",
    "# Label Onehot encoding  \n",
    "\n",
    "le = LabelEncoder()\n",
    "le.fit(train_df['author'])\n",
    "print(le.classes_)\n",
    "\n",
    "y = le.transform(train_df['author'])\n",
    "y_train = np_utils.to_categorical(y)\n",
    "\n",
    "y_train"
   ]
  },
  {
   "cell_type": "code",
   "execution_count": 3,
   "metadata": {},
   "outputs": [
    {
     "name": "stdout",
     "output_type": "stream",
     "text": [
      "(19579, 24992)\n",
      "(8392, 24992)\n"
     ]
    }
   ],
   "source": [
    "with open('keras_input_train.pkl', 'rb') as f:\n",
    "    sequences = pickle.load(f)\n",
    "with open('keras_input_test.pkl', 'rb') as f:\n",
    "    test_sequences = pickle.load(f)\n",
    "    \n",
    "x_train = sequences\n",
    "x_test = test_sequences\n",
    "\n",
    "print(x_train.shape)\n",
    "print(x_test.shape)"
   ]
  },
  {
   "cell_type": "code",
   "execution_count": 4,
   "metadata": {
    "collapsed": true
   },
   "outputs": [],
   "source": [
    "# tfidf\n",
    "\n",
    "NUM_WORDS = 16000\n",
    "N = 12\n",
    "MAX_LEN = 300\n",
    "\n",
    "tmp_X = train_df['text']\n",
    "tmp_Y = train_df['author']\n",
    "tmp_X_test = test_df['text']\n",
    "\n",
    "tokenizer = Tokenizer(num_words=NUM_WORDS)\n",
    "tokenizer.fit_on_texts(tmp_X)\n",
    "\n",
    "ttrain_x = tokenizer.texts_to_sequences(tmp_X)\n",
    "ttrain_x = pad_sequences(ttrain_x, maxlen=MAX_LEN)\n",
    "\n",
    "ttest_x = tokenizer.texts_to_sequences(tmp_X_test)\n",
    "ttest_x = pad_sequences(ttest_x, maxlen=MAX_LEN)\n",
    "\n",
    "lb = preprocessing.LabelBinarizer()\n",
    "lb.fit(tmp_Y)\n",
    "\n",
    "ttrain_y = lb.transform(tmp_Y)"
   ]
  },
  {
   "cell_type": "code",
   "execution_count": 5,
   "metadata": {},
   "outputs": [
    {
     "name": "stdout",
     "output_type": "stream",
     "text": [
      "_________________________________________________________________\n",
      "Layer (type)                 Output Shape              Param #   \n",
      "=================================================================\n",
      "embedding_1 (Embedding)      (None, 300, 12)           192000    \n",
      "_________________________________________________________________\n",
      "lstm_1 (LSTM)                (None, 300, 12)           1200      \n",
      "_________________________________________________________________\n",
      "flatten_1 (Flatten)          (None, 3600)              0         \n",
      "_________________________________________________________________\n",
      "dense_1 (Dense)              (None, 64)                230464    \n",
      "_________________________________________________________________\n",
      "dropout_1 (Dropout)          (None, 64)                0         \n",
      "_________________________________________________________________\n",
      "dense_2 (Dense)              (None, 3)                 195       \n",
      "=================================================================\n",
      "Total params: 423,859\n",
      "Trainable params: 423,859\n",
      "Non-trainable params: 0\n",
      "_________________________________________________________________\n"
     ]
    }
   ],
   "source": [
    "model = Sequential()\n",
    "\n",
    "# If use LSTM, add Embedding layer first\n",
    "# If \"return_sequences=True\" , output shape will add one dimension in the middle\n",
    "# Add \"Flatten()\" let output dimension to one\n",
    "model.add(Embedding(NUM_WORDS, N, input_length=MAX_LEN))\n",
    "model.add(LSTM(N, dropout=0.2, recurrent_dropout=0.2, return_sequences=True,kernel_regularizer=l2(0.00001),\n",
    "                activity_regularizer=l1(0.0001)))\n",
    "model.add(Flatten())\n",
    "\n",
    "model.add(Dense(64, activation='relu'))\n",
    "model.add(Dropout(0.2))\n",
    "model.add(Dense(3, activation='softmax'))\n",
    "model.compile(loss='categorical_crossentropy', optimizer='adam', metrics=['accuracy'])\n",
    "model.summary()"
   ]
  },
  {
   "cell_type": "code",
   "execution_count": 6,
   "metadata": {},
   "outputs": [
    {
     "name": "stdout",
     "output_type": "stream",
     "text": [
      "Train on 17621 samples, validate on 1958 samples\n",
      "Epoch 1/10\n",
      "17621/17621 [==============================] - 64s - loss: 1.1207 - acc: 0.4374 - val_loss: 0.9249 - val_acc: 0.6190\n",
      "Epoch 2/10\n",
      "17621/17621 [==============================] - 61s - loss: 0.5785 - acc: 0.8055 - val_loss: 0.4698 - val_acc: 0.8330\n",
      "Epoch 3/10\n",
      "17621/17621 [==============================] - 65s - loss: 0.3110 - acc: 0.9097 - val_loss: 0.4689 - val_acc: 0.8381\n",
      "Epoch 4/10\n",
      "17621/17621 [==============================] - 65s - loss: 0.2195 - acc: 0.9423 - val_loss: 0.4964 - val_acc: 0.8401\n",
      "Epoch 5/10\n",
      "17621/17621 [==============================] - 61s - loss: 0.1745 - acc: 0.9600 - val_loss: 0.5357 - val_acc: 0.8345\n",
      "Epoch 6/10\n",
      "17621/17621 [==============================] - 66s - loss: 0.1426 - acc: 0.9707 - val_loss: 0.5704 - val_acc: 0.8340\n",
      "Epoch 7/10\n",
      "17621/17621 [==============================] - 65s - loss: 0.1187 - acc: 0.9780 - val_loss: 0.6500 - val_acc: 0.8197\n",
      "Epoch 8/10\n",
      "17621/17621 [==============================] - 65s - loss: 0.1082 - acc: 0.9808 - val_loss: 0.6580 - val_acc: 0.8243\n",
      "Epoch 9/10\n",
      "17621/17621 [==============================] - 64s - loss: 0.0966 - acc: 0.9838 - val_loss: 0.7035 - val_acc: 0.8197\n",
      "Epoch 10/10\n",
      "17621/17621 [==============================] - 66s - loss: 0.0864 - acc: 0.9855 - val_loss: 0.7448 - val_acc: 0.8141\n"
     ]
    },
    {
     "data": {
      "text/plain": [
       "<keras.callbacks.History at 0x14b7f24dfd0>"
      ]
     },
     "execution_count": 6,
     "metadata": {},
     "output_type": "execute_result"
    }
   ],
   "source": [
    "model.fit(ttrain_x, ttrain_y, \n",
    "                  validation_split=0.1,\n",
    "                  batch_size=128, epochs=10, \n",
    "                  verbose=1,\n",
    "                 )"
   ]
  },
  {
   "cell_type": "code",
   "execution_count": 7,
   "metadata": {},
   "outputs": [
    {
     "name": "stdout",
     "output_type": "stream",
     "text": [
      "19579/19579 [==============================] - 64s    \n",
      "\n",
      "[0.10033964700557353, 0.97727156651385971]\n"
     ]
    }
   ],
   "source": [
    "scores = model.evaluate(ttrain_x, ttrain_y)  \n",
    "print()\n",
    "print(scores)"
   ]
  },
  {
   "cell_type": "code",
   "execution_count": 8,
   "metadata": {},
   "outputs": [
    {
     "name": "stdout",
     "output_type": "stream",
     "text": [
      "\n",
      "Show 10 prediction result :\n",
      "[[  5.00613474e-04   5.14466228e-05   9.99447882e-01]\n",
      " [  9.99988914e-01   7.27468796e-06   3.81492782e-06]\n",
      " [  2.41188519e-03   9.97187793e-01   4.00399585e-04]\n",
      " [  9.98840034e-01   1.08106434e-03   7.89987680e-05]\n",
      " [  9.99252141e-01   2.92358192e-04   4.55542846e-04]\n",
      " [  3.46272409e-01   6.52702510e-01   1.02507859e-03]\n",
      " [  8.08854043e-01   1.80783898e-01   1.03620673e-02]\n",
      " [  6.27815127e-02   4.72375825e-02   8.89980853e-01]\n",
      " [  9.99999523e-01   4.78674679e-07   2.61229989e-08]\n",
      " [  9.79163945e-01   1.29354699e-03   1.95425507e-02]]\n",
      "(8392, 3)\n",
      "Wall time: 27.6 s\n"
     ]
    }
   ],
   "source": [
    "%%time\n",
    "prediction = model.predict(ttest_x)\n",
    "print()\n",
    "print(\"Show 10 prediction result :\")  \n",
    "print(prediction[:10])\n",
    "print(prediction.shape)"
   ]
  },
  {
   "cell_type": "code",
   "execution_count": 9,
   "metadata": {},
   "outputs": [
    {
     "data": {
      "text/html": [
       "<div>\n",
       "<style>\n",
       "    .dataframe thead tr:only-child th {\n",
       "        text-align: right;\n",
       "    }\n",
       "\n",
       "    .dataframe thead th {\n",
       "        text-align: left;\n",
       "    }\n",
       "\n",
       "    .dataframe tbody tr th {\n",
       "        vertical-align: top;\n",
       "    }\n",
       "</style>\n",
       "<table border=\"1\" class=\"dataframe\">\n",
       "  <thead>\n",
       "    <tr style=\"text-align: right;\">\n",
       "      <th></th>\n",
       "      <th>id</th>\n",
       "      <th>EAP</th>\n",
       "      <th>HPL</th>\n",
       "      <th>MWS</th>\n",
       "    </tr>\n",
       "  </thead>\n",
       "  <tbody>\n",
       "    <tr>\n",
       "      <th>0</th>\n",
       "      <td>id02310</td>\n",
       "      <td>0.000501</td>\n",
       "      <td>5.144662e-05</td>\n",
       "      <td>9.994479e-01</td>\n",
       "    </tr>\n",
       "    <tr>\n",
       "      <th>1</th>\n",
       "      <td>id24541</td>\n",
       "      <td>0.999989</td>\n",
       "      <td>7.274688e-06</td>\n",
       "      <td>3.814928e-06</td>\n",
       "    </tr>\n",
       "    <tr>\n",
       "      <th>2</th>\n",
       "      <td>id00134</td>\n",
       "      <td>0.002412</td>\n",
       "      <td>9.971878e-01</td>\n",
       "      <td>4.003996e-04</td>\n",
       "    </tr>\n",
       "    <tr>\n",
       "      <th>3</th>\n",
       "      <td>id27757</td>\n",
       "      <td>0.998840</td>\n",
       "      <td>1.081064e-03</td>\n",
       "      <td>7.899877e-05</td>\n",
       "    </tr>\n",
       "    <tr>\n",
       "      <th>4</th>\n",
       "      <td>id04081</td>\n",
       "      <td>0.999252</td>\n",
       "      <td>2.923582e-04</td>\n",
       "      <td>4.555428e-04</td>\n",
       "    </tr>\n",
       "    <tr>\n",
       "      <th>5</th>\n",
       "      <td>id27337</td>\n",
       "      <td>0.346272</td>\n",
       "      <td>6.527025e-01</td>\n",
       "      <td>1.025079e-03</td>\n",
       "    </tr>\n",
       "    <tr>\n",
       "      <th>6</th>\n",
       "      <td>id24265</td>\n",
       "      <td>0.808854</td>\n",
       "      <td>1.807839e-01</td>\n",
       "      <td>1.036207e-02</td>\n",
       "    </tr>\n",
       "    <tr>\n",
       "      <th>7</th>\n",
       "      <td>id25917</td>\n",
       "      <td>0.062782</td>\n",
       "      <td>4.723758e-02</td>\n",
       "      <td>8.899809e-01</td>\n",
       "    </tr>\n",
       "    <tr>\n",
       "      <th>8</th>\n",
       "      <td>id04951</td>\n",
       "      <td>1.000000</td>\n",
       "      <td>4.786747e-07</td>\n",
       "      <td>2.612300e-08</td>\n",
       "    </tr>\n",
       "    <tr>\n",
       "      <th>9</th>\n",
       "      <td>id14549</td>\n",
       "      <td>0.979164</td>\n",
       "      <td>1.293547e-03</td>\n",
       "      <td>1.954255e-02</td>\n",
       "    </tr>\n",
       "  </tbody>\n",
       "</table>\n",
       "</div>"
      ],
      "text/plain": [
       "        id       EAP           HPL           MWS\n",
       "0  id02310  0.000501  5.144662e-05  9.994479e-01\n",
       "1  id24541  0.999989  7.274688e-06  3.814928e-06\n",
       "2  id00134  0.002412  9.971878e-01  4.003996e-04\n",
       "3  id27757  0.998840  1.081064e-03  7.899877e-05\n",
       "4  id04081  0.999252  2.923582e-04  4.555428e-04\n",
       "5  id27337  0.346272  6.527025e-01  1.025079e-03\n",
       "6  id24265  0.808854  1.807839e-01  1.036207e-02\n",
       "7  id25917  0.062782  4.723758e-02  8.899809e-01\n",
       "8  id04951  1.000000  4.786747e-07  2.612300e-08\n",
       "9  id14549  0.979164  1.293547e-03  1.954255e-02"
      ]
     },
     "execution_count": 9,
     "metadata": {},
     "output_type": "execute_result"
    }
   ],
   "source": [
    "# submission\n",
    "\n",
    "submission = pd.DataFrame(prediction, columns=le.classes_)\n",
    "submission[\"id\"] = test_df[\"id\"]\n",
    "cols = submission.columns.tolist()\n",
    "cols = cols[-1:]+cols[:-1]\n",
    "submission = submission[cols]\n",
    "submission.head(10)"
   ]
  },
  {
   "cell_type": "code",
   "execution_count": 10,
   "metadata": {
    "collapsed": true
   },
   "outputs": [],
   "source": [
    "submission.to_csv('submission_lstm.csv',index=False)"
   ]
  },
  {
   "cell_type": "code",
   "execution_count": 11,
   "metadata": {},
   "outputs": [
    {
     "data": {
      "text/plain": [
       "(19579, 24992)"
      ]
     },
     "execution_count": 11,
     "metadata": {},
     "output_type": "execute_result"
    }
   ],
   "source": [
    "x_train.todense().shape"
   ]
  },
  {
   "cell_type": "code",
   "execution_count": 12,
   "metadata": {},
   "outputs": [
    {
     "data": {
      "text/plain": [
       "(19579, 300)"
      ]
     },
     "execution_count": 12,
     "metadata": {},
     "output_type": "execute_result"
    }
   ],
   "source": [
    "ttrain_x.shape"
   ]
  },
  {
   "cell_type": "code",
   "execution_count": 13,
   "metadata": {},
   "outputs": [
    {
     "data": {
      "text/plain": [
       "array([[1, 0, 0],\n",
       "       [0, 1, 0],\n",
       "       [1, 0, 0],\n",
       "       ..., \n",
       "       [1, 0, 0],\n",
       "       [1, 0, 0],\n",
       "       [0, 1, 0]])"
      ]
     },
     "execution_count": 13,
     "metadata": {},
     "output_type": "execute_result"
    }
   ],
   "source": [
    "ttrain_y"
   ]
  },
  {
   "cell_type": "code",
   "execution_count": 14,
   "metadata": {},
   "outputs": [
    {
     "data": {
      "text/plain": [
       "array([[ 1.,  0.,  0.],\n",
       "       [ 0.,  1.,  0.],\n",
       "       [ 1.,  0.,  0.],\n",
       "       ..., \n",
       "       [ 1.,  0.,  0.],\n",
       "       [ 1.,  0.,  0.],\n",
       "       [ 0.,  1.,  0.]])"
      ]
     },
     "execution_count": 14,
     "metadata": {},
     "output_type": "execute_result"
    }
   ],
   "source": [
    "y_train"
   ]
  },
  {
   "cell_type": "code",
   "execution_count": null,
   "metadata": {
    "collapsed": true
   },
   "outputs": [],
   "source": []
  }
 ],
 "metadata": {
  "kernelspec": {
   "display_name": "Python 3",
   "language": "python",
   "name": "python3"
  },
  "language_info": {
   "codemirror_mode": {
    "name": "ipython",
    "version": 3
   },
   "file_extension": ".py",
   "mimetype": "text/x-python",
   "name": "python",
   "nbconvert_exporter": "python",
   "pygments_lexer": "ipython3",
   "version": "3.6.2"
  }
 },
 "nbformat": 4,
 "nbformat_minor": 2
}
