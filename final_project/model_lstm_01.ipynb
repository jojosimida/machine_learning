{
 "cells": [
  {
   "cell_type": "code",
   "execution_count": 28,
   "metadata": {},
   "outputs": [],
   "source": [
    "import pandas as pd\n",
    "import numpy as np\n",
    "import pickle\n",
    "\n",
    "from keras.models import Sequential\n",
    "from keras.layers import Dense, Dropout, Embedding, LSTM, Flatten\n",
    "from keras.utils import np_utils\n",
    "from keras.preprocessing.text import one_hot\n",
    "from sklearn.preprocessing import LabelEncoder\n",
    "\n",
    "from keras.preprocessing.sequence import pad_sequences\n",
    "from keras.preprocessing.text import Tokenizer\n",
    "from sklearn import preprocessing"
   ]
  },
  {
   "cell_type": "code",
   "execution_count": 2,
   "metadata": {},
   "outputs": [
    {
     "name": "stdout",
     "output_type": "stream",
     "text": [
      "['EAP' 'HPL' 'MWS']\n"
     ]
    },
    {
     "data": {
      "text/plain": [
       "array([[ 1.,  0.,  0.],\n",
       "       [ 0.,  1.,  0.],\n",
       "       [ 1.,  0.,  0.],\n",
       "       ..., \n",
       "       [ 1.,  0.,  0.],\n",
       "       [ 1.,  0.,  0.],\n",
       "       [ 0.,  1.,  0.]])"
      ]
     },
     "execution_count": 2,
     "metadata": {},
     "output_type": "execute_result"
    }
   ],
   "source": [
    "train_df = pd.read_csv('D:/Program/dataset/Spooky_Author_Identification/train.csv')\n",
    "test_df = pd.read_csv('D:/Program/dataset/Spooky_Author_Identification/test.csv')\n",
    "\n",
    "# Label Onehot encoding  \n",
    "\n",
    "le = LabelEncoder()\n",
    "le.fit(train_df['author'])\n",
    "print(le.classes_)\n",
    "\n",
    "y = le.transform(train_df['author'])\n",
    "y_train = np_utils.to_categorical(y)\n",
    "\n",
    "y_train"
   ]
  },
  {
   "cell_type": "code",
   "execution_count": 3,
   "metadata": {},
   "outputs": [
    {
     "name": "stdout",
     "output_type": "stream",
     "text": [
      "(19579, 24992)\n",
      "(8392, 24992)\n"
     ]
    }
   ],
   "source": [
    "with open('keras_input_train.pkl', 'rb') as f:\n",
    "    sequences = pickle.load(f)\n",
    "with open('keras_input_test.pkl', 'rb') as f:\n",
    "    test_sequences = pickle.load(f)\n",
    "    \n",
    "x_train = sequences\n",
    "x_test = test_sequences\n",
    "\n",
    "print(x_train.shape)\n",
    "print(x_test.shape)"
   ]
  },
  {
   "cell_type": "code",
   "execution_count": 15,
   "metadata": {},
   "outputs": [],
   "source": [
    "# TIME_STEPS = 28     # same as the height of the image\n",
    "# INPUT_SIZE = 28     # same as the width of the image\n",
    "# BATCH_SIZE = 50\n",
    "# BATCH_INDEX = 0\n",
    "# OUTPUT_SIZE = 10\n",
    "# CELL_SIZE = 100\n",
    "\n",
    "NUM_WORDS = 200\n",
    "N = 20\n",
    "MAX_LEN = x_train.shape[1]\n"
   ]
  },
  {
   "cell_type": "code",
   "execution_count": 22,
   "metadata": {},
   "outputs": [
    {
     "name": "stdout",
     "output_type": "stream",
     "text": [
      "_________________________________________________________________\n",
      "Layer (type)                 Output Shape              Param #   \n",
      "=================================================================\n",
      "embedding_4 (Embedding)      (None, 500, 20)           4000      \n",
      "_________________________________________________________________\n",
      "lstm_6 (LSTM)                (None, 500, 20)           3280      \n",
      "_________________________________________________________________\n",
      "flatten_5 (Flatten)          (None, 10000)             0         \n",
      "_________________________________________________________________\n",
      "output (Dense)               (None, 3)                 30003     \n",
      "=================================================================\n",
      "Total params: 37,283\n",
      "Trainable params: 37,283\n",
      "Non-trainable params: 0\n",
      "_________________________________________________________________\n"
     ]
    }
   ],
   "source": [
    "# model = Sequential() \n",
    "# model.add(Embedding(NUM_WORDS, N, input_length=500))\n",
    "# model.add(LSTM(N, dropout=0.2, recurrent_dropout=0.2, return_sequences=True))\n",
    "# model.add(Flatten())\n",
    "# # model.add(Dense(64, activation='relu'))\n",
    "# # model.add(Dropout(0.2))\n",
    "# model.add(Dense(3, activation='softmax',name=\"output\"))\n",
    "# model.summary()"
   ]
  },
  {
   "cell_type": "code",
   "execution_count": 23,
   "metadata": {
    "collapsed": true
   },
   "outputs": [],
   "source": [
    "# model.compile(loss='categorical_crossentropy', optimizer='adam', metrics=['accuracy'])"
   ]
  },
  {
   "cell_type": "code",
   "execution_count": 25,
   "metadata": {},
   "outputs": [],
   "source": [
    "# train_history = model.fit(x_train.todense(), y_train, validation_split=0.2, epochs=5, batch_size=20, verbose=1)"
   ]
  },
  {
   "cell_type": "code",
   "execution_count": 29,
   "metadata": {},
   "outputs": [],
   "source": [
    "NUM_WORDS = 16000\n",
    "N = 12\n",
    "MAX_LEN = 300\n",
    "\n",
    "tmp_X = train_df['text']\n",
    "tmp_Y = train_df['author']\n",
    "tmp_X_test = test_df['text']\n",
    "\n",
    "tokenizer = Tokenizer(num_words=NUM_WORDS)\n",
    "tokenizer.fit_on_texts(tmp_X)\n",
    "\n",
    "ttrain_x = tokenizer.texts_to_sequences(tmp_X)\n",
    "ttrain_x = pad_sequences(ttrain_x, maxlen=MAX_LEN)\n",
    "\n",
    "ttest_x = tokenizer.texts_to_sequences(tmp_X_test)\n",
    "ttest_x = pad_sequences(ttest_x, maxlen=MAX_LEN)\n",
    "\n",
    "lb = preprocessing.LabelBinarizer()\n",
    "lb.fit(tmp_Y)\n",
    "\n",
    "ttrain_y = lb.transform(tmp_Y)"
   ]
  },
  {
   "cell_type": "code",
   "execution_count": 31,
   "metadata": {},
   "outputs": [
    {
     "name": "stdout",
     "output_type": "stream",
     "text": [
      "_________________________________________________________________\n",
      "Layer (type)                 Output Shape              Param #   \n",
      "=================================================================\n",
      "embedding_6 (Embedding)      (None, 300, 12)           192000    \n",
      "_________________________________________________________________\n",
      "lstm_8 (LSTM)                (None, 300, 12)           1200      \n",
      "_________________________________________________________________\n",
      "flatten_7 (Flatten)          (None, 3600)              0         \n",
      "_________________________________________________________________\n",
      "dense_5 (Dense)              (None, 64)                230464    \n",
      "_________________________________________________________________\n",
      "dropout_5 (Dropout)          (None, 64)                0         \n",
      "_________________________________________________________________\n",
      "dense_6 (Dense)              (None, 3)                 195       \n",
      "=================================================================\n",
      "Total params: 423,859\n",
      "Trainable params: 423,859\n",
      "Non-trainable params: 0\n",
      "_________________________________________________________________\n"
     ]
    }
   ],
   "source": [
    "model = Sequential()\n",
    "model.add(Embedding(NUM_WORDS, N, input_length=MAX_LEN))\n",
    "model.add(LSTM(N, dropout=0.2, recurrent_dropout=0.2, return_sequences=True))\n",
    "model.add(Flatten())\n",
    "model.add(Dense(64, activation='relu'))\n",
    "model.add(Dropout(0.2))\n",
    "model.add(Dense(3, activation='softmax'))\n",
    "model.compile(loss='categorical_crossentropy', optimizer='adam', metrics=['accuracy'])\n",
    "model.summary()"
   ]
  },
  {
   "cell_type": "code",
   "execution_count": 32,
   "metadata": {},
   "outputs": [
    {
     "name": "stdout",
     "output_type": "stream",
     "text": [
      "Train on 17621 samples, validate on 1958 samples\n",
      "Epoch 1/10\n",
      "17621/17621 [==============================] - 65s - loss: 0.9772 - acc: 0.5081 - val_loss: 0.6951 - val_acc: 0.7217\n",
      "Epoch 2/10\n",
      "17621/17621 [==============================] - 61s - loss: 0.4926 - acc: 0.8061 - val_loss: 0.4365 - val_acc: 0.8258\n",
      "Epoch 3/10\n",
      "17621/17621 [==============================] - 61s - loss: 0.2853 - acc: 0.8949 - val_loss: 0.4143 - val_acc: 0.8407\n",
      "Epoch 4/10\n",
      "17621/17621 [==============================] - 61s - loss: 0.1896 - acc: 0.9325 - val_loss: 0.4599 - val_acc: 0.8447\n",
      "Epoch 5/10\n",
      "17621/17621 [==============================] - 62s - loss: 0.1376 - acc: 0.9528 - val_loss: 0.5009 - val_acc: 0.8304\n",
      "Epoch 6/10\n",
      "17621/17621 [==============================] - 61s - loss: 0.1080 - acc: 0.9642 - val_loss: 0.5504 - val_acc: 0.8330\n",
      "Epoch 7/10\n",
      "17621/17621 [==============================] - 61s - loss: 0.0817 - acc: 0.9720 - val_loss: 0.6437 - val_acc: 0.8299\n",
      "Epoch 8/10\n",
      "17621/17621 [==============================] - 61s - loss: 0.0712 - acc: 0.9768 - val_loss: 0.6525 - val_acc: 0.8269\n",
      "Epoch 9/10\n",
      "17621/17621 [==============================] - 61s - loss: 0.0597 - acc: 0.9806 - val_loss: 0.7436 - val_acc: 0.8136\n",
      "Epoch 10/10\n",
      "17621/17621 [==============================] - 61s - loss: 0.0473 - acc: 0.9838 - val_loss: 0.7845 - val_acc: 0.8243\n"
     ]
    },
    {
     "data": {
      "text/plain": [
       "<keras.callbacks.History at 0x1dc23746eb8>"
      ]
     },
     "execution_count": 32,
     "metadata": {},
     "output_type": "execute_result"
    }
   ],
   "source": [
    "model.fit(ttrain_x, ttrain_y, \n",
    "                  validation_split=0.1,\n",
    "                  batch_size=128, epochs=10, \n",
    "                  verbose=1,\n",
    "                 )"
   ]
  },
  {
   "cell_type": "code",
   "execution_count": 33,
   "metadata": {},
   "outputs": [
    {
     "name": "stdout",
     "output_type": "stream",
     "text": [
      "19579/19579 [==============================] - 64s    \n",
      "\n",
      "[0.098476597449195569, 0.97701619085626745]\n"
     ]
    }
   ],
   "source": [
    "scores = model.evaluate(ttrain_x, ttrain_y)  \n",
    "print()\n",
    "print(scores)"
   ]
  },
  {
   "cell_type": "code",
   "execution_count": 34,
   "metadata": {},
   "outputs": [
    {
     "name": "stdout",
     "output_type": "stream",
     "text": [
      "\n",
      "Show 10 prediction result :\n",
      "[[  3.33677488e-03   4.13969217e-04   9.96249259e-01]\n",
      " [  9.99999881e-01   8.78515110e-08   7.32659888e-09]\n",
      " [  1.34132293e-04   9.99862909e-01   3.00555143e-06]\n",
      " [  9.99899030e-01   1.00462166e-04   5.33828427e-07]\n",
      " [  9.98400390e-01   9.35346645e-04   6.64288469e-04]\n",
      " [  9.98546362e-01   1.42261619e-03   3.11006479e-05]\n",
      " [  9.93996382e-01   4.40580165e-03   1.59775652e-03]\n",
      " [  5.40444031e-02   2.11553052e-02   9.24800277e-01]\n",
      " [  1.00000000e+00   1.14381160e-09   3.30956755e-11]\n",
      " [  9.96955276e-01   8.84667097e-04   2.16001016e-03]]\n",
      "(8392, 3)\n",
      "Wall time: 25.8 s\n"
     ]
    }
   ],
   "source": [
    "%%time\n",
    "prediction = model.predict(ttest_x)\n",
    "print()\n",
    "print(\"Show 10 prediction result :\")  \n",
    "print(prediction[:10])\n",
    "print(prediction.shape)"
   ]
  },
  {
   "cell_type": "code",
   "execution_count": 35,
   "metadata": {},
   "outputs": [
    {
     "data": {
      "text/html": [
       "<div>\n",
       "<style>\n",
       "    .dataframe thead tr:only-child th {\n",
       "        text-align: right;\n",
       "    }\n",
       "\n",
       "    .dataframe thead th {\n",
       "        text-align: left;\n",
       "    }\n",
       "\n",
       "    .dataframe tbody tr th {\n",
       "        vertical-align: top;\n",
       "    }\n",
       "</style>\n",
       "<table border=\"1\" class=\"dataframe\">\n",
       "  <thead>\n",
       "    <tr style=\"text-align: right;\">\n",
       "      <th></th>\n",
       "      <th>id</th>\n",
       "      <th>EAP</th>\n",
       "      <th>HPL</th>\n",
       "      <th>MWS</th>\n",
       "    </tr>\n",
       "  </thead>\n",
       "  <tbody>\n",
       "    <tr>\n",
       "      <th>0</th>\n",
       "      <td>id02310</td>\n",
       "      <td>0.003337</td>\n",
       "      <td>4.139692e-04</td>\n",
       "      <td>9.962493e-01</td>\n",
       "    </tr>\n",
       "    <tr>\n",
       "      <th>1</th>\n",
       "      <td>id24541</td>\n",
       "      <td>1.000000</td>\n",
       "      <td>8.785151e-08</td>\n",
       "      <td>7.326599e-09</td>\n",
       "    </tr>\n",
       "    <tr>\n",
       "      <th>2</th>\n",
       "      <td>id00134</td>\n",
       "      <td>0.000134</td>\n",
       "      <td>9.998629e-01</td>\n",
       "      <td>3.005551e-06</td>\n",
       "    </tr>\n",
       "    <tr>\n",
       "      <th>3</th>\n",
       "      <td>id27757</td>\n",
       "      <td>0.999899</td>\n",
       "      <td>1.004622e-04</td>\n",
       "      <td>5.338284e-07</td>\n",
       "    </tr>\n",
       "    <tr>\n",
       "      <th>4</th>\n",
       "      <td>id04081</td>\n",
       "      <td>0.998400</td>\n",
       "      <td>9.353466e-04</td>\n",
       "      <td>6.642885e-04</td>\n",
       "    </tr>\n",
       "    <tr>\n",
       "      <th>5</th>\n",
       "      <td>id27337</td>\n",
       "      <td>0.998546</td>\n",
       "      <td>1.422616e-03</td>\n",
       "      <td>3.110065e-05</td>\n",
       "    </tr>\n",
       "    <tr>\n",
       "      <th>6</th>\n",
       "      <td>id24265</td>\n",
       "      <td>0.993996</td>\n",
       "      <td>4.405802e-03</td>\n",
       "      <td>1.597757e-03</td>\n",
       "    </tr>\n",
       "    <tr>\n",
       "      <th>7</th>\n",
       "      <td>id25917</td>\n",
       "      <td>0.054044</td>\n",
       "      <td>2.115531e-02</td>\n",
       "      <td>9.248003e-01</td>\n",
       "    </tr>\n",
       "    <tr>\n",
       "      <th>8</th>\n",
       "      <td>id04951</td>\n",
       "      <td>1.000000</td>\n",
       "      <td>1.143812e-09</td>\n",
       "      <td>3.309568e-11</td>\n",
       "    </tr>\n",
       "    <tr>\n",
       "      <th>9</th>\n",
       "      <td>id14549</td>\n",
       "      <td>0.996955</td>\n",
       "      <td>8.846671e-04</td>\n",
       "      <td>2.160010e-03</td>\n",
       "    </tr>\n",
       "  </tbody>\n",
       "</table>\n",
       "</div>"
      ],
      "text/plain": [
       "        id       EAP           HPL           MWS\n",
       "0  id02310  0.003337  4.139692e-04  9.962493e-01\n",
       "1  id24541  1.000000  8.785151e-08  7.326599e-09\n",
       "2  id00134  0.000134  9.998629e-01  3.005551e-06\n",
       "3  id27757  0.999899  1.004622e-04  5.338284e-07\n",
       "4  id04081  0.998400  9.353466e-04  6.642885e-04\n",
       "5  id27337  0.998546  1.422616e-03  3.110065e-05\n",
       "6  id24265  0.993996  4.405802e-03  1.597757e-03\n",
       "7  id25917  0.054044  2.115531e-02  9.248003e-01\n",
       "8  id04951  1.000000  1.143812e-09  3.309568e-11\n",
       "9  id14549  0.996955  8.846671e-04  2.160010e-03"
      ]
     },
     "execution_count": 35,
     "metadata": {},
     "output_type": "execute_result"
    }
   ],
   "source": [
    "# submission\n",
    "\n",
    "submission = pd.DataFrame(prediction, columns=le.classes_)\n",
    "submission[\"id\"] = test_df[\"id\"]\n",
    "cols = submission.columns.tolist()\n",
    "cols = cols[-1:]+cols[:-1]\n",
    "submission = submission[cols]\n",
    "submission.head(10)"
   ]
  },
  {
   "cell_type": "code",
   "execution_count": 36,
   "metadata": {
    "collapsed": true
   },
   "outputs": [],
   "source": [
    "submission.to_csv('submission_lstm.csv',index=False)"
   ]
  },
  {
   "cell_type": "code",
   "execution_count": null,
   "metadata": {
    "collapsed": true
   },
   "outputs": [],
   "source": []
  }
 ],
 "metadata": {
  "kernelspec": {
   "display_name": "Python 3",
   "language": "python",
   "name": "python3"
  },
  "language_info": {
   "codemirror_mode": {
    "name": "ipython",
    "version": 3
   },
   "file_extension": ".py",
   "mimetype": "text/x-python",
   "name": "python",
   "nbconvert_exporter": "python",
   "pygments_lexer": "ipython3",
   "version": "3.6.2"
  }
 },
 "nbformat": 4,
 "nbformat_minor": 2
}
