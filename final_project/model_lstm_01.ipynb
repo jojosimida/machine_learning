{
 "cells": [
  {
   "cell_type": "code",
   "execution_count": 13,
   "metadata": {},
   "outputs": [],
   "source": [
    "import pandas as pd\n",
    "import numpy as np\n",
    "import pickle\n",
    "\n",
    "from keras.models import Sequential\n",
    "from keras.layers import Dense, Dropout, Embedding, LSTM, Flatten\n",
    "from keras.utils import np_utils\n",
    "from keras.preprocessing.text import one_hot\n",
    "from sklearn.preprocessing import LabelEncoder\n",
    "\n",
    "from keras.preprocessing.sequence import pad_sequences\n",
    "from keras.preprocessing.text import Tokenizer\n",
    "from sklearn import preprocessing"
   ]
  },
  {
   "cell_type": "code",
   "execution_count": 14,
   "metadata": {},
   "outputs": [
    {
     "name": "stdout",
     "output_type": "stream",
     "text": [
      "['EAP' 'HPL' 'MWS']\n"
     ]
    },
    {
     "data": {
      "text/plain": [
       "array([[ 1.,  0.,  0.],\n",
       "       [ 0.,  1.,  0.],\n",
       "       [ 1.,  0.,  0.],\n",
       "       ..., \n",
       "       [ 1.,  0.,  0.],\n",
       "       [ 1.,  0.,  0.],\n",
       "       [ 0.,  1.,  0.]])"
      ]
     },
     "execution_count": 14,
     "metadata": {},
     "output_type": "execute_result"
    }
   ],
   "source": [
    "train_df = pd.read_csv('D:/Program/dataset/Spooky_Author_Identification/train.csv')\n",
    "test_df = pd.read_csv('D:/Program/dataset/Spooky_Author_Identification/test.csv')\n",
    "\n",
    "# Label Onehot encoding  \n",
    "\n",
    "le = LabelEncoder()\n",
    "le.fit(train_df['author'])\n",
    "print(le.classes_)\n",
    "\n",
    "y = le.transform(train_df['author'])\n",
    "y_train = np_utils.to_categorical(y)\n",
    "\n",
    "y_train"
   ]
  },
  {
   "cell_type": "code",
   "execution_count": 15,
   "metadata": {},
   "outputs": [
    {
     "name": "stdout",
     "output_type": "stream",
     "text": [
      "(19579, 24992)\n",
      "(8392, 24992)\n"
     ]
    }
   ],
   "source": [
    "with open('keras_input_train.pkl', 'rb') as f:\n",
    "    sequences = pickle.load(f)\n",
    "with open('keras_input_test.pkl', 'rb') as f:\n",
    "    test_sequences = pickle.load(f)\n",
    "    \n",
    "x_train = sequences\n",
    "x_test = test_sequences\n",
    "\n",
    "print(x_train.shape)\n",
    "print(x_test.shape)"
   ]
  },
  {
   "cell_type": "code",
   "execution_count": 17,
   "metadata": {
    "collapsed": true
   },
   "outputs": [],
   "source": [
    "# tfidf\n",
    "\n",
    "NUM_WORDS = 16000\n",
    "N = 12\n",
    "MAX_LEN = 300\n",
    "\n",
    "tmp_X = train_df['text']\n",
    "tmp_Y = train_df['author']\n",
    "tmp_X_test = test_df['text']\n",
    "\n",
    "tokenizer = Tokenizer(num_words=NUM_WORDS)\n",
    "tokenizer.fit_on_texts(tmp_X)\n",
    "\n",
    "ttrain_x = tokenizer.texts_to_sequences(tmp_X)\n",
    "ttrain_x = pad_sequences(ttrain_x, maxlen=MAX_LEN)\n",
    "\n",
    "ttest_x = tokenizer.texts_to_sequences(tmp_X_test)\n",
    "ttest_x = pad_sequences(ttest_x, maxlen=MAX_LEN)\n",
    "\n",
    "lb = preprocessing.LabelBinarizer()\n",
    "lb.fit(tmp_Y)\n",
    "\n",
    "ttrain_y = lb.transform(tmp_Y)"
   ]
  },
  {
   "cell_type": "code",
   "execution_count": 18,
   "metadata": {},
   "outputs": [
    {
     "name": "stdout",
     "output_type": "stream",
     "text": [
      "_________________________________________________________________\n",
      "Layer (type)                 Output Shape              Param #   \n",
      "=================================================================\n",
      "embedding_1 (Embedding)      (None, 300, 12)           192000    \n",
      "_________________________________________________________________\n",
      "lstm_1 (LSTM)                (None, 300, 12)           1200      \n",
      "_________________________________________________________________\n",
      "flatten_1 (Flatten)          (None, 3600)              0         \n",
      "_________________________________________________________________\n",
      "dense_1 (Dense)              (None, 64)                230464    \n",
      "_________________________________________________________________\n",
      "dropout_1 (Dropout)          (None, 64)                0         \n",
      "_________________________________________________________________\n",
      "dense_2 (Dense)              (None, 3)                 195       \n",
      "=================================================================\n",
      "Total params: 423,859\n",
      "Trainable params: 423,859\n",
      "Non-trainable params: 0\n",
      "_________________________________________________________________\n"
     ]
    }
   ],
   "source": [
    "model = Sequential()\n",
    "\n",
    "# If use LSTM, add Embedding layer first\n",
    "# If \"return_sequences=True\" , output shape will add one dimension in the middle\n",
    "# Add \"Flatten()\" let output dimension to one\n",
    "model.add(Embedding(NUM_WORDS, N, input_length=MAX_LEN))\n",
    "model.add(LSTM(N, dropout=0.2, recurrent_dropout=0.2, return_sequences=True))\n",
    "model.add(Flatten())\n",
    "\n",
    "model.add(Dense(64, activation='relu'))\n",
    "model.add(Dropout(0.2))\n",
    "model.add(Dense(3, activation='softmax'))\n",
    "model.compile(loss='categorical_crossentropy', optimizer='adam', metrics=['accuracy'])\n",
    "model.summary()"
   ]
  },
  {
   "cell_type": "code",
   "execution_count": 19,
   "metadata": {},
   "outputs": [
    {
     "name": "stdout",
     "output_type": "stream",
     "text": [
      "Train on 17621 samples, validate on 1958 samples\n",
      "Epoch 1/10\n",
      "17621/17621 [==============================] - 60s - loss: 0.9627 - acc: 0.5146 - val_loss: 0.6202 - val_acc: 0.7375\n",
      "Epoch 2/10\n",
      "17621/17621 [==============================] - 61s - loss: 0.4643 - acc: 0.8199 - val_loss: 0.4285 - val_acc: 0.8304\n",
      "Epoch 3/10\n",
      "17621/17621 [==============================] - 67s - loss: 0.2763 - acc: 0.9009 - val_loss: 0.4157 - val_acc: 0.8407\n",
      "Epoch 4/10\n",
      "17621/17621 [==============================] - 64s - loss: 0.1809 - acc: 0.9377 - val_loss: 0.4529 - val_acc: 0.8412\n",
      "Epoch 5/10\n",
      "17621/17621 [==============================] - 64s - loss: 0.1372 - acc: 0.9510 - val_loss: 0.4825 - val_acc: 0.8401\n",
      "Epoch 6/10\n",
      "17621/17621 [==============================] - 67s - loss: 0.1011 - acc: 0.9653 - val_loss: 0.5347 - val_acc: 0.8386\n",
      "Epoch 7/10\n",
      "17621/17621 [==============================] - 64s - loss: 0.0781 - acc: 0.9737 - val_loss: 0.6079 - val_acc: 0.8335\n",
      "Epoch 8/10\n",
      "17621/17621 [==============================] - 65s - loss: 0.0625 - acc: 0.9785 - val_loss: 0.6680 - val_acc: 0.8325\n",
      "Epoch 9/10\n",
      "17621/17621 [==============================] - 65s - loss: 0.0533 - acc: 0.9821 - val_loss: 0.6808 - val_acc: 0.8264\n",
      "Epoch 10/10\n",
      "17621/17621 [==============================] - 64s - loss: 0.0470 - acc: 0.9845 - val_loss: 0.8342 - val_acc: 0.8202\n"
     ]
    },
    {
     "data": {
      "text/plain": [
       "<keras.callbacks.History at 0x228a642fcc0>"
      ]
     },
     "execution_count": 19,
     "metadata": {},
     "output_type": "execute_result"
    }
   ],
   "source": [
    "model.fit(ttrain_x, ttrain_y, \n",
    "                  validation_split=0.1,\n",
    "                  batch_size=128, epochs=10, \n",
    "                  verbose=1,\n",
    "                 )"
   ]
  },
  {
   "cell_type": "code",
   "execution_count": 20,
   "metadata": {},
   "outputs": [
    {
     "name": "stdout",
     "output_type": "stream",
     "text": [
      "19579/19579 [==============================] - 59s    \n",
      "\n",
      "[0.10344426550426419, 0.97609683843718176]\n"
     ]
    }
   ],
   "source": [
    "scores = model.evaluate(ttrain_x, ttrain_y)  \n",
    "print()\n",
    "print(scores)"
   ]
  },
  {
   "cell_type": "code",
   "execution_count": 21,
   "metadata": {},
   "outputs": [
    {
     "name": "stdout",
     "output_type": "stream",
     "text": [
      "\n",
      "Show 10 prediction result :\n",
      "[[  5.11398481e-04   1.68094994e-05   9.99471843e-01]\n",
      " [  1.00000000e+00   1.04812869e-08   5.85301851e-09]\n",
      " [  1.27971254e-03   9.98595417e-01   1.24923972e-04]\n",
      " [  3.58149819e-02   9.64108169e-01   7.68208411e-05]\n",
      " [  9.99523997e-01   2.56788946e-04   2.19228867e-04]\n",
      " [  4.32424575e-01   5.67425549e-01   1.49814121e-04]\n",
      " [  9.94698644e-01   4.89916280e-03   4.02204547e-04]\n",
      " [  1.05108891e-03   2.53042235e-04   9.98695910e-01]\n",
      " [  1.00000000e+00   4.56178828e-09   9.12870127e-12]\n",
      " [  9.95947182e-01   2.65623850e-04   3.78729939e-03]]\n",
      "(8392, 3)\n",
      "Wall time: 22.3 s\n"
     ]
    }
   ],
   "source": [
    "%%time\n",
    "prediction = model.predict(ttest_x)\n",
    "print()\n",
    "print(\"Show 10 prediction result :\")  \n",
    "print(prediction[:10])\n",
    "print(prediction.shape)"
   ]
  },
  {
   "cell_type": "code",
   "execution_count": 22,
   "metadata": {},
   "outputs": [
    {
     "data": {
      "text/html": [
       "<div>\n",
       "<style>\n",
       "    .dataframe thead tr:only-child th {\n",
       "        text-align: right;\n",
       "    }\n",
       "\n",
       "    .dataframe thead th {\n",
       "        text-align: left;\n",
       "    }\n",
       "\n",
       "    .dataframe tbody tr th {\n",
       "        vertical-align: top;\n",
       "    }\n",
       "</style>\n",
       "<table border=\"1\" class=\"dataframe\">\n",
       "  <thead>\n",
       "    <tr style=\"text-align: right;\">\n",
       "      <th></th>\n",
       "      <th>id</th>\n",
       "      <th>EAP</th>\n",
       "      <th>HPL</th>\n",
       "      <th>MWS</th>\n",
       "    </tr>\n",
       "  </thead>\n",
       "  <tbody>\n",
       "    <tr>\n",
       "      <th>0</th>\n",
       "      <td>id02310</td>\n",
       "      <td>0.000511</td>\n",
       "      <td>1.680950e-05</td>\n",
       "      <td>9.994718e-01</td>\n",
       "    </tr>\n",
       "    <tr>\n",
       "      <th>1</th>\n",
       "      <td>id24541</td>\n",
       "      <td>1.000000</td>\n",
       "      <td>1.048129e-08</td>\n",
       "      <td>5.853019e-09</td>\n",
       "    </tr>\n",
       "    <tr>\n",
       "      <th>2</th>\n",
       "      <td>id00134</td>\n",
       "      <td>0.001280</td>\n",
       "      <td>9.985954e-01</td>\n",
       "      <td>1.249240e-04</td>\n",
       "    </tr>\n",
       "    <tr>\n",
       "      <th>3</th>\n",
       "      <td>id27757</td>\n",
       "      <td>0.035815</td>\n",
       "      <td>9.641082e-01</td>\n",
       "      <td>7.682084e-05</td>\n",
       "    </tr>\n",
       "    <tr>\n",
       "      <th>4</th>\n",
       "      <td>id04081</td>\n",
       "      <td>0.999524</td>\n",
       "      <td>2.567889e-04</td>\n",
       "      <td>2.192289e-04</td>\n",
       "    </tr>\n",
       "    <tr>\n",
       "      <th>5</th>\n",
       "      <td>id27337</td>\n",
       "      <td>0.432425</td>\n",
       "      <td>5.674255e-01</td>\n",
       "      <td>1.498141e-04</td>\n",
       "    </tr>\n",
       "    <tr>\n",
       "      <th>6</th>\n",
       "      <td>id24265</td>\n",
       "      <td>0.994699</td>\n",
       "      <td>4.899163e-03</td>\n",
       "      <td>4.022045e-04</td>\n",
       "    </tr>\n",
       "    <tr>\n",
       "      <th>7</th>\n",
       "      <td>id25917</td>\n",
       "      <td>0.001051</td>\n",
       "      <td>2.530422e-04</td>\n",
       "      <td>9.986959e-01</td>\n",
       "    </tr>\n",
       "    <tr>\n",
       "      <th>8</th>\n",
       "      <td>id04951</td>\n",
       "      <td>1.000000</td>\n",
       "      <td>4.561788e-09</td>\n",
       "      <td>9.128701e-12</td>\n",
       "    </tr>\n",
       "    <tr>\n",
       "      <th>9</th>\n",
       "      <td>id14549</td>\n",
       "      <td>0.995947</td>\n",
       "      <td>2.656239e-04</td>\n",
       "      <td>3.787299e-03</td>\n",
       "    </tr>\n",
       "  </tbody>\n",
       "</table>\n",
       "</div>"
      ],
      "text/plain": [
       "        id       EAP           HPL           MWS\n",
       "0  id02310  0.000511  1.680950e-05  9.994718e-01\n",
       "1  id24541  1.000000  1.048129e-08  5.853019e-09\n",
       "2  id00134  0.001280  9.985954e-01  1.249240e-04\n",
       "3  id27757  0.035815  9.641082e-01  7.682084e-05\n",
       "4  id04081  0.999524  2.567889e-04  2.192289e-04\n",
       "5  id27337  0.432425  5.674255e-01  1.498141e-04\n",
       "6  id24265  0.994699  4.899163e-03  4.022045e-04\n",
       "7  id25917  0.001051  2.530422e-04  9.986959e-01\n",
       "8  id04951  1.000000  4.561788e-09  9.128701e-12\n",
       "9  id14549  0.995947  2.656239e-04  3.787299e-03"
      ]
     },
     "execution_count": 22,
     "metadata": {},
     "output_type": "execute_result"
    }
   ],
   "source": [
    "# submission\n",
    "\n",
    "submission = pd.DataFrame(prediction, columns=le.classes_)\n",
    "submission[\"id\"] = test_df[\"id\"]\n",
    "cols = submission.columns.tolist()\n",
    "cols = cols[-1:]+cols[:-1]\n",
    "submission = submission[cols]\n",
    "submission.head(10)"
   ]
  },
  {
   "cell_type": "code",
   "execution_count": 23,
   "metadata": {
    "collapsed": true
   },
   "outputs": [],
   "source": [
    "submission.to_csv('submission_lstm.csv',index=False)"
   ]
  },
  {
   "cell_type": "code",
   "execution_count": 25,
   "metadata": {},
   "outputs": [
    {
     "data": {
      "text/plain": [
       "(19579, 24992)"
      ]
     },
     "execution_count": 25,
     "metadata": {},
     "output_type": "execute_result"
    }
   ],
   "source": [
    "x_train.todense().shape"
   ]
  },
  {
   "cell_type": "code",
   "execution_count": 25,
   "metadata": {},
   "outputs": [
    {
     "data": {
      "text/plain": [
       "(19579, 300)"
      ]
     },
     "execution_count": 25,
     "metadata": {},
     "output_type": "execute_result"
    }
   ],
   "source": [
    "ttrain_x.shape"
   ]
  },
  {
   "cell_type": "code",
   "execution_count": 26,
   "metadata": {},
   "outputs": [
    {
     "data": {
      "text/plain": [
       "array([[1, 0, 0],\n",
       "       [0, 1, 0],\n",
       "       [1, 0, 0],\n",
       "       ..., \n",
       "       [1, 0, 0],\n",
       "       [1, 0, 0],\n",
       "       [0, 1, 0]])"
      ]
     },
     "execution_count": 26,
     "metadata": {},
     "output_type": "execute_result"
    }
   ],
   "source": [
    "ttrain_y"
   ]
  },
  {
   "cell_type": "code",
   "execution_count": 27,
   "metadata": {},
   "outputs": [
    {
     "data": {
      "text/plain": [
       "array([[ 1.,  0.,  0.],\n",
       "       [ 0.,  1.,  0.],\n",
       "       [ 1.,  0.,  0.],\n",
       "       ..., \n",
       "       [ 1.,  0.,  0.],\n",
       "       [ 1.,  0.,  0.],\n",
       "       [ 0.,  1.,  0.]])"
      ]
     },
     "execution_count": 27,
     "metadata": {},
     "output_type": "execute_result"
    }
   ],
   "source": [
    "y_train"
   ]
  },
  {
   "cell_type": "code",
   "execution_count": null,
   "metadata": {
    "collapsed": true
   },
   "outputs": [],
   "source": []
  }
 ],
 "metadata": {
  "kernelspec": {
   "display_name": "Python 3",
   "language": "python",
   "name": "python3"
  },
  "language_info": {
   "codemirror_mode": {
    "name": "ipython",
    "version": 3
   },
   "file_extension": ".py",
   "mimetype": "text/x-python",
   "name": "python",
   "nbconvert_exporter": "python",
   "pygments_lexer": "ipython3",
   "version": "3.6.2"
  }
 },
 "nbformat": 4,
 "nbformat_minor": 2
}
