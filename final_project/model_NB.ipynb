{
 "cells": [
  {
   "cell_type": "code",
   "execution_count": 19,
   "metadata": {},
   "outputs": [],
   "source": [
    "import pandas as pd\n",
    "import numpy as np\n",
    "import pickle\n",
    "from sklearn.preprocessing import LabelEncoder\n",
    "from sklearn.naive_bayes import MultinomialNB\n",
    "from sklearn.metrics import accuracy_score\n",
    "from keras.utils import np_utils\n",
    "from sklearn.model_selection import KFold"
   ]
  },
  {
   "cell_type": "code",
   "execution_count": 20,
   "metadata": {
    "collapsed": true
   },
   "outputs": [],
   "source": [
    "train_df = pd.read_csv('D:/Program/dataset/Spooky_Author_Identification/train.csv')\n",
    "test_df = pd.read_csv('D:/Program/dataset/Spooky_Author_Identification/test.csv')\n",
    "\n",
    "y_train = train_df[\"author\"].values"
   ]
  },
  {
   "cell_type": "code",
   "execution_count": 21,
   "metadata": {},
   "outputs": [
    {
     "name": "stdout",
     "output_type": "stream",
     "text": [
      "(19579, 24992)\n",
      "(8392, 24992)\n"
     ]
    }
   ],
   "source": [
    "with open('keras_input_train.pkl', 'rb') as f:\n",
    "    sequences = pickle.load(f)\n",
    "with open('keras_input_test.pkl', 'rb') as f:\n",
    "    test_sequences = pickle.load(f)\n",
    "    \n",
    "x_train = sequences\n",
    "x_test = test_sequences\n",
    "\n",
    "print(x_train.shape)\n",
    "print(x_test.shape)"
   ]
  },
  {
   "cell_type": "code",
   "execution_count": 22,
   "metadata": {},
   "outputs": [
    {
     "name": "stdout",
     "output_type": "stream",
     "text": [
      "The number of splitting iterations in the cross-validator : 10\n",
      "\n",
      "The accuracy score of cross validation is 0.8140960163432074\n",
      "The accuracy score of cross validation is 0.8166496424923391\n",
      "The accuracy score of cross validation is 0.8100102145045965\n",
      "The accuracy score of cross validation is 0.8350357507660878\n",
      "The accuracy score of cross validation is 0.8038815117466803\n",
      "The accuracy score of cross validation is 0.8217568947906027\n",
      "The accuracy score of cross validation is 0.8084780388151175\n",
      "The accuracy score of cross validation is 0.8391215526046987\n",
      "The accuracy score of cross validation is 0.8381001021450459\n",
      "The accuracy score of cross validation is 0.8247317322432295\n",
      "\n",
      "The mean of the cross validation score is 0.8211861456451606\n",
      "Wall time: 37.3 s\n"
     ]
    }
   ],
   "source": [
    "%%time\n",
    "# use cross validation\n",
    "\n",
    "SPLIT = 10\n",
    "train_pred = 0\n",
    "\n",
    "print(\"The number of splitting iterations in the cross-validator : {}\".format(SPLIT))\n",
    "print()\n",
    "\n",
    "gnb =  MultinomialNB()\n",
    "kf = KFold(n_splits=SPLIT,shuffle=True)\n",
    "for train_index, test_index in kf.split(x_train):\n",
    "    gnb.fit(x_train[train_index].todense(), y_train[train_index])\n",
    "    \n",
    "    y_pred = gnb.predict(x_train[test_index].todense())\n",
    "    s = accuracy_score(y_train[test_index],y_pred)\n",
    "    print(\"The accuracy score of cross validation is {}\".format(s))\n",
    "    \n",
    "    train_pred += s/SPLIT\n",
    "\n",
    "print()    \n",
    "print(\"The mean of the cross validation score is {}\".format(train_pred))"
   ]
  },
  {
   "cell_type": "code",
   "execution_count": 23,
   "metadata": {},
   "outputs": [
    {
     "name": "stdout",
     "output_type": "stream",
     "text": [
      "The accuracy score 0.9032126257725114\n"
     ]
    }
   ],
   "source": [
    "y_pred = gnb.predict(x_train.todense())\n",
    "s = accuracy_score(y_train,y_pred)\n",
    "print(\"The accuracy score {}\".format(s))"
   ]
  },
  {
   "cell_type": "code",
   "execution_count": 24,
   "metadata": {},
   "outputs": [
    {
     "name": "stdout",
     "output_type": "stream",
     "text": [
      "['EAP' 'HPL' 'MWS']\n",
      "(8392, 3)\n"
     ]
    }
   ],
   "source": [
    "print(gnb.classes_)\n",
    "predict_probability = gnb.predict_proba(x_test)\n",
    "print(predict_probability.shape)"
   ]
  },
  {
   "cell_type": "code",
   "execution_count": 25,
   "metadata": {},
   "outputs": [
    {
     "data": {
      "text/html": [
       "<div>\n",
       "<style>\n",
       "    .dataframe thead tr:only-child th {\n",
       "        text-align: right;\n",
       "    }\n",
       "\n",
       "    .dataframe thead th {\n",
       "        text-align: left;\n",
       "    }\n",
       "\n",
       "    .dataframe tbody tr th {\n",
       "        vertical-align: top;\n",
       "    }\n",
       "</style>\n",
       "<table border=\"1\" class=\"dataframe\">\n",
       "  <thead>\n",
       "    <tr style=\"text-align: right;\">\n",
       "      <th></th>\n",
       "      <th>id</th>\n",
       "      <th>EAP</th>\n",
       "      <th>HPL</th>\n",
       "      <th>MWS</th>\n",
       "    </tr>\n",
       "  </thead>\n",
       "  <tbody>\n",
       "    <tr>\n",
       "      <th>0</th>\n",
       "      <td>id02310</td>\n",
       "      <td>0.254412</td>\n",
       "      <td>0.107675</td>\n",
       "      <td>0.637912</td>\n",
       "    </tr>\n",
       "    <tr>\n",
       "      <th>1</th>\n",
       "      <td>id24541</td>\n",
       "      <td>0.756738</td>\n",
       "      <td>0.143498</td>\n",
       "      <td>0.099764</td>\n",
       "    </tr>\n",
       "    <tr>\n",
       "      <th>2</th>\n",
       "      <td>id00134</td>\n",
       "      <td>0.513215</td>\n",
       "      <td>0.361134</td>\n",
       "      <td>0.125651</td>\n",
       "    </tr>\n",
       "    <tr>\n",
       "      <th>3</th>\n",
       "      <td>id27757</td>\n",
       "      <td>0.598115</td>\n",
       "      <td>0.342112</td>\n",
       "      <td>0.059773</td>\n",
       "    </tr>\n",
       "    <tr>\n",
       "      <th>4</th>\n",
       "      <td>id04081</td>\n",
       "      <td>0.704614</td>\n",
       "      <td>0.168976</td>\n",
       "      <td>0.126411</td>\n",
       "    </tr>\n",
       "    <tr>\n",
       "      <th>5</th>\n",
       "      <td>id27337</td>\n",
       "      <td>0.580908</td>\n",
       "      <td>0.293597</td>\n",
       "      <td>0.125495</td>\n",
       "    </tr>\n",
       "    <tr>\n",
       "      <th>6</th>\n",
       "      <td>id24265</td>\n",
       "      <td>0.530229</td>\n",
       "      <td>0.309271</td>\n",
       "      <td>0.160499</td>\n",
       "    </tr>\n",
       "    <tr>\n",
       "      <th>7</th>\n",
       "      <td>id25917</td>\n",
       "      <td>0.163623</td>\n",
       "      <td>0.222553</td>\n",
       "      <td>0.613824</td>\n",
       "    </tr>\n",
       "    <tr>\n",
       "      <th>8</th>\n",
       "      <td>id04951</td>\n",
       "      <td>0.835742</td>\n",
       "      <td>0.119795</td>\n",
       "      <td>0.044463</td>\n",
       "    </tr>\n",
       "    <tr>\n",
       "      <th>9</th>\n",
       "      <td>id14549</td>\n",
       "      <td>0.642689</td>\n",
       "      <td>0.164173</td>\n",
       "      <td>0.193138</td>\n",
       "    </tr>\n",
       "  </tbody>\n",
       "</table>\n",
       "</div>"
      ],
      "text/plain": [
       "        id       EAP       HPL       MWS\n",
       "0  id02310  0.254412  0.107675  0.637912\n",
       "1  id24541  0.756738  0.143498  0.099764\n",
       "2  id00134  0.513215  0.361134  0.125651\n",
       "3  id27757  0.598115  0.342112  0.059773\n",
       "4  id04081  0.704614  0.168976  0.126411\n",
       "5  id27337  0.580908  0.293597  0.125495\n",
       "6  id24265  0.530229  0.309271  0.160499\n",
       "7  id25917  0.163623  0.222553  0.613824\n",
       "8  id04951  0.835742  0.119795  0.044463\n",
       "9  id14549  0.642689  0.164173  0.193138"
      ]
     },
     "execution_count": 25,
     "metadata": {},
     "output_type": "execute_result"
    }
   ],
   "source": [
    "# submission\n",
    "\n",
    "submission = pd.DataFrame(predict_probability, columns=gnb.classes_)\n",
    "submission[\"id\"] = test_df[\"id\"]\n",
    "cols = submission.columns.tolist()\n",
    "cols = cols[-1:]+cols[:-1]\n",
    "submission = submission[cols]\n",
    "submission.head(10)"
   ]
  },
  {
   "cell_type": "code",
   "execution_count": 26,
   "metadata": {
    "collapsed": true
   },
   "outputs": [],
   "source": [
    "submission.to_csv('submission_NB.csv',index=False)"
   ]
  },
  {
   "cell_type": "code",
   "execution_count": null,
   "metadata": {
    "collapsed": true
   },
   "outputs": [],
   "source": []
  }
 ],
 "metadata": {
  "kernelspec": {
   "display_name": "Python 3",
   "language": "python",
   "name": "python3"
  },
  "language_info": {
   "codemirror_mode": {
    "name": "ipython",
    "version": 3
   },
   "file_extension": ".py",
   "mimetype": "text/x-python",
   "name": "python",
   "nbconvert_exporter": "python",
   "pygments_lexer": "ipython3",
   "version": "3.6.2"
  }
 },
 "nbformat": 4,
 "nbformat_minor": 2
}
