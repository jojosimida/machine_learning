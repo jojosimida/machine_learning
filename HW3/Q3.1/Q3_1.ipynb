{
 "cells": [
  {
   "cell_type": "code",
   "execution_count": 1,
   "metadata": {},
   "outputs": [
    {
     "name": "stderr",
     "output_type": "stream",
     "text": [
      "Using TensorFlow backend.\n"
     ]
    }
   ],
   "source": [
    "from keras.models import Sequential\n",
    "from keras.layers.core import Dense, Activation\n",
    "import numpy as np\n",
    "import time"
   ]
  },
  {
   "cell_type": "code",
   "execution_count": 2,
   "metadata": {
    "collapsed": true
   },
   "outputs": [],
   "source": [
    "\"\"\" The TensorFlow library wasn't compiled to use FMA instructions, \n",
    "but these are available on your machine and could speed up CPU computations.\"\"\"\n",
    "#import this code to solve this question\n",
    "import os\n",
    "os.environ['TF_CPP_MIN_LOG_LEVEL']='2'"
   ]
  },
  {
   "cell_type": "code",
   "execution_count": 3,
   "metadata": {},
   "outputs": [
    {
     "name": "stdout",
     "output_type": "stream",
     "text": [
      "_________________________________________________________________\n",
      "Layer (type)                 Output Shape              Param #   \n",
      "=================================================================\n",
      "hidden (Dense)               (None, 3)                 27        \n",
      "_________________________________________________________________\n",
      "output (Dense)               (None, 8)                 32        \n",
      "=================================================================\n",
      "Total params: 59\n",
      "Trainable params: 59\n",
      "Non-trainable params: 0\n",
      "_________________________________________________________________\n"
     ]
    }
   ],
   "source": [
    "model = Sequential()\n",
    "model.add(Dense(units=3,input_shape=(8,),activation=\"relu\",name=\"hidden\"))\n",
    "model.add(Dense(units=8,activation=\"softmax\",name=\"output\"))\n",
    "model.summary()"
   ]
  },
  {
   "cell_type": "code",
   "execution_count": 4,
   "metadata": {
    "collapsed": true
   },
   "outputs": [],
   "source": [
    "model.compile(loss=\"categorical_crossentropy\",optimizer=\"adam\")"
   ]
  },
  {
   "cell_type": "code",
   "execution_count": 5,
   "metadata": {
    "collapsed": true
   },
   "outputs": [],
   "source": [
    "# create data\n",
    "data = []\n",
    "for i in range(8):\n",
    "    l = np.zeros(8)\n",
    "    l[i]=1\n",
    "    data.append(l)\n",
    "    \n",
    "data = np.array(data)"
   ]
  },
  {
   "cell_type": "code",
   "execution_count": 6,
   "metadata": {
    "collapsed": true
   },
   "outputs": [],
   "source": [
    "t = time.clock()\n",
    "model.fit(data,data,batch_size=8,epochs=2000,verbose=0)\n",
    "t_cost = time.clock()-t"
   ]
  },
  {
   "cell_type": "code",
   "execution_count": 7,
   "metadata": {},
   "outputs": [
    {
     "name": "stdout",
     "output_type": "stream",
     "text": [
      "8/8 [==============================] - 0s\n",
      "0.0980730205774\n"
     ]
    }
   ],
   "source": [
    "score = model.evaluate(data,data)\n",
    "print(score)"
   ]
  },
  {
   "cell_type": "code",
   "execution_count": 8,
   "metadata": {
    "collapsed": true,
    "scrolled": true
   },
   "outputs": [],
   "source": [
    "result = model.predict(data)\n",
    "# result = [\"%.0f\" % j for i in result for j in i]\n",
    "result = [round(j,0) for i in result for j in i]\n",
    "result = np.asarray(result).reshape(-1,8)"
   ]
  },
  {
   "cell_type": "code",
   "execution_count": 9,
   "metadata": {},
   "outputs": [
    {
     "name": "stdout",
     "output_type": "stream",
     "text": [
      "input:\n",
      "[[ 1.  0.  0.  0.  0.  0.  0.  0.]\n",
      " [ 0.  1.  0.  0.  0.  0.  0.  0.]\n",
      " [ 0.  0.  1.  0.  0.  0.  0.  0.]\n",
      " [ 0.  0.  0.  1.  0.  0.  0.  0.]\n",
      " [ 0.  0.  0.  0.  1.  0.  0.  0.]\n",
      " [ 0.  0.  0.  0.  0.  1.  0.  0.]\n",
      " [ 0.  0.  0.  0.  0.  0.  1.  0.]\n",
      " [ 0.  0.  0.  0.  0.  0.  0.  1.]]\n",
      "\n",
      "Output:\n",
      "[[ 1.  0.  0.  0.  0.  0.  0.  0.]\n",
      " [ 0.  1.  0.  0.  0.  0.  0.  0.]\n",
      " [ 0.  0.  1.  0.  0.  0.  0.  0.]\n",
      " [ 0.  0.  0.  1.  0.  0.  0.  0.]\n",
      " [ 0.  0.  0.  0.  1.  0.  0.  0.]\n",
      " [ 0.  0.  0.  0.  0.  1.  0.  0.]\n",
      " [ 0.  0.  0.  0.  0.  0.  1.  0.]\n",
      " [ 0.  0.  0.  0.  0.  0.  0.  1.]]\n",
      "\n",
      "time cost: 2.0527405560948155s\n"
     ]
    }
   ],
   "source": [
    "print(\"input:\")\n",
    "print(data)\n",
    "print(\"\\nOutput:\")\n",
    "print(result)\n",
    "print()\n",
    "print(\"time cost: {}s\".format(t_cost))"
   ]
  },
  {
   "cell_type": "code",
   "execution_count": 12,
   "metadata": {},
   "outputs": [
    {
     "data": {
      "text/plain": [
       "[array([[ 1.88273191,  0.31239653, -1.21071601],\n",
       "        [-1.43147922,  1.69805479,  1.26833248],\n",
       "        [ 1.11096501,  0.77789211,  0.87340856],\n",
       "        [-1.4311496 , -1.4342289 ,  1.27587998],\n",
       "        [ 2.18535089, -1.43444145,  1.21589959],\n",
       "        [-0.36031696, -1.43432808, -1.21092236],\n",
       "        [-1.12525535,  1.8807404 , -1.21110296],\n",
       "        [-1.43143666, -0.24755242, -1.21091926]], dtype=float32),\n",
       " array([ 1.43122518,  1.43444872,  1.21071231], dtype=float32),\n",
       " array([[ 1.76724911, -1.80225599,  0.39622104, -1.58759367,  1.26988494,\n",
       "          0.0431917 , -1.34004557, -1.85072255],\n",
       "        [ 0.00412912,  1.22034132,  0.27458036, -1.78269422, -2.4407618 ,\n",
       "         -2.30325079,  2.46637821,  0.38133955],\n",
       "        [-2.27993035,  1.38346446,  0.79464406,  2.09681749,  1.00523293,\n",
       "         -1.28228021, -1.89564478, -1.54259503]], dtype=float32),\n",
       " array([-2.02892041, -2.39992738, -1.4456203 ,  0.18221156, -1.66362488,\n",
       "         2.82348704, -2.42349601,  2.10408998], dtype=float32)]"
      ]
     },
     "execution_count": 12,
     "metadata": {},
     "output_type": "execute_result"
    }
   ],
   "source": [
    "# get weights and bias\n",
    "m = model.get_weights()\n",
    "m"
   ]
  },
  {
   "cell_type": "code",
   "execution_count": 16,
   "metadata": {},
   "outputs": [
    {
     "name": "stdout",
     "output_type": "stream",
     "text": [
      "_________________________________________________________________\n",
      "Layer (type)                 Output Shape              Param #   \n",
      "=================================================================\n",
      "hidden (Dense)               (None, 3)                 27        \n",
      "_________________________________________________________________\n",
      "output (Dense)               (None, 8)                 32        \n",
      "=================================================================\n",
      "Total params: 59\n",
      "Trainable params: 59\n",
      "Non-trainable params: 0\n",
      "_________________________________________________________________\n"
     ]
    }
   ],
   "source": [
    "model.save(\"Q3_1.h5\")\n",
    "from keras.models import load_model\n",
    "model_test = load_model(\"Q3_1.h5\")\n",
    "model_test.summary()"
   ]
  },
  {
   "cell_type": "code",
   "execution_count": 22,
   "metadata": {},
   "outputs": [
    {
     "data": {
      "text/plain": [
       "array([[  3.31395721e+00,   1.74684525e+00,   0.00000000e+00],\n",
       "       [  0.00000000e+00,   3.13250351e+00,   2.47904491e+00],\n",
       "       [  2.54219007e+00,   2.21234083e+00,   2.08412075e+00],\n",
       "       [  7.55786896e-05,   2.19821930e-04,   2.48659229e+00],\n",
       "       [  3.61657619e+00,   7.27176666e-06,   2.42661190e+00],\n",
       "       [  1.07090819e+00,   1.20639801e-04,   0.00000000e+00],\n",
       "       [  3.05969834e-01,   3.31518912e+00,   0.00000000e+00],\n",
       "       [  0.00000000e+00,   1.18689632e+00,   0.00000000e+00]], dtype=float32)"
      ]
     },
     "execution_count": 22,
     "metadata": {},
     "output_type": "execute_result"
    }
   ],
   "source": [
    "model_l1 = Sequential()\n",
    "model_l1.add(Dense(units=3,input_shape=(8,),activation=\"relu\",name=\"hidden\",weights=model_test.layers[0].get_weights()))\n",
    "model_l1.predict(data)"
   ]
  },
  {
   "cell_type": "code",
   "execution_count": null,
   "metadata": {
    "collapsed": true
   },
   "outputs": [],
   "source": []
  }
 ],
 "metadata": {
  "kernelspec": {
   "display_name": "Python 3",
   "language": "python",
   "name": "python3"
  },
  "language_info": {
   "codemirror_mode": {
    "name": "ipython",
    "version": 3
   },
   "file_extension": ".py",
   "mimetype": "text/x-python",
   "name": "python",
   "nbconvert_exporter": "python",
   "pygments_lexer": "ipython3",
   "version": "3.6.2"
  }
 },
 "nbformat": 4,
 "nbformat_minor": 2
}
