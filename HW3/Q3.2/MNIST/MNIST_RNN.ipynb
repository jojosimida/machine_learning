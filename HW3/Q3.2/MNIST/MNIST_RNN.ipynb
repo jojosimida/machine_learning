{
 "cells": [
  {
   "cell_type": "code",
   "execution_count": 31,
   "metadata": {},
   "outputs": [],
   "source": [
    "import numpy as np\n",
    "import os\n",
    "import matplotlib.pyplot as plt \n",
    "from keras.utils import np_utils  "
   ]
  },
  {
   "cell_type": "code",
   "execution_count": 32,
   "metadata": {
    "collapsed": true
   },
   "outputs": [],
   "source": [
    "def load_mnist(path, kind='train'):\n",
    "\n",
    "    labels_path = str(path+'/{}-labels.idx1-ubyte'.format(kind))\n",
    "    images_path = str(path+'/{}-images.idx3-ubyte'.format(kind))\n",
    "\n",
    "    with open(labels_path, 'rb') as lbpath:\n",
    "        labels = np.frombuffer(lbpath.read(), dtype=np.uint8,\n",
    "                               offset=8)\n",
    "    \n",
    "    with open(images_path, 'rb') as imgpath:\n",
    "        images = np.frombuffer(imgpath.read(), dtype=np.uint8,\n",
    "                               offset=16).reshape(len(labels), 784)\n",
    "        \n",
    "    return images, labels"
   ]
  },
  {
   "cell_type": "code",
   "execution_count": 35,
   "metadata": {},
   "outputs": [
    {
     "name": "stdout",
     "output_type": "stream",
     "text": [
      "(60000, 28, 28)\n",
      "(10000, 28, 28)\n"
     ]
    }
   ],
   "source": [
    "# read the data in the path\n",
    "datapath = \"D:/Program/dataset/MNIST dataset\"\n",
    "X_train, Y_train = load_mnist(path=datapath)\n",
    "X_test, Y_test = load_mnist(path=datapath, kind=\"t10k\")\n",
    "\n",
    "# reshape data to number of data * pixel28*28\n",
    "X_train = X_train.reshape(X_train.shape[0], 28, 28).astype('float32')\n",
    "X_test = X_test.reshape(X_test.shape[0], 28, 28).astype('float32')\n",
    "\n",
    "print(X_train.shape)\n",
    "print(X_test.shape)"
   ]
  },
  {
   "cell_type": "code",
   "execution_count": 36,
   "metadata": {},
   "outputs": [
    {
     "name": "stdout",
     "output_type": "stream",
     "text": [
      "(60000, 28, 28)\n",
      "(10000, 28, 28)\n"
     ]
    }
   ],
   "source": [
    "# Data pre-processing\n",
    "# Normalization  \n",
    "X_train_norm = X_train/255\n",
    "X_test_norm = X_test/255\n",
    "\n",
    "# Label Onehot encoding  \n",
    "Y_trainOneHot = np_utils.to_categorical(Y_train)\n",
    "Y_testOneHot = np_utils.to_categorical(Y_test)\n",
    "\n",
    "print(X_train_norm.shape)\n",
    "print(X_test_norm.shape)"
   ]
  },
  {
   "cell_type": "code",
   "execution_count": 37,
   "metadata": {},
   "outputs": [
    {
     "data": {
      "text/plain": [
       "(28, 28)"
      ]
     },
     "execution_count": 37,
     "metadata": {},
     "output_type": "execute_result"
    }
   ],
   "source": [
    "X_train.shape[1:]"
   ]
  },
  {
   "cell_type": "code",
   "execution_count": 50,
   "metadata": {},
   "outputs": [
    {
     "name": "stdout",
     "output_type": "stream",
     "text": [
      "_________________________________________________________________\n",
      "Layer (type)                 Output Shape              Param #   \n",
      "=================================================================\n",
      "simple_rnn_5 (SimpleRNN)     (None, 1000)              1029000   \n",
      "_________________________________________________________________\n",
      "output (Dense)               (None, 10)                10010     \n",
      "=================================================================\n",
      "Total params: 1,039,010\n",
      "Trainable params: 1,039,010\n",
      "Non-trainable params: 0\n",
      "_________________________________________________________________\n"
     ]
    }
   ],
   "source": [
    "from keras.models import Sequential  \n",
    "from keras.layers import Dense\n",
    "from keras.layers import SimpleRNN\n",
    "\n",
    "model = Sequential() \n",
    "\n",
    "model.add(SimpleRNN(1000,activation='relu',input_shape=X_train.shape[1:]))\n",
    "model.add(Dense(units=10,activation=\"softmax\",name=\"output\"))\n",
    "model.summary() "
   ]
  },
  {
   "cell_type": "code",
   "execution_count": 51,
   "metadata": {
    "collapsed": true
   },
   "outputs": [],
   "source": [
    "model.compile(loss=\"categorical_crossentropy\",optimizer=\"adam\",metrics=['accuracy'])"
   ]
  },
  {
   "cell_type": "code",
   "execution_count": 52,
   "metadata": {},
   "outputs": [
    {
     "name": "stdout",
     "output_type": "stream",
     "text": [
      "Train on 48000 samples, validate on 12000 samples\n",
      "Epoch 1/20\n",
      "48000/48000 [==============================] - 12s - loss: 0.7797 - acc: 0.7342 - val_loss: 0.2148 - val_acc: 0.9366\n",
      "Epoch 2/20\n",
      "48000/48000 [==============================] - 11s - loss: 0.2188 - acc: 0.9385 - val_loss: 0.1677 - val_acc: 0.9521\n",
      "Epoch 3/20\n",
      "48000/48000 [==============================] - 11s - loss: 0.1652 - acc: 0.9559 - val_loss: 0.1556 - val_acc: 0.9557\n",
      "Epoch 4/20\n",
      "48000/48000 [==============================] - 11s - loss: 0.1264 - acc: 0.9654 - val_loss: 0.0992 - val_acc: 0.9746\n",
      "Epoch 5/20\n",
      "48000/48000 [==============================] - 11s - loss: 0.0955 - acc: 0.9736 - val_loss: 0.0981 - val_acc: 0.9726\n",
      "Epoch 6/20\n",
      "48000/48000 [==============================] - 11s - loss: 0.0925 - acc: 0.9750 - val_loss: 0.1092 - val_acc: 0.9711\n",
      "Epoch 7/20\n",
      "48000/48000 [==============================] - 12s - loss: 0.0923 - acc: 0.9746 - val_loss: 0.0955 - val_acc: 0.9750\n",
      "Epoch 8/20\n",
      "48000/48000 [==============================] - 12s - loss: 0.0784 - acc: 0.9790 - val_loss: 0.0885 - val_acc: 0.9761\n",
      "Epoch 9/20\n",
      "48000/48000 [==============================] - 12s - loss: 0.0657 - acc: 0.9819 - val_loss: 0.1075 - val_acc: 0.9733\n",
      "Epoch 10/20\n",
      "48000/48000 [==============================] - 12s - loss: 0.0710 - acc: 0.9807 - val_loss: 0.1016 - val_acc: 0.9789\n",
      "Epoch 11/20\n",
      "48000/48000 [==============================] - 12s - loss: 0.0666 - acc: 0.9823 - val_loss: 0.1118 - val_acc: 0.9738\n",
      "Epoch 12/20\n",
      "48000/48000 [==============================] - 11s - loss: 0.0726 - acc: 0.9806 - val_loss: 0.0648 - val_acc: 0.9835\n",
      "Epoch 13/20\n",
      "48000/48000 [==============================] - 11s - loss: 0.0683 - acc: 0.9822 - val_loss: 0.0809 - val_acc: 0.9794\n",
      "Epoch 14/20\n",
      "48000/48000 [==============================] - 11s - loss: 0.0650 - acc: 0.9825 - val_loss: 0.0875 - val_acc: 0.9775\n",
      "Epoch 15/20\n",
      "48000/48000 [==============================] - 11s - loss: 0.0589 - acc: 0.9837 - val_loss: 0.0772 - val_acc: 0.9811\n",
      "Epoch 16/20\n",
      "48000/48000 [==============================] - 11s - loss: 0.0540 - acc: 0.9850 - val_loss: 0.0794 - val_acc: 0.9801\n",
      "Epoch 17/20\n",
      "48000/48000 [==============================] - 11s - loss: 0.0557 - acc: 0.9851 - val_loss: 0.0837 - val_acc: 0.9780\n",
      "Epoch 18/20\n",
      "48000/48000 [==============================] - 11s - loss: 0.0467 - acc: 0.9873 - val_loss: 0.0683 - val_acc: 0.9847\n",
      "Epoch 19/20\n",
      "48000/48000 [==============================] - 11s - loss: 0.0380 - acc: 0.9895 - val_loss: 0.0917 - val_acc: 0.9799\n",
      "Epoch 20/20\n",
      "48000/48000 [==============================] - 12s - loss: 0.0502 - acc: 0.9867 - val_loss: 0.0825 - val_acc: 0.9822\n"
     ]
    }
   ],
   "source": [
    "train_history = model.fit(X_train_norm, Y_trainOneHot, validation_split=0.2, epochs=20, batch_size=200, verbose=1) "
   ]
  },
  {
   "cell_type": "code",
   "execution_count": 53,
   "metadata": {
    "collapsed": true
   },
   "outputs": [],
   "source": [
    "import matplotlib.pyplot as plt  \n",
    "def show_train_history(train_history, train, validation):  \n",
    "    plt.plot(train_history.history[train])  \n",
    "    plt.plot(train_history.history[validation])  \n",
    "    plt.title('Train History')  \n",
    "    plt.ylabel(train)  \n",
    "    plt.xlabel('Epoch')  \n",
    "    plt.legend(['train', 'validation'], loc='upper left')  \n",
    "    plt.show()  "
   ]
  },
  {
   "cell_type": "code",
   "execution_count": 54,
   "metadata": {},
   "outputs": [
    {
     "data": {
      "image/png": "[encoded data removed]",
      "text/plain": [
       "<matplotlib.figure.Figure at 0x17b28ce45c0>"
      ]
     },
     "metadata": {},
     "output_type": "display_data"
    }
   ],
   "source": [
    "show_train_history(train_history, 'acc', 'val_acc')  "
   ]
  },
  {
   "cell_type": "code",
   "execution_count": 55,
   "metadata": {},
   "outputs": [
    {
     "data": {
      "image/png": "[encoded data removed]",
      "text/plain": [
       "<matplotlib.figure.Figure at 0x17b28ce44e0>"
      ]
     },
     "metadata": {},
     "output_type": "display_data"
    }
   ],
   "source": [
    "show_train_history(train_history, 'loss', 'val_loss') "
   ]
  },
  {
   "cell_type": "code",
   "execution_count": 56,
   "metadata": {},
   "outputs": [
    {
     "name": "stdout",
     "output_type": "stream",
     "text": [
      " 9984/10000 [============================>.] - ETA: 0s\n",
      "[0.079847127765719783, 0.98080000000000001]\n"
     ]
    }
   ],
   "source": [
    "scores = model.evaluate(X_test_norm, Y_testOneHot)  \n",
    "print()\n",
    "print(scores)"
   ]
  },
  {
   "cell_type": "code",
   "execution_count": 57,
   "metadata": {},
   "outputs": [
    {
     "name": "stdout",
     "output_type": "stream",
     "text": [
      " 9760/10000 [============================>.] - ETA: 0s\n",
      "Show 10 prediction result :\n",
      "[7 2 1 0 4 1 4 9 6 9]\n"
     ]
    }
   ],
   "source": [
    "prediction = model.predict_classes(X_test_norm)\n",
    "print()\n",
    "print(\"Show 10 prediction result :\")  \n",
    "print(prediction[:10])"
   ]
  },
  {
   "cell_type": "code",
   "execution_count": 58,
   "metadata": {},
   "outputs": [
    {
     "name": "stdout",
     "output_type": "stream",
     "text": [
      "Display Confusion Matrix:\n",
      "predict    0     1     2    3    4    5    6     7    8    9\n",
      "label                                                       \n",
      "0        972     0     0    0    0    0    6     1    1    0\n",
      "1          0  1126     2    3    0    0    0     3    1    0\n",
      "2          2     5  1012    2    1    0    3     6    1    0\n",
      "3          1     1     3  996    0    5    0     2    2    0\n",
      "4          0     0     1    0  967    0    4     1    1    8\n",
      "5          0     0     0   13    1  872    3     0    2    1\n",
      "6          5     3     0    1    2    5  942     0    0    0\n",
      "7          0     1    11    0    4    1    0  1005    0    6\n",
      "8          1     0    10    4    5    3    1     3  944    3\n",
      "9          3     0     1    4   11    2    0    12    4  972\n"
     ]
    }
   ],
   "source": [
    "import pandas as pd  \n",
    "print(\"Display Confusion Matrix:\")  \n",
    "print(pd.crosstab(Y_test, prediction, rownames=['label'], colnames=['predict']))  "
   ]
  },
  {
   "cell_type": "code",
   "execution_count": null,
   "metadata": {
    "collapsed": true
   },
   "outputs": [],
   "source": []
  }
 ],
 "metadata": {
  "kernelspec": {
   "display_name": "Python 3",
   "language": "python",
   "name": "python3"
  },
  "language_info": {
   "codemirror_mode": {
    "name": "ipython",
    "version": 3
   },
   "file_extension": ".py",
   "mimetype": "text/x-python",
   "name": "python",
   "nbconvert_exporter": "python",
   "pygments_lexer": "ipython3",
   "version": "3.6.2"
  }
 },
 "nbformat": 4,
 "nbformat_minor": 2
}
