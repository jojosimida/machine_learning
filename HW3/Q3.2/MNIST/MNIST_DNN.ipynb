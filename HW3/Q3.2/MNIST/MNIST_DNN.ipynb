{
 "cells": [
  {
   "cell_type": "code",
   "execution_count": 19,
   "metadata": {
    "collapsed": true
   },
   "outputs": [],
   "source": [
    "import numpy as np\n",
    "import os\n",
    "import matplotlib.pyplot as plt \n",
    "from keras.utils import np_utils  "
   ]
  },
  {
   "cell_type": "code",
   "execution_count": 20,
   "metadata": {
    "collapsed": true
   },
   "outputs": [],
   "source": [
    "def load_mnist(path, kind='train'):\n",
    "\n",
    "    labels_path = str(path+'/{}-labels.idx1-ubyte'.format(kind))\n",
    "    images_path = str(path+'/{}-images.idx3-ubyte'.format(kind))\n",
    "\n",
    "    with open(labels_path, 'rb') as lbpath:\n",
    "        labels = np.frombuffer(lbpath.read(), dtype=np.uint8,\n",
    "                               offset=8)\n",
    "    \n",
    "    with open(images_path, 'rb') as imgpath:\n",
    "        images = np.frombuffer(imgpath.read(), dtype=np.uint8,\n",
    "                               offset=16).reshape(len(labels), 784)\n",
    "        \n",
    "    return images, labels"
   ]
  },
  {
   "cell_type": "code",
   "execution_count": 21,
   "metadata": {
    "collapsed": true
   },
   "outputs": [],
   "source": [
    "# show the number image\n",
    "def plot_image(image):  \n",
    "    fig = plt.gcf()  \n",
    "    fig.set_size_inches(2,2)  \n",
    "    plt.imshow(image, cmap='binary')\n",
    "    plt.show()  "
   ]
  },
  {
   "cell_type": "code",
   "execution_count": 22,
   "metadata": {
    "collapsed": true
   },
   "outputs": [],
   "source": [
    "# show the image and the label\n",
    "def plot_images_labels_predict(images, labels, prediction, idx, num=10):  \n",
    "    fig = plt.gcf()  \n",
    "    fig.set_size_inches(12, 14)  \n",
    "    if num > 25: num = 25  \n",
    "    for i in range(0, num):  \n",
    "        ax=plt.subplot(5,5, 1+i)  \n",
    "        ax.imshow(images[idx], cmap='binary')  \n",
    " \n",
    "        if len(prediction) > 0:  \n",
    "            title = \"l={},p={}\".format(str(labels[idx]), str(prediction[idx]))  \n",
    "        else:  \n",
    "            title = \"l={}\".format(str(labels[idx]))  \n",
    "        ax.set_title(title, fontsize=10)  \n",
    "        ax.set_xticks([]); ax.set_yticks([])  \n",
    "        idx+=1  \n",
    "    plt.show()  "
   ]
  },
  {
   "cell_type": "code",
   "execution_count": 23,
   "metadata": {},
   "outputs": [
    {
     "name": "stdout",
     "output_type": "stream",
     "text": [
      "(60000, 28, 28)\n",
      "(10000, 28, 28)\n"
     ]
    }
   ],
   "source": [
    "# read the data in the path\n",
    "datapath = \"D:/Program/dataset/MNIST dataset\"\n",
    "X_train, Y_train = load_mnist(path=datapath)\n",
    "X_test, Y_test = load_mnist(path=datapath, kind=\"t10k\")\n",
    "\n",
    "# reshape data to number of data * pixel28*28\n",
    "X_train = X_train.reshape(X_train.shape[0], 28, 28).astype('float32')\n",
    "X_test = X_test.reshape(X_test.shape[0], 28, 28).astype('float32')\n",
    "\n",
    "print(X_train.shape)\n",
    "print(X_test.shape)"
   ]
  },
  {
   "cell_type": "code",
   "execution_count": 24,
   "metadata": {},
   "outputs": [
    {
     "data": {
      "image/png": "[encoded data removed]",
      "text/plain": [
       "<matplotlib.figure.Figure at 0x120ed6d67f0>"
      ]
     },
     "metadata": {},
     "output_type": "display_data"
    }
   ],
   "source": [
    "plot_image(X_train[0])"
   ]
  },
  {
   "cell_type": "code",
   "execution_count": 25,
   "metadata": {},
   "outputs": [
    {
     "data": {
      "image/png": "[encoded data removed]",
      "text/plain": [
       "<matplotlib.figure.Figure at 0x120881b5668>"
      ]
     },
     "metadata": {},
     "output_type": "display_data"
    }
   ],
   "source": [
    "plot_images_labels_predict(X_train, Y_train, [], 0, 10)"
   ]
  },
  {
   "cell_type": "code",
   "execution_count": 26,
   "metadata": {
    "collapsed": true
   },
   "outputs": [],
   "source": [
    "# Data pre-processing\n",
    "# Normalization  \n",
    "X_train_norm = X_train.reshape(X_train.shape[0], 28*28)/255\n",
    "X_test_norm = X_test.reshape(X_test.shape[0], 28*28)/255\n",
    "\n",
    "# Label Onehot encoding  \n",
    "Y_trainOneHot = np_utils.to_categorical(Y_train)\n",
    "Y_testOneHot = np_utils.to_categorical(Y_test)"
   ]
  },
  {
   "cell_type": "code",
   "execution_count": 27,
   "metadata": {},
   "outputs": [
    {
     "name": "stdout",
     "output_type": "stream",
     "text": [
      "_________________________________________________________________\n",
      "Layer (type)                 Output Shape              Param #   \n",
      "=================================================================\n",
      "hidden (Dense)               (None, 1000)              785000    \n",
      "_________________________________________________________________\n",
      "hidden2 (Dense)              (None, 1000)              1001000   \n",
      "_________________________________________________________________\n",
      "output (Dense)               (None, 10)                10010     \n",
      "=================================================================\n",
      "Total params: 1,796,010\n",
      "Trainable params: 1,796,010\n",
      "Non-trainable params: 0\n",
      "_________________________________________________________________\n"
     ]
    }
   ],
   "source": [
    "from keras.models import Sequential  \n",
    "from keras.layers import Dense\n",
    "\n",
    "model = Sequential() \n",
    "model.add(Dense(units=1000,input_shape=(28*28,),activation=\"relu\",name=\"hidden\"))\n",
    "model.add(Dense(units=1000,activation=\"relu\",name=\"hidden2\"))\n",
    "model.add(Dense(units=10,activation=\"softmax\",name=\"output\"))\n",
    "model.summary() "
   ]
  },
  {
   "cell_type": "code",
   "execution_count": 28,
   "metadata": {
    "collapsed": true
   },
   "outputs": [],
   "source": [
    "model.compile(loss=\"categorical_crossentropy\",optimizer=\"adam\",metrics=['accuracy'])"
   ]
  },
  {
   "cell_type": "code",
   "execution_count": 29,
   "metadata": {},
   "outputs": [
    {
     "name": "stdout",
     "output_type": "stream",
     "text": [
      "Train on 48000 samples, validate on 12000 samples\n",
      "Epoch 1/10\n",
      "48000/48000 [==============================] - 3s - loss: 0.2385 - acc: 0.9309 - val_loss: 0.1210 - val_acc: 0.9619\n",
      "Epoch 2/10\n",
      "48000/48000 [==============================] - 2s - loss: 0.0788 - acc: 0.9758 - val_loss: 0.0928 - val_acc: 0.9718\n",
      "Epoch 3/10\n",
      "48000/48000 [==============================] - 2s - loss: 0.0509 - acc: 0.9837 - val_loss: 0.0811 - val_acc: 0.9753\n",
      "Epoch 4/10\n",
      "48000/48000 [==============================] - 2s - loss: 0.0317 - acc: 0.9899 - val_loss: 0.0935 - val_acc: 0.9734\n",
      "Epoch 5/10\n",
      "48000/48000 [==============================] - 2s - loss: 0.0222 - acc: 0.9929 - val_loss: 0.0883 - val_acc: 0.9758\n",
      "Epoch 6/10\n",
      "48000/48000 [==============================] - 2s - loss: 0.0215 - acc: 0.9924 - val_loss: 0.0915 - val_acc: 0.9752\n",
      "Epoch 7/10\n",
      "48000/48000 [==============================] - 2s - loss: 0.0174 - acc: 0.9941 - val_loss: 0.0883 - val_acc: 0.9781\n",
      "Epoch 8/10\n",
      "48000/48000 [==============================] - 2s - loss: 0.0179 - acc: 0.9938 - val_loss: 0.0983 - val_acc: 0.9759\n",
      "Epoch 9/10\n",
      "48000/48000 [==============================] - 2s - loss: 0.0125 - acc: 0.9956 - val_loss: 0.1089 - val_acc: 0.9740\n",
      "Epoch 10/10\n",
      "48000/48000 [==============================] - 2s - loss: 0.0103 - acc: 0.9965 - val_loss: 0.1166 - val_acc: 0.9758\n"
     ]
    }
   ],
   "source": [
    "train_history = model.fit(X_train_norm, Y_trainOneHot, validation_split=0.2, epochs=10, batch_size=200, verbose=1) "
   ]
  },
  {
   "cell_type": "code",
   "execution_count": 30,
   "metadata": {
    "collapsed": true
   },
   "outputs": [],
   "source": [
    "import matplotlib.pyplot as plt  \n",
    "def show_train_history(train_history, train, validation):  \n",
    "    plt.plot(train_history.history[train])  \n",
    "    plt.plot(train_history.history[validation])  \n",
    "    plt.title('Train History')  \n",
    "    plt.ylabel(train)  \n",
    "    plt.xlabel('Epoch')  \n",
    "    plt.legend(['train', 'validation'], loc='upper left')  \n",
    "    plt.show()  "
   ]
  },
  {
   "cell_type": "code",
   "execution_count": 31,
   "metadata": {},
   "outputs": [
    {
     "data": {
      "image/png": "[encoded data removed]",
      "text/plain": [
       "<matplotlib.figure.Figure at 0x1208a892cf8>"
      ]
     },
     "metadata": {},
     "output_type": "display_data"
    }
   ],
   "source": [
    "show_train_history(train_history, 'acc', 'val_acc')  "
   ]
  },
  {
   "cell_type": "code",
   "execution_count": 32,
   "metadata": {},
   "outputs": [
    {
     "data": {
      "image/png": "[encoded data removed]",
      "text/plain": [
       "<matplotlib.figure.Figure at 0x1208a892ac8>"
      ]
     },
     "metadata": {},
     "output_type": "display_data"
    }
   ],
   "source": [
    "show_train_history(train_history, 'loss', 'val_loss')  "
   ]
  },
  {
   "cell_type": "code",
   "execution_count": 33,
   "metadata": {},
   "outputs": [
    {
     "name": "stdout",
     "output_type": "stream",
     "text": [
      " 9984/10000 [============================>.] - ETA: 0s\n",
      "[0.095273455412748814, 0.97809999999999997]\n"
     ]
    }
   ],
   "source": [
    "scores = model.evaluate(X_test_norm, Y_testOneHot)  \n",
    "print()\n",
    "print(scores)"
   ]
  },
  {
   "cell_type": "code",
   "execution_count": 34,
   "metadata": {},
   "outputs": [
    {
     "name": "stdout",
     "output_type": "stream",
     "text": [
      " 9472/10000 [===========================>..] - ETA: 0s\n",
      "Show 10 prediction result :\n",
      "[7 2 1 0 4 1 4 9 6 9]\n"
     ]
    }
   ],
   "source": [
    "prediction = model.predict_classes(X_test_norm)\n",
    "print()\n",
    "print(\"Show 10 prediction result :\")  \n",
    "print(prediction[:10])"
   ]
  },
  {
   "cell_type": "code",
   "execution_count": 35,
   "metadata": {},
   "outputs": [
    {
     "data": {
      "image/png": "[encoded data removed]",
      "text/plain": [
       "<matplotlib.figure.Figure at 0x1208a95fe10>"
      ]
     },
     "metadata": {},
     "output_type": "display_data"
    }
   ],
   "source": [
    "plot_images_labels_predict(X_test, Y_test, prediction, 0)"
   ]
  },
  {
   "cell_type": "code",
   "execution_count": 36,
   "metadata": {},
   "outputs": [
    {
     "name": "stdout",
     "output_type": "stream",
     "text": [
      "Display Confusion Matrix:\n",
      "predict    0     1     2    3    4    5    6    7    8    9\n",
      "label                                                      \n",
      "0        975     1     1    0    0    1    1    0    0    1\n",
      "1          0  1133     0    0    0    1    1    0    0    0\n",
      "2          4     3  1017    0    2    0    0    2    3    1\n",
      "3          0     1     7  974    0   11    0    4    5    8\n",
      "4          1     1     2    1  963    0    2    1    1   10\n",
      "5          3     0     0    1    1  878    5    0    2    2\n",
      "6          6     2     1    0    3    2  944    0    0    0\n",
      "7          1    17    19    2    1    0    0  983    1    4\n",
      "8          8     2     6    3    3    7    3    4  936    2\n",
      "9          3    12     0    3    5    5    0    0    3  978\n"
     ]
    }
   ],
   "source": [
    "import pandas as pd  \n",
    "print(\"Display Confusion Matrix:\")  \n",
    "print(pd.crosstab(Y_test, prediction, rownames=['label'], colnames=['predict']))  "
   ]
  },
  {
   "cell_type": "code",
   "execution_count": null,
   "metadata": {
    "collapsed": true
   },
   "outputs": [],
   "source": []
  },
  {
   "cell_type": "code",
   "execution_count": null,
   "metadata": {
    "collapsed": true
   },
   "outputs": [],
   "source": []
  }
 ],
 "metadata": {
  "kernelspec": {
   "display_name": "Python 3",
   "language": "python",
   "name": "python3"
  },
  "language_info": {
   "codemirror_mode": {
    "name": "ipython",
    "version": 3
   },
   "file_extension": ".py",
   "mimetype": "text/x-python",
   "name": "python",
   "nbconvert_exporter": "python",
   "pygments_lexer": "ipython3",
   "version": "3.6.2"
  }
 },
 "nbformat": 4,
 "nbformat_minor": 2
}
