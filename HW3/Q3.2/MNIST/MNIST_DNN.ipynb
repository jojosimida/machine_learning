{
 "cells": [
  {
   "cell_type": "code",
   "execution_count": 41,
   "metadata": {},
   "outputs": [],
   "source": [
    "import numpy as np\n",
    "import os\n",
    "import matplotlib.pyplot as plt \n",
    "from keras.utils import np_utils  "
   ]
  },
  {
   "cell_type": "code",
   "execution_count": 42,
   "metadata": {
    "collapsed": true
   },
   "outputs": [],
   "source": [
    "def load_mnist(path, kind='train'):\n",
    "\n",
    "    labels_path = str(path+'/{}-labels.idx1-ubyte'.format(kind))\n",
    "    images_path = str(path+'/{}-images.idx3-ubyte'.format(kind))\n",
    "\n",
    "    with open(labels_path, 'rb') as lbpath:\n",
    "        labels = np.frombuffer(lbpath.read(), dtype=np.uint8,\n",
    "                               offset=8)\n",
    "    \n",
    "    with open(images_path, 'rb') as imgpath:\n",
    "        images = np.frombuffer(imgpath.read(), dtype=np.uint8,\n",
    "                               offset=16).reshape(len(labels), 784)\n",
    "        \n",
    "    return images, labels"
   ]
  },
  {
   "cell_type": "code",
   "execution_count": 43,
   "metadata": {
    "collapsed": true
   },
   "outputs": [],
   "source": [
    "# show the number image\n",
    "def plot_image(image):  \n",
    "    fig = plt.gcf()  \n",
    "    fig.set_size_inches(2,2)  \n",
    "    plt.imshow(image, cmap='binary')\n",
    "    plt.show()  "
   ]
  },
  {
   "cell_type": "code",
   "execution_count": 44,
   "metadata": {
    "collapsed": true
   },
   "outputs": [],
   "source": [
    "# show the image and the label\n",
    "def plot_images_labels_predict(images, labels, prediction, idx, num=10):  \n",
    "    fig = plt.gcf()  \n",
    "    fig.set_size_inches(12, 14)  \n",
    "    if num > 25: num = 25  \n",
    "    for i in range(0, num):  \n",
    "        ax=plt.subplot(5,5, 1+i)  \n",
    "        ax.imshow(images[idx], cmap='binary')  \n",
    " \n",
    "        if len(prediction) > 0:  \n",
    "            title = \"l={},p={}\".format(str(labels[idx]), str(prediction[idx]))  \n",
    "        else:  \n",
    "            title = \"l={}\".format(str(labels[idx]))  \n",
    "        ax.set_title(title, fontsize=10)  \n",
    "        ax.set_xticks([]); ax.set_yticks([])  \n",
    "        idx+=1  \n",
    "    plt.show()  "
   ]
  },
  {
   "cell_type": "code",
   "execution_count": 45,
   "metadata": {},
   "outputs": [
    {
     "name": "stdout",
     "output_type": "stream",
     "text": [
      "(60000, 28, 28)\n",
      "(10000, 28, 28)\n"
     ]
    }
   ],
   "source": [
    "# read the data in the path\n",
    "datapath = \"C:/Users/user/Desktop/MNIST dataset\"\n",
    "X_train, Y_train = load_mnist(path=datapath)\n",
    "X_test, Y_test = load_mnist(path=datapath, kind=\"t10k\")\n",
    "\n",
    "# reshape data to number of data * pixel28*28\n",
    "X_train = X_train.reshape(X_train.shape[0], 28, 28).astype('float32')\n",
    "X_test = X_test.reshape(X_test.shape[0], 28, 28).astype('float32')\n",
    "\n",
    "print(X_train.shape)\n",
    "print(X_test.shape)"
   ]
  },
  {
   "cell_type": "code",
   "execution_count": 46,
   "metadata": {},
   "outputs": [
    {
     "data": {
      "image/png": "[encoded data removed]",
      "text/plain": [
       "<matplotlib.figure.Figure at 0x1be4cd45438>"
      ]
     },
     "metadata": {},
     "output_type": "display_data"
    }
   ],
   "source": [
    "plot_image(X_train[0])"
   ]
  },
  {
   "cell_type": "code",
   "execution_count": 47,
   "metadata": {},
   "outputs": [
    {
     "data": {
      "image/png": "[encoded data removed]",
      "text/plain": [
       "<matplotlib.figure.Figure at 0x1be4cff6f98>"
      ]
     },
     "metadata": {},
     "output_type": "display_data"
    }
   ],
   "source": [
    "plot_images_labels_predict(X_train, Y_train, [], 0, 10)"
   ]
  },
  {
   "cell_type": "code",
   "execution_count": 48,
   "metadata": {
    "collapsed": true
   },
   "outputs": [],
   "source": [
    "# Data pre-processing\n",
    "# Normalization  \n",
    "X_train_norm = X_train.reshape(X_train.shape[0], 28*28)/255\n",
    "X_test_norm = X_test.reshape(X_test.shape[0], 28*28)/255\n",
    "\n",
    "# Label Onehot encoding  \n",
    "Y_trainOneHot = np_utils.to_categorical(Y_train)\n",
    "Y_testOneHot = np_utils.to_categorical(Y_test)"
   ]
  },
  {
   "cell_type": "code",
   "execution_count": 51,
   "metadata": {},
   "outputs": [
    {
     "name": "stdout",
     "output_type": "stream",
     "text": [
      "_________________________________________________________________\n",
      "Layer (type)                 Output Shape              Param #   \n",
      "=================================================================\n",
      "hidden (Dense)               (None, 1000)              785000    \n",
      "_________________________________________________________________\n",
      "hidden2 (Dense)              (None, 1000)              1001000   \n",
      "_________________________________________________________________\n",
      "output (Dense)               (None, 10)                10010     \n",
      "=================================================================\n",
      "Total params: 1,796,010\n",
      "Trainable params: 1,796,010\n",
      "Non-trainable params: 0\n",
      "_________________________________________________________________\n"
     ]
    }
   ],
   "source": [
    "from keras.models import Sequential  \n",
    "from keras.layers import Dense\n",
    "\n",
    "model = Sequential() \n",
    "model.add(Dense(units=1000,input_shape=(28*28,),activation=\"relu\",name=\"hidden\"))\n",
    "model.add(Dense(units=1000,activation=\"relu\",name=\"hidden2\"))\n",
    "model.add(Dense(units=10,activation=\"softmax\",name=\"output\"))\n",
    "model.summary() "
   ]
  },
  {
   "cell_type": "code",
   "execution_count": 52,
   "metadata": {},
   "outputs": [],
   "source": [
    "model.compile(loss=\"categorical_crossentropy\",optimizer=\"adam\",metrics=['accuracy'])"
   ]
  },
  {
   "cell_type": "code",
   "execution_count": 53,
   "metadata": {},
   "outputs": [
    {
     "name": "stdout",
     "output_type": "stream",
     "text": [
      "Train on 48000 samples, validate on 12000 samples\n",
      "Epoch 1/10\n",
      "48000/48000 [==============================] - 18s - loss: 0.2370 - acc: 0.9295 - val_loss: 0.1076 - val_acc: 0.9673\n",
      "Epoch 2/10\n",
      "48000/48000 [==============================] - 18s - loss: 0.0822 - acc: 0.9750 - val_loss: 0.0821 - val_acc: 0.9754\n",
      "Epoch 3/10\n",
      "48000/48000 [==============================] - 17s - loss: 0.0458 - acc: 0.9855 - val_loss: 0.0803 - val_acc: 0.9761\n",
      "Epoch 4/10\n",
      "48000/48000 [==============================] - 15s - loss: 0.0312 - acc: 0.9896 - val_loss: 0.0823 - val_acc: 0.9760\n",
      "Epoch 5/10\n",
      "48000/48000 [==============================] - 16s - loss: 0.0239 - acc: 0.9923 - val_loss: 0.0927 - val_acc: 0.9743\n",
      "Epoch 6/10\n",
      "48000/48000 [==============================] - 15s - loss: 0.0222 - acc: 0.9923 - val_loss: 0.0852 - val_acc: 0.9781\n",
      "Epoch 7/10\n",
      "48000/48000 [==============================] - 16s - loss: 0.0159 - acc: 0.9947 - val_loss: 0.0912 - val_acc: 0.9746\n",
      "Epoch 8/10\n",
      "48000/48000 [==============================] - 15s - loss: 0.0147 - acc: 0.9949 - val_loss: 0.1029 - val_acc: 0.9747\n",
      "Epoch 9/10\n",
      "48000/48000 [==============================] - 16s - loss: 0.0156 - acc: 0.9947 - val_loss: 0.1003 - val_acc: 0.9796\n",
      "Epoch 10/10\n",
      "48000/48000 [==============================] - 18s - loss: 0.0121 - acc: 0.9959 - val_loss: 0.1007 - val_acc: 0.9767\n"
     ]
    }
   ],
   "source": [
    "train_history = model.fit(X_train_norm, Y_trainOneHot, validation_split=0.2, epochs=10, batch_size=200, verbose=1) "
   ]
  },
  {
   "cell_type": "code",
   "execution_count": 54,
   "metadata": {
    "collapsed": true
   },
   "outputs": [],
   "source": [
    "import matplotlib.pyplot as plt  \n",
    "def show_train_history(train_history, train, validation):  \n",
    "    plt.plot(train_history.history[train])  \n",
    "    plt.plot(train_history.history[validation])  \n",
    "    plt.title('Train History')  \n",
    "    plt.ylabel(train)  \n",
    "    plt.xlabel('Epoch')  \n",
    "    plt.legend(['train', 'validation'], loc='upper left')  \n",
    "    plt.show()  "
   ]
  },
  {
   "cell_type": "code",
   "execution_count": 55,
   "metadata": {},
   "outputs": [
    {
     "data": {
      "image/png": "[encoded data removed]",
      "text/plain": [
       "<matplotlib.figure.Figure at 0x1be0062d828>"
      ]
     },
     "metadata": {},
     "output_type": "display_data"
    }
   ],
   "source": [
    "show_train_history(train_history, 'acc', 'val_acc')  "
   ]
  },
  {
   "cell_type": "code",
   "execution_count": 56,
   "metadata": {},
   "outputs": [
    {
     "data": {
      "image/png": "[encoded data removed]",
      "text/plain": [
       "<matplotlib.figure.Figure at 0x1be4cfa97b8>"
      ]
     },
     "metadata": {},
     "output_type": "display_data"
    }
   ],
   "source": [
    "show_train_history(train_history, 'loss', 'val_loss')  "
   ]
  },
  {
   "cell_type": "code",
   "execution_count": 57,
   "metadata": {},
   "outputs": [
    {
     "name": "stdout",
     "output_type": "stream",
     "text": [
      " 9952/10000 [============================>.] - ETA: 0s\n",
      "[0.078013926029775582, 0.98040000000000005]\n"
     ]
    }
   ],
   "source": [
    "scores = model.evaluate(X_test_norm, Y_testOneHot)  \n",
    "print()\n",
    "print(scores)"
   ]
  },
  {
   "cell_type": "code",
   "execution_count": 58,
   "metadata": {},
   "outputs": [
    {
     "name": "stdout",
     "output_type": "stream",
     "text": [
      " 9984/10000 [============================>.] - ETA: 0s\n",
      "Show 10 prediction result :\n",
      "[7 2 1 0 4 1 4 9 5 9]\n"
     ]
    }
   ],
   "source": [
    "prediction = model.predict_classes(X_test_norm)\n",
    "print()\n",
    "print(\"Show 10 prediction result :\")  \n",
    "print(prediction[:10])"
   ]
  },
  {
   "cell_type": "code",
   "execution_count": 59,
   "metadata": {},
   "outputs": [
    {
     "data": {
      "image/png": "[encoded data removed]",
      "text/plain": [
       "<matplotlib.figure.Figure at 0x1be1b0294e0>"
      ]
     },
     "metadata": {},
     "output_type": "display_data"
    }
   ],
   "source": [
    "plot_images_labels_predict(X_test, Y_test, prediction, 0)"
   ]
  },
  {
   "cell_type": "code",
   "execution_count": 60,
   "metadata": {},
   "outputs": [
    {
     "name": "stdout",
     "output_type": "stream",
     "text": [
      "Display Confusion Matrix:\n",
      "predict    0     1     2    3    4    5    6    7    8    9\n",
      "label                                                      \n",
      "0        966     0     2    1    0    3    6    0    1    1\n",
      "1          0  1126     3    0    0    2    1    1    2    0\n",
      "2          2     0  1019    4    1    0    2    1    3    0\n",
      "3          0     0     2  985    0   15    0    3    5    0\n",
      "4          2     0     1    0  956    0    5    3    2   13\n",
      "5          2     0     0    4    0  878    6    0    1    1\n",
      "6          1     3     0    0    1    3  950    0    0    0\n",
      "7          1     2    20    4    1    0    0  992    5    3\n",
      "8          1     0     3    5    1    3    3    1  953    4\n",
      "9          2     2     1    4    8   11    0    0    2  979\n"
     ]
    }
   ],
   "source": [
    "import pandas as pd  \n",
    "print(\"Display Confusion Matrix:\")  \n",
    "print(pd.crosstab(Y_test, prediction, rownames=['label'], colnames=['predict']))  "
   ]
  },
  {
   "cell_type": "code",
   "execution_count": null,
   "metadata": {
    "collapsed": true
   },
   "outputs": [],
   "source": []
  },
  {
   "cell_type": "code",
   "execution_count": null,
   "metadata": {
    "collapsed": true
   },
   "outputs": [],
   "source": []
  }
 ],
 "metadata": {
  "kernelspec": {
   "display_name": "Python 3",
   "language": "python",
   "name": "python3"
  },
  "language_info": {
   "codemirror_mode": {
    "name": "ipython",
    "version": 3
   },
   "file_extension": ".py",
   "mimetype": "text/x-python",
   "name": "python",
   "nbconvert_exporter": "python",
   "pygments_lexer": "ipython3",
   "version": "3.6.2"
  }
 },
 "nbformat": 4,
 "nbformat_minor": 2
}
