{
 "cells": [
  {
   "cell_type": "code",
   "execution_count": 27,
   "metadata": {},
   "outputs": [],
   "source": [
    "import numpy as np\n",
    "import os\n",
    "import matplotlib.pyplot as plt \n",
    "from keras.utils import np_utils  "
   ]
  },
  {
   "cell_type": "code",
   "execution_count": 28,
   "metadata": {
    "collapsed": true
   },
   "outputs": [],
   "source": [
    "def load_mnist(path, kind='train'):\n",
    "\n",
    "    labels_path = str(path+'/{}-labels.idx1-ubyte'.format(kind))\n",
    "    images_path = str(path+'/{}-images.idx3-ubyte'.format(kind))\n",
    "\n",
    "    with open(labels_path, 'rb') as lbpath:\n",
    "        labels = np.frombuffer(lbpath.read(), dtype=np.uint8,\n",
    "                               offset=8)\n",
    "    \n",
    "    with open(images_path, 'rb') as imgpath:\n",
    "        images = np.frombuffer(imgpath.read(), dtype=np.uint8,\n",
    "                               offset=16).reshape(len(labels), 784)\n",
    "        \n",
    "    return images, labels"
   ]
  },
  {
   "cell_type": "code",
   "execution_count": 29,
   "metadata": {
    "collapsed": true
   },
   "outputs": [],
   "source": [
    "# show the number image\n",
    "def plot_image(image):  \n",
    "    fig = plt.gcf()  \n",
    "    fig.set_size_inches(2,2)  \n",
    "    plt.imshow(image, cmap='binary')\n",
    "    plt.show()  "
   ]
  },
  {
   "cell_type": "code",
   "execution_count": 30,
   "metadata": {
    "collapsed": true
   },
   "outputs": [],
   "source": [
    "# show the image and the label\n",
    "def plot_images_labels_predict(images, labels, prediction, idx, num=10):  \n",
    "    fig = plt.gcf()  \n",
    "    fig.set_size_inches(12, 14)  \n",
    "    if num > 25: num = 25  \n",
    "    for i in range(0, num):  \n",
    "        ax=plt.subplot(5,5, 1+i)  \n",
    "        ax.imshow(images[idx], cmap='binary')  \n",
    " \n",
    "        if len(prediction) > 0:  \n",
    "            title = \"l={},p={}\".format(str(labels[idx]), str(prediction[idx]))  \n",
    "        else:  \n",
    "            title = \"l={}\".format(str(labels[idx]))  \n",
    "        ax.set_title(title, fontsize=10)  \n",
    "        ax.set_xticks([]); ax.set_yticks([])  \n",
    "        idx+=1  \n",
    "    plt.show()  "
   ]
  },
  {
   "cell_type": "code",
   "execution_count": 31,
   "metadata": {},
   "outputs": [
    {
     "name": "stdout",
     "output_type": "stream",
     "text": [
      "(60000, 28, 28)\n",
      "(10000, 28, 28)\n"
     ]
    }
   ],
   "source": [
    "# read the data in the path\n",
    "datapath = \"D:/Program/dataset/MNIST dataset\"\n",
    "X_train, Y_train = load_mnist(path=datapath)\n",
    "X_test, Y_test = load_mnist(path=datapath, kind=\"t10k\")\n",
    "\n",
    "# reshape data to number of data * pixel28*28\n",
    "X_train = X_train.reshape(X_train.shape[0], 28, 28).astype('float32')\n",
    "X_test = X_test.reshape(X_test.shape[0], 28, 28).astype('float32')\n",
    "\n",
    "print(X_train.shape)\n",
    "print(X_test.shape)"
   ]
  },
  {
   "cell_type": "code",
   "execution_count": 32,
   "metadata": {},
   "outputs": [
    {
     "data": {
      "image/png": "[encoded data removed]",
      "text/plain": [
       "<matplotlib.figure.Figure at 0x1453c4c9400>"
      ]
     },
     "metadata": {},
     "output_type": "display_data"
    }
   ],
   "source": [
    "plot_image(X_train[0])"
   ]
  },
  {
   "cell_type": "code",
   "execution_count": 33,
   "metadata": {},
   "outputs": [
    {
     "data": {
      "image/png": "[encoded data removed]",
      "text/plain": [
       "<matplotlib.figure.Figure at 0x1453c4d0b00>"
      ]
     },
     "metadata": {},
     "output_type": "display_data"
    }
   ],
   "source": [
    "plot_images_labels_predict(X_train, Y_train, [], 0, 10)"
   ]
  },
  {
   "cell_type": "code",
   "execution_count": 34,
   "metadata": {
    "collapsed": true
   },
   "outputs": [],
   "source": [
    "# Data pre-processing\n",
    "# Normalization  \n",
    "X_train_norm = X_train.reshape(X_train.shape[0], 28, 28,1)/255\n",
    "X_test_norm = X_test.reshape(X_test.shape[0], 28, 28,1)/255\n",
    "\n",
    "# Label Onehot encoding  \n",
    "Y_trainOneHot = np_utils.to_categorical(Y_train)\n",
    "Y_testOneHot = np_utils.to_categorical(Y_test)"
   ]
  },
  {
   "cell_type": "code",
   "execution_count": 35,
   "metadata": {
    "collapsed": true
   },
   "outputs": [],
   "source": [
    "from keras.models import Sequential  \n",
    "from keras.layers import Dense,Dropout,Flatten,Conv2D,MaxPooling2D  \n",
    "  \n",
    "model = Sequential()  \n",
    "# Create CN layer 1  \n",
    "model.add(Conv2D(filters=16,  \n",
    "                 kernel_size=(5,5),  \n",
    "                 padding='same',\n",
    "                 input_shape=(28,28,1),  \n",
    "                 activation='relu'))  \n",
    "# Create Max-Pool 1  \n",
    "model.add(MaxPooling2D(pool_size=(2,2)))  \n",
    "  \n",
    "# Create CN layer 2  \n",
    "model.add(Conv2D(filters=36,  \n",
    "                 kernel_size=(5,5),  \n",
    "                 padding='same',     \n",
    "                 activation='relu'))  \n",
    "  \n",
    "# Create Max-Pool 2  \n",
    "model.add(MaxPooling2D(pool_size=(2,2)))  \n",
    "  \n",
    "# # Add Dropout layer\n",
    "# model.add(Dropout(0.25)) \n",
    "\n",
    "model.add(Flatten())  "
   ]
  },
  {
   "cell_type": "code",
   "execution_count": 36,
   "metadata": {},
   "outputs": [
    {
     "name": "stdout",
     "output_type": "stream",
     "text": [
      "_________________________________________________________________\n",
      "Layer (type)                 Output Shape              Param #   \n",
      "=================================================================\n",
      "conv2d_3 (Conv2D)            (None, 28, 28, 16)        416       \n",
      "_________________________________________________________________\n",
      "max_pooling2d_3 (MaxPooling2 (None, 14, 14, 16)        0         \n",
      "_________________________________________________________________\n",
      "conv2d_4 (Conv2D)            (None, 14, 14, 36)        14436     \n",
      "_________________________________________________________________\n",
      "max_pooling2d_4 (MaxPooling2 (None, 7, 7, 36)          0         \n",
      "_________________________________________________________________\n",
      "flatten_2 (Flatten)          (None, 1764)              0         \n",
      "_________________________________________________________________\n",
      "dense_3 (Dense)              (None, 128)               225920    \n",
      "_________________________________________________________________\n",
      "dense_4 (Dense)              (None, 10)                1290      \n",
      "=================================================================\n",
      "Total params: 242,062\n",
      "Trainable params: 242,062\n",
      "Non-trainable params: 0\n",
      "_________________________________________________________________\n"
     ]
    }
   ],
   "source": [
    "model.add(Dense(128, activation='relu'))  \n",
    "# model.add(Dropout(0.5)) \n",
    "\n",
    "model.add(Dense(10, activation='softmax'))  \n",
    "model.summary()  "
   ]
  },
  {
   "cell_type": "code",
   "execution_count": 37,
   "metadata": {},
   "outputs": [
    {
     "name": "stdout",
     "output_type": "stream",
     "text": [
      "Train on 48000 samples, validate on 12000 samples\n",
      "Epoch 1/10\n",
      "48000/48000 [==============================] - 4s - loss: 0.3879 - acc: 0.8906 - val_loss: 0.1046 - val_acc: 0.9708\n",
      "Epoch 2/10\n",
      "48000/48000 [==============================] - 4s - loss: 0.0859 - acc: 0.9736 - val_loss: 0.0676 - val_acc: 0.9797\n",
      "Epoch 3/10\n",
      "48000/48000 [==============================] - 4s - loss: 0.0578 - acc: 0.9818 - val_loss: 0.0679 - val_acc: 0.9805\n",
      "Epoch 4/10\n",
      "48000/48000 [==============================] - 4s - loss: 0.0469 - acc: 0.9854 - val_loss: 0.0470 - val_acc: 0.9858\n",
      "Epoch 5/10\n",
      "48000/48000 [==============================] - 4s - loss: 0.0372 - acc: 0.9886 - val_loss: 0.0415 - val_acc: 0.9880\n",
      "Epoch 6/10\n",
      "48000/48000 [==============================] - 4s - loss: 0.0297 - acc: 0.9910 - val_loss: 0.0426 - val_acc: 0.9883\n",
      "Epoch 7/10\n",
      "48000/48000 [==============================] - 4s - loss: 0.0247 - acc: 0.9927 - val_loss: 0.0335 - val_acc: 0.9897\n",
      "Epoch 8/10\n",
      "48000/48000 [==============================] - 4s - loss: 0.0205 - acc: 0.9934 - val_loss: 0.0372 - val_acc: 0.9885\n",
      "Epoch 9/10\n",
      "48000/48000 [==============================] - 4s - loss: 0.0187 - acc: 0.9941 - val_loss: 0.0359 - val_acc: 0.9890\n",
      "Epoch 10/10\n",
      "48000/48000 [==============================] - 4s - loss: 0.0158 - acc: 0.9950 - val_loss: 0.0359 - val_acc: 0.9894\n"
     ]
    }
   ],
   "source": [
    "model.compile(loss='categorical_crossentropy', optimizer='adam', metrics=['accuracy'])  \n",
    "  \n",
    "train_history = model.fit(x=X_train_norm,  \n",
    "                          y=Y_trainOneHot, validation_split=0.2,  \n",
    "                          epochs=10, batch_size=300, verbose=1)  "
   ]
  },
  {
   "cell_type": "code",
   "execution_count": 38,
   "metadata": {
    "collapsed": true
   },
   "outputs": [],
   "source": [
    "model.save(\"MNIST.h5\")"
   ]
  },
  {
   "cell_type": "code",
   "execution_count": 39,
   "metadata": {
    "collapsed": true
   },
   "outputs": [],
   "source": [
    "def show_train_history(train_history, train, validation):  \n",
    "    plt.plot(train_history.history[train])  \n",
    "    plt.plot(train_history.history[validation])  \n",
    "    plt.title('Train History')  \n",
    "    plt.ylabel(train)  \n",
    "    plt.xlabel('Epoch')  \n",
    "    plt.legend(['train', 'validation'], loc='upper left')  \n",
    "    plt.show()  "
   ]
  },
  {
   "cell_type": "code",
   "execution_count": 40,
   "metadata": {},
   "outputs": [
    {
     "data": {
      "image/png": "[encoded data removed]",
      "text/plain": [
       "<matplotlib.figure.Figure at 0x1440b54a940>"
      ]
     },
     "metadata": {},
     "output_type": "display_data"
    },
    {
     "data": {
      "image/png": "[encoded data removed]",
      "text/plain": [
       "<matplotlib.figure.Figure at 0x1440743cfd0>"
      ]
     },
     "metadata": {},
     "output_type": "display_data"
    }
   ],
   "source": [
    "show_train_history(train_history, 'acc', 'val_acc')  \n",
    "show_train_history(train_history, 'loss', 'val_loss') "
   ]
  },
  {
   "cell_type": "code",
   "execution_count": 41,
   "metadata": {},
   "outputs": [
    {
     "name": "stdout",
     "output_type": "stream",
     "text": [
      "59968/60000 [============================>.] - ETA: 0s\n",
      "[0.015435329935281576, 0.99565000000000003]\n"
     ]
    }
   ],
   "source": [
    "scores = model.evaluate(X_train_norm, Y_trainOneHot)  \n",
    "print()\n",
    "print(scores)"
   ]
  },
  {
   "cell_type": "code",
   "execution_count": 42,
   "metadata": {},
   "outputs": [
    {
     "name": "stdout",
     "output_type": "stream",
     "text": [
      "Making prediction of X_test_norm\n",
      " 9344/10000 [===========================>..] - ETA: 0s\n",
      "Show 10 prediction result :\n",
      "[7 2 1 0 4 1 4 9 5 9]\n"
     ]
    }
   ],
   "source": [
    "print(\"Making prediction of X_test_norm\")  \n",
    "prediction = model.predict_classes(X_test_norm)  # Making prediction and save result to prediction  \n",
    "print()  \n",
    "print(\"Show 10 prediction result :\")  \n",
    "print(prediction[:10])"
   ]
  },
  {
   "cell_type": "code",
   "execution_count": 43,
   "metadata": {},
   "outputs": [
    {
     "data": {
      "image/png": "[encoded data removed]",
      "text/plain": [
       "<matplotlib.figure.Figure at 0x1440b54a860>"
      ]
     },
     "metadata": {},
     "output_type": "display_data"
    }
   ],
   "source": [
    "plot_images_labels_predict(X_test, Y_test, prediction, 0)  "
   ]
  },
  {
   "cell_type": "code",
   "execution_count": 44,
   "metadata": {},
   "outputs": [
    {
     "name": "stdout",
     "output_type": "stream",
     "text": [
      "Display Confusion Matrix:\n",
      "predict    0     1     2     3    4    5    6     7    8    9\n",
      "label                                                        \n",
      "0        973     0     0     0    0    1    3     1    2    0\n",
      "1          0  1128     2     0    0    1    1     3    0    0\n",
      "2          1     0  1019     0    2    0    0     5    4    1\n",
      "3          0     0     1  1005    0    3    0     0    1    0\n",
      "4          0     0     0     0  976    0    0     1    0    5\n",
      "5          2     0     0     8    0  877    2     0    0    3\n",
      "6          2     2     0     1    2    4  947     0    0    0\n",
      "7          0     0     2     1    0    0    0  1024    1    0\n",
      "8          3     0     1     2    0    1    0     2  960    5\n",
      "9          1     2     0     0    2    2    0     4    1  997\n"
     ]
    }
   ],
   "source": [
    "import pandas as pd  \n",
    "print(\"Display Confusion Matrix:\")  \n",
    "print(pd.crosstab(Y_test, prediction, rownames=['label'], colnames=['predict']))  "
   ]
  },
  {
   "cell_type": "code",
   "execution_count": 45,
   "metadata": {},
   "outputs": [
    {
     "data": {
      "text/plain": [
       "{'acc': [0.89062499888241287,\n",
       "  0.97356250733137129,\n",
       "  0.98177084848284724,\n",
       "  0.98543751277029512,\n",
       "  0.98858334384858604,\n",
       "  0.99097917526960377,\n",
       "  0.99266667366027828,\n",
       "  0.99339583963155742,\n",
       "  0.99410417228937153,\n",
       "  0.99504167139530186],\n",
       " 'loss': [0.38785606874153017,\n",
       "  0.085900136688724163,\n",
       "  0.05779604861745611,\n",
       "  0.046906910499092194,\n",
       "  0.037184110819362105,\n",
       "  0.029700837735435925,\n",
       "  0.024652005927055142,\n",
       "  0.02046863308933098,\n",
       "  0.018667483179888221,\n",
       "  0.015844952382030895],\n",
       " 'val_acc': [0.97083334028720858,\n",
       "  0.97966668009757996,\n",
       "  0.98050000965595241,\n",
       "  0.98583334535360334,\n",
       "  0.98800001144409177,\n",
       "  0.98833334445953369,\n",
       "  0.98966667652130125,\n",
       "  0.98850000798702242,\n",
       "  0.98900001049041752,\n",
       "  0.98941667675971989],\n",
       " 'val_loss': [0.10459916857071221,\n",
       "  0.067556067858822649,\n",
       "  0.067877562250941992,\n",
       "  0.047020708885975183,\n",
       "  0.041509860358200965,\n",
       "  0.042587201774585991,\n",
       "  0.033482556353555994,\n",
       "  0.037205393071053548,\n",
       "  0.035855771333444864,\n",
       "  0.035904528491664679]}"
      ]
     },
     "execution_count": 45,
     "metadata": {},
     "output_type": "execute_result"
    }
   ],
   "source": [
    "train_history.history"
   ]
  },
  {
   "cell_type": "code",
   "execution_count": null,
   "metadata": {
    "collapsed": true
   },
   "outputs": [],
   "source": []
  }
 ],
 "metadata": {
  "kernelspec": {
   "display_name": "Python 3",
   "language": "python",
   "name": "python3"
  },
  "language_info": {
   "codemirror_mode": {
    "name": "ipython",
    "version": 3
   },
   "file_extension": ".py",
   "mimetype": "text/x-python",
   "name": "python",
   "nbconvert_exporter": "python",
   "pygments_lexer": "ipython3",
   "version": "3.6.2"
  }
 },
 "nbformat": 4,
 "nbformat_minor": 2
}
