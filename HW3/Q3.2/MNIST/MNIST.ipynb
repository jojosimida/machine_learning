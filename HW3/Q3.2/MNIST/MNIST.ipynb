{
 "cells": [
  {
   "cell_type": "code",
   "execution_count": 28,
   "metadata": {
    "collapsed": true
   },
   "outputs": [],
   "source": [
    "import numpy as np\n",
    "import os\n",
    "import matplotlib.pyplot as plt \n",
    "from keras.utils import np_utils  "
   ]
  },
  {
   "cell_type": "code",
   "execution_count": 29,
   "metadata": {
    "collapsed": true
   },
   "outputs": [],
   "source": [
    "def load_mnist(path, kind='train'):\n",
    "\n",
    "    labels_path = str(path+'/{}-labels.idx1-ubyte'.format(kind))\n",
    "    images_path = str(path+'/{}-images.idx3-ubyte'.format(kind))\n",
    "\n",
    "    with open(labels_path, 'rb') as lbpath:\n",
    "        labels = np.frombuffer(lbpath.read(), dtype=np.uint8,\n",
    "                               offset=8)\n",
    "    \n",
    "    with open(images_path, 'rb') as imgpath:\n",
    "        images = np.frombuffer(imgpath.read(), dtype=np.uint8,\n",
    "                               offset=16).reshape(len(labels), 784)\n",
    "        \n",
    "    return images, labels"
   ]
  },
  {
   "cell_type": "code",
   "execution_count": 30,
   "metadata": {
    "collapsed": true
   },
   "outputs": [],
   "source": [
    "# show the number image\n",
    "def plot_image(image):  \n",
    "    fig = plt.gcf()  \n",
    "    fig.set_size_inches(2,2)  \n",
    "    plt.imshow(image, cmap='binary')\n",
    "    plt.show()  "
   ]
  },
  {
   "cell_type": "code",
   "execution_count": 31,
   "metadata": {
    "collapsed": true
   },
   "outputs": [],
   "source": [
    "# show the image and the label\n",
    "def plot_images_labels_predict(images, labels, prediction, idx, num=10):  \n",
    "    fig = plt.gcf()  \n",
    "    fig.set_size_inches(12, 14)  \n",
    "    if num > 25: num = 25  \n",
    "    for i in range(0, num):  \n",
    "        ax=plt.subplot(5,5, 1+i)  \n",
    "        ax.imshow(images[idx], cmap='binary')  \n",
    " \n",
    "        if len(prediction) > 0:  \n",
    "            title = \"l={},p={}\".format(str(labels[idx]), str(prediction[idx]))  \n",
    "        else:  \n",
    "            title = \"l={}\".format(str(labels[idx]))  \n",
    "        ax.set_title(title, fontsize=10)  \n",
    "        ax.set_xticks([]); ax.set_yticks([])  \n",
    "        idx+=1  \n",
    "    plt.show()  "
   ]
  },
  {
   "cell_type": "code",
   "execution_count": 32,
   "metadata": {},
   "outputs": [
    {
     "name": "stdout",
     "output_type": "stream",
     "text": [
      "(60000, 28, 28)\n",
      "(10000, 28, 28)\n"
     ]
    }
   ],
   "source": [
    "# read the data in the path\n",
    "datapath = \"C:/Users/user/Desktop/MNIST dataset\"\n",
    "X_train, Y_train = load_mnist(path=datapath)\n",
    "X_test, Y_test = load_mnist(path=datapath, kind=\"t10k\")\n",
    "\n",
    "# reshape data to number of data * pixel28*28\n",
    "X_train = X_train.reshape(X_train.shape[0], 28, 28).astype('float32')\n",
    "X_test = X_test.reshape(X_test.shape[0], 28, 28).astype('float32')\n",
    "\n",
    "print(X_train.shape)\n",
    "print(X_test.shape)"
   ]
  },
  {
   "cell_type": "code",
   "execution_count": 33,
   "metadata": {},
   "outputs": [
    {
     "data": {
      "image/png": "[encoded data removed]",
      "text/plain": [
       "<matplotlib.figure.Figure at 0x2b93d843ac8>"
      ]
     },
     "metadata": {},
     "output_type": "display_data"
    }
   ],
   "source": [
    "plot_image(X_train[0])"
   ]
  },
  {
   "cell_type": "code",
   "execution_count": 34,
   "metadata": {},
   "outputs": [
    {
     "data": {
      "image/png": "[encoded data removed]",
      "text/plain": [
       "<matplotlib.figure.Figure at 0x2b93c64bc88>"
      ]
     },
     "metadata": {},
     "output_type": "display_data"
    }
   ],
   "source": [
    "plot_images_labels_predict(X_train, Y_train, [], 0, 10)"
   ]
  },
  {
   "cell_type": "code",
   "execution_count": 47,
   "metadata": {
    "collapsed": true
   },
   "outputs": [],
   "source": [
    "# Data pre-processing\n",
    "# Normalization  \n",
    "X_train_norm = X_train.reshape(X_train.shape[0], 28, 28,1)/255\n",
    "X_test_norm = X_test.reshape(X_test.shape[0], 28, 28,1)/255\n",
    "\n",
    "# Label Onehot encoding  \n",
    "Y_trainOneHot = np_utils.to_categorical(Y_train)\n",
    "Y_testOneHot = np_utils.to_categorical(Y_test)"
   ]
  },
  {
   "cell_type": "code",
   "execution_count": 36,
   "metadata": {
    "collapsed": true
   },
   "outputs": [],
   "source": [
    "from keras.models import Sequential  \n",
    "from keras.layers import Dense,Dropout,Flatten,Conv2D,MaxPooling2D  \n",
    "  \n",
    "model = Sequential()  \n",
    "# Create CN layer 1  \n",
    "model.add(Conv2D(filters=16,  \n",
    "                 kernel_size=(5,5),  \n",
    "                 padding='same',\n",
    "                 input_shape=(28,28,1),  \n",
    "                 activation='relu'))  \n",
    "# Create Max-Pool 1  \n",
    "model.add(MaxPooling2D(pool_size=(2,2)))  \n",
    "  \n",
    "# Create CN layer 2  \n",
    "model.add(Conv2D(filters=36,  \n",
    "                 kernel_size=(5,5),  \n",
    "                 padding='same',     \n",
    "                 activation='relu'))  \n",
    "  \n",
    "# Create Max-Pool 2  \n",
    "model.add(MaxPooling2D(pool_size=(2,2)))  \n",
    "  \n",
    "# # Add Dropout layer\n",
    "# model.add(Dropout(0.25)) \n",
    "\n",
    "model.add(Flatten())  "
   ]
  },
  {
   "cell_type": "code",
   "execution_count": 37,
   "metadata": {},
   "outputs": [
    {
     "name": "stdout",
     "output_type": "stream",
     "text": [
      "_________________________________________________________________\n",
      "Layer (type)                 Output Shape              Param #   \n",
      "=================================================================\n",
      "conv2d_21 (Conv2D)           (None, 28, 28, 16)        416       \n",
      "_________________________________________________________________\n",
      "max_pooling2d_21 (MaxPooling (None, 14, 14, 16)        0         \n",
      "_________________________________________________________________\n",
      "conv2d_22 (Conv2D)           (None, 14, 14, 36)        14436     \n",
      "_________________________________________________________________\n",
      "max_pooling2d_22 (MaxPooling (None, 7, 7, 36)          0         \n",
      "_________________________________________________________________\n",
      "flatten_10 (Flatten)         (None, 1764)              0         \n",
      "_________________________________________________________________\n",
      "dense_17 (Dense)             (None, 128)               225920    \n",
      "_________________________________________________________________\n",
      "dense_18 (Dense)             (None, 10)                1290      \n",
      "=================================================================\n",
      "Total params: 242,062\n",
      "Trainable params: 242,062\n",
      "Non-trainable params: 0\n",
      "_________________________________________________________________\n"
     ]
    }
   ],
   "source": [
    "model.add(Dense(128, activation='relu'))  \n",
    "# model.add(Dropout(0.5)) \n",
    "\n",
    "model.add(Dense(10, activation='softmax'))  \n",
    "model.summary()  "
   ]
  },
  {
   "cell_type": "code",
   "execution_count": 38,
   "metadata": {},
   "outputs": [
    {
     "name": "stdout",
     "output_type": "stream",
     "text": [
      "Train on 48000 samples, validate on 12000 samples\n",
      "Epoch 1/10\n",
      "54s - loss: 0.3782 - acc: 0.8997 - val_loss: 0.1061 - val_acc: 0.9690\n",
      "Epoch 2/10\n",
      "54s - loss: 0.0816 - acc: 0.9755 - val_loss: 0.0729 - val_acc: 0.9771\n",
      "Epoch 3/10\n",
      "53s - loss: 0.0573 - acc: 0.9822 - val_loss: 0.0623 - val_acc: 0.9809\n",
      "Epoch 4/10\n",
      "54s - loss: 0.0453 - acc: 0.9860 - val_loss: 0.0529 - val_acc: 0.9847\n",
      "Epoch 5/10\n",
      "55s - loss: 0.0354 - acc: 0.9894 - val_loss: 0.0411 - val_acc: 0.9875\n",
      "Epoch 6/10\n",
      "55s - loss: 0.0289 - acc: 0.9910 - val_loss: 0.0434 - val_acc: 0.9863\n",
      "Epoch 7/10\n",
      "53s - loss: 0.0242 - acc: 0.9925 - val_loss: 0.0457 - val_acc: 0.9858\n",
      "Epoch 8/10\n",
      "53s - loss: 0.0216 - acc: 0.9931 - val_loss: 0.0373 - val_acc: 0.9884\n",
      "Epoch 9/10\n",
      "52s - loss: 0.0171 - acc: 0.9947 - val_loss: 0.0327 - val_acc: 0.9895\n",
      "Epoch 10/10\n",
      "56s - loss: 0.0163 - acc: 0.9947 - val_loss: 0.0382 - val_acc: 0.9885\n"
     ]
    }
   ],
   "source": [
    "model.compile(loss='categorical_crossentropy', optimizer='adam', metrics=['accuracy'])  \n",
    "  \n",
    "train_history = model.fit(x=X_train_norm,  \n",
    "                          y=Y_trainOneHot, validation_split=0.2,  \n",
    "                          epochs=10, batch_size=300, verbose=2)  "
   ]
  },
  {
   "cell_type": "code",
   "execution_count": 39,
   "metadata": {
    "collapsed": true
   },
   "outputs": [],
   "source": [
    "model.save(\"MNIST.h5\")"
   ]
  },
  {
   "cell_type": "code",
   "execution_count": 40,
   "metadata": {
    "collapsed": true
   },
   "outputs": [],
   "source": [
    "def show_train_history(train_history, train, validation):  \n",
    "    plt.plot(train_history.history[train])  \n",
    "    plt.plot(train_history.history[validation])  \n",
    "    plt.title('Train History')  \n",
    "    plt.ylabel(train)  \n",
    "    plt.xlabel('Epoch')  \n",
    "    plt.legend(['train', 'validation'], loc='upper left')  \n",
    "    plt.show()  "
   ]
  },
  {
   "cell_type": "code",
   "execution_count": 41,
   "metadata": {},
   "outputs": [
    {
     "data": {
      "image/png": "[encoded data removed]",
      "text/plain": [
       "<matplotlib.figure.Figure at 0x2b93df78da0>"
      ]
     },
     "metadata": {},
     "output_type": "display_data"
    },
    {
     "data": {
      "image/png": "[encoded data removed]",
      "text/plain": [
       "<matplotlib.figure.Figure at 0x2b93df78dd8>"
      ]
     },
     "metadata": {},
     "output_type": "display_data"
    }
   ],
   "source": [
    "show_train_history(train_history, 'acc', 'val_acc')  \n",
    "show_train_history(train_history, 'loss', 'val_loss') "
   ]
  },
  {
   "cell_type": "code",
   "execution_count": 44,
   "metadata": {},
   "outputs": [
    {
     "name": "stdout",
     "output_type": "stream",
     "text": [
      "59936/60000 [============================>.] - ETA: 0s\n",
      "[0.01803215854313894, 0.99450000000000005]\n"
     ]
    }
   ],
   "source": [
    "scores = model.evaluate(X_train_norm, Y_trainOneHot)  \n",
    "print()\n",
    "print(scores)"
   ]
  },
  {
   "cell_type": "code",
   "execution_count": 48,
   "metadata": {},
   "outputs": [
    {
     "name": "stdout",
     "output_type": "stream",
     "text": [
      "Making prediction of X_test_norm\n",
      " 9888/10000 [============================>.] - ETA: 0s\n",
      "Show 10 prediction result :\n",
      "[7 2 1 0 4 1 4 9 5 9]\n"
     ]
    }
   ],
   "source": [
    "print(\"Making prediction of X_test_norm\")  \n",
    "prediction = model.predict_classes(X_test_norm)  # Making prediction and save result to prediction  \n",
    "print()  \n",
    "print(\"Show 10 prediction result :\")  \n",
    "print(prediction[:10])"
   ]
  },
  {
   "cell_type": "code",
   "execution_count": null,
   "metadata": {},
   "outputs": [],
   "source": [
    "plot_images_labels_predict(X_test, Y_test, prediction, idx=10)  "
   ]
  },
  {
   "cell_type": "code",
   "execution_count": 53,
   "metadata": {},
   "outputs": [
    {
     "name": "stdout",
     "output_type": "stream",
     "text": [
      "Display Confusion Matrix:\n",
      "predict    0     1     2     3    4    5    6     7    8    9\n",
      "label                                                        \n",
      "0        979     0     0     1    0    0    0     0    0    0\n",
      "1          0  1134     1     0    0    0    0     0    0    0\n",
      "2          4     4  1014     1    2    0    0     3    4    0\n",
      "3          0     0     0  1005    0    4    0     0    1    0\n",
      "4          0     1     0     0  979    0    0     0    0    2\n",
      "5          2     0     0     6    0  883    1     0    0    0\n",
      "6          7     2     0     0    2    6  940     0    1    0\n",
      "7          0     5     3     4    0    0    0  1009    1    6\n",
      "8          5     1     1     2    1    1    0     1  958    4\n",
      "9          4     3     0     0    4    3    0     0    0  995\n"
     ]
    }
   ],
   "source": [
    "import pandas as pd  \n",
    "print(\"Display Confusion Matrix:\")  \n",
    "print(pd.crosstab(Y_test, prediction, rownames=['label'], colnames=['predict']))  "
   ]
  },
  {
   "cell_type": "code",
   "execution_count": 63,
   "metadata": {},
   "outputs": [
    {
     "data": {
      "text/plain": [
       "{'acc': [0.89972916478291154,\n",
       "  0.97547917962074282,\n",
       "  0.98222918175160889,\n",
       "  0.98597918003797536,\n",
       "  0.98943751007318492,\n",
       "  0.99102084189653394,\n",
       "  0.99250000715255737,\n",
       "  0.99312500655651093,\n",
       "  0.99472917169332509,\n",
       "  0.99466667175292967],\n",
       " 'loss': [0.37824280043132602,\n",
       "  0.081615864299237728,\n",
       "  0.057344399963039902,\n",
       "  0.045316030655521901,\n",
       "  0.035444980580359699,\n",
       "  0.028897706913994625,\n",
       "  0.024179183281376027,\n",
       "  0.021629050902265589,\n",
       "  0.017055632514529861,\n",
       "  0.016278261245315662],\n",
       " 'val_acc': [0.96900000423192978,\n",
       "  0.9770833417773247,\n",
       "  0.98091668188571934,\n",
       "  0.98466667830944066,\n",
       "  0.98750001043081281,\n",
       "  0.98633334487676616,\n",
       "  0.98583334535360334,\n",
       "  0.988416676223278,\n",
       "  0.9895000085234642,\n",
       "  0.98850000947713856],\n",
       " 'val_loss': [0.10611335607245564,\n",
       "  0.072877579275518661,\n",
       "  0.06234686572570354,\n",
       "  0.052912414609454575,\n",
       "  0.041095560882240534,\n",
       "  0.043363586382474749,\n",
       "  0.045673670410178599,\n",
       "  0.037329649308230725,\n",
       "  0.032669319573324175,\n",
       "  0.03819351013517007]}"
      ]
     },
     "execution_count": 63,
     "metadata": {},
     "output_type": "execute_result"
    }
   ],
   "source": [
    "train_history.history"
   ]
  },
  {
   "cell_type": "code",
   "execution_count": null,
   "metadata": {
    "collapsed": true
   },
   "outputs": [],
   "source": []
  }
 ],
 "metadata": {
  "kernelspec": {
   "display_name": "Python 3",
   "language": "python",
   "name": "python3"
  },
  "language_info": {
   "codemirror_mode": {
    "name": "ipython",
    "version": 3
   },
   "file_extension": ".py",
   "mimetype": "text/x-python",
   "name": "python",
   "nbconvert_exporter": "python",
   "pygments_lexer": "ipython3",
   "version": "3.6.2"
  }
 },
 "nbformat": 4,
 "nbformat_minor": 2
}
